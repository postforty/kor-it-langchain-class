{
 "cells": [
  {
   "cell_type": "markdown",
   "metadata": {},
   "source": [
    "\n",
    "### Upstage Document Parse\n",
    "\n",
    "> 공식 문서 API(키 발급): <https://console.upstage.ai/docs/getting-started?utm_source=feature-cta&utm_medium=web-product-dp&utm_campaign=documentparse&utm_content=start-with-api&_gl=1*o9yzsw*_gcl_au*MTYwMTA4Mzk4Mi4xNzUxNjMzMDA4>"
   ]
  },
  {
   "cell_type": "code",
   "execution_count": 1,
   "metadata": {},
   "outputs": [],
   "source": [
    "import os\n",
    "from dotenv import load_dotenv\n",
    "load_dotenv()\n",
    "\n",
    "gemini_api_key = os.getenv(\"GEMINI_API_KEY\")\n",
    "upstage_api_key = os.getenv(\"UPSTAGE_API_KEY\")"
   ]
  },
  {
   "cell_type": "code",
   "execution_count": null,
   "metadata": {},
   "outputs": [
    {
     "name": "stdout",
     "output_type": "stream",
     "text": [
      "page_content='<h1 id='0' style='font-size:22px'>1.\t</h1> <br><table id='1' style='font-size:18px'><thead></thead><tbody><tr><td>(1) 선사 문화의</td><td>전개 •이동 생활, 동굴이나 바위 그늘 등에서 생활</td></tr><tr><td>구석기 문화 신석기 문화</td><td>•뗀석기(주먹도끼 등) 사용 •농경과 목축의 시작 •정착 생활을 통해 마을 형성(부족 사회)</td></tr></tbody></table> <br><p id='2' data-category='paragraph' style='font-size:16px'>구석기 시대에 사용된<br>인 뗀석기로, 사냥을<br>뿌리 식물을 캐는 등</p> <figure id='3'><img style='font-size:16px' alt=\"고인돌\" data-coord=\"top-left:(105,491); bottom-right:(284,601)\" /></figure> <p id='4' data-category='paragraph' style='font-size:16px'>청동기 시대의 대표적인<br>이다. 덮개돌의 무게만<br>톤에 달하는 것도 있어<br>사람의 권력을 반영하고</p> <br><figure id='5'><img alt=\"\" data-coord=\"top-left:(503,457); bottom-right:(571,545)\" /></figure> <h1 id='6' style='font-size:20px'>(2) 청동기 문화의 발달과 고조선의 성장</h1> <table id='7' style='font-size:18px'><thead></thead><tbody><tr><td>건국</td><td>우리 역사상 최초의 국가, 단군왕검(제정일치의 지배자)이 건국</td></tr><tr><td>발전</td><td>중국 세력과 겨루면서 성장 → 위만이 준왕을 몰아내고 왕위 차지(기원전 194) → 철기 문화 본격적 수용, 중계 무역을 통해 경제 성장</td></tr><tr><td>멸망</td><td>한의 침공으로 멸망(기원전 108)</td></tr><tr><td>사회</td><td>8조법으로 질서 유지</td></tr></tbody></table> <p id='8' data-category='paragraph' style='font-size:16px'>로 만주와 한반도에서<br>고 있다.</p> <br><p id='9' data-category='paragraph' style='font-size:18px'>용서를 받고자 하는 자에게는 한 사람마다 50만 전을 내게 한다. - 『한서』 -</p> <p id='10' data-category='paragraph' style='font-size:20px'>게 적용하였으며, 개인의 노동력과 사유 재산을 중시하였음을 알 수 있다. 또한 노비가 존재하는<br>계급 사회였음을 확인할 수 있다.</p> <h1 id='11' style='font-size:20px'>(1) 철기 문화 : 기원전</h1> <br><p id='12' data-category='paragraph' style='font-size:20px'>한 여러 나라들의 성립과 발전의 기반이 됨<br>(2) 군장이 통치한 옥저, 동예, 삼한</p> <br><h1 id='13' style='font-size:20px'>① 옥저·동예</h1> <br><p id='14' data-category='paragraph' style='font-size:20px'>•함경도</p> <br><h1 id='15' style='font-size:22px'>01 고대 국가의 정치 · 사회와 문화</h1> <figure id='16'><img style='font-size:16px' alt=\"주먹도끼\" data-coord=\"top-left:(162,206); bottom-right:(220,297)\" /></figure> <br><p id='17' data-category='paragraph' style='font-size:22px'>선사\t문화의\t전개와\t국가의\t성립</p> <p id='18' data-category='paragraph' style='font-size:16px'>대표적</p> <br><p id='19' data-category='paragraph' style='font-size:16px'>하거나</p> <figure id='20'><img alt=\"\" data-coord=\"top-left:(343,465); bottom-right:(475,533)\" /></figure> <br><p id='21' data-category='paragraph' style='font-size:20px'>신석기 시대 사람들은 갈돌과 갈판 등 간석기를 주로 사용하였<br>다. 또 토기를 제작하여 음식을 조리하거나 식량을 저장하였는<br>데, 빗살무늬 토기가 대표적이었다. 빗살무늬 토기는 주로 강가</p> <p id='22' data-category='list' style='font-size:20px'>① 청동기 문화 : 생산력 증대, 계급 발생, 군장 출현, 고인돌·비파형 동검 등 제작<br>② 고조선</p> <p id='23' data-category='paragraph' style='font-size:16px'>비파형</p> <figure id='24'><img alt=\"\" data-coord=\"top-left:(178,800); bottom-right:(210,912)\" /></figure> <br><p id='25' data-category='paragraph' style='font-size:20px'>자료 플러스 고조선의\t8조법</p> <p id='26' data-category='paragraph' style='font-size:16px'>1. 신석기</p> <br><p id='27' data-category='list' style='font-size:16px'>리하거나 저장하기<br>( )를 사용하였다.<br>2. 우리 역사상 최초의<br>( )은 제정일치의<br>배자인 단군왕검이<br>였다.<br>3. 위만이 집권한 이후<br>은 본격적으로 (<br>화를 수용하였다.</p> <p id='28' data-category='list' style='font-size:16px'>한국사의 이해</p> <br><p id='29' data-category='paragraph' style='font-size:16px'>다양한</p> <br><p id='30' data-category='paragraph' style='font-size:16px'>용도로 사용되었다.</p> <br><p id='31' data-category='paragraph' style='font-size:18px'>•간석기와 토기(빗살무늬 토기 등) 사용</p> <p id='32' data-category='paragraph' style='font-size:20px'>자료 플러스</p> <br><p id='33' data-category='paragraph' style='font-size:20px'>간석기와\t빗살무늬\t토기</p> <p id='34' data-category='paragraph' style='font-size:16px'>▲ 갈돌과 갈판</p> <br><p id='35' data-category='paragraph' style='font-size:20px'>의 집터 유적이나 해안가의 조개더미 유적에서 발견되고 있다.</p> <br><p id='36' data-category='paragraph' style='font-size:16px'>▲ 빗살무늬 토기</p> <p id='37' data-category='paragraph' style='font-size:16px'>무덤</p> <br><p id='38' data-category='paragraph' style='font-size:16px'>수십</p> <br><p id='39' data-category='paragraph' style='font-size:16px'>묻힌</p> <br><p id='40' data-category='paragraph' style='font-size:16px'>있다.</p> <p id='41' data-category='paragraph' style='font-size:16px'>동검</p> <p id='42' data-category='paragraph' style='font-size:16px'>청동기 시대를 대표하는 유물</p> <br><p id='43' data-category='paragraph' style='font-size:16px'>출토되</p> <br><p id='44' data-category='paragraph' style='font-size:18px'>사람을 죽인 자는 즉시 죽이고, 남에게 상처를 입힌 자는 곡식으로 갚는다. 도둑질을 한 자는 노비로 삼는데,</p> <p id='45' data-category='paragraph' style='font-size:20px'>고조선의 사회 모습은 8조법을 통해 짐작할 수 있다. 현재 전하는 3개 조항을 보면 형벌을 엄격하</p> <p id='46' data-category='paragraph' style='font-size:20px'>개념 체크</p> <br><p id='47' data-category='paragraph' style='font-size:16px'>시대에는 음식을 조</p> <br><p id='48' data-category='paragraph' style='font-size:16px'>위해</p> <p id='49' data-category='paragraph' style='font-size:16px'>국가인</p> <br><p id='50' data-category='paragraph' style='font-size:16px'>지</p> <br><p id='51' data-category='paragraph' style='font-size:22px'>2.\t여러\t나라의\t성장</p> <br><p id='52' data-category='paragraph' style='font-size:16px'>건국하</p> <br><p id='53' data-category='paragraph' style='font-size:20px'>5세기경부터 전개, 철제 무기와 농기구 사용 → 만주와 한반도에서 출현</p> <br><p id='54' data-category='paragraph' style='font-size:16px'>고조선</p> <br><p id='55' data-category='paragraph' style='font-size:16px'>) 문</p> <p id='56' data-category='paragraph' style='font-size:20px'>해안 지역(옥저)과 강원도 해안 지역(동예)에서 성장</p> <br><p id='57' data-category='paragraph' style='font-size:18px'>정답</p> <br><p id='58' data-category='paragraph' style='font-size:14px'>1. 토기 2. 고조선 3. 철기</p> <br><p id='59' data-category='paragraph' style='font-size:20px'>•읍군·삼로가 부족 지배</p> <p id='60' data-category='paragraph' style='font-size:16px'>6 EBS 수능특강 한국사_Ⅰ. 전근대</p> <p id='61' data-category='paragraph' style='font-size:14px'>책1.indb 6</p> <br><p id='62' data-category='paragraph' style='font-size:14px'>2025. 1. 2. 오후 4:43</p>' metadata={'page': 1, 'coordinates': [[{'x': 0.2651, 'y': 0.1375}, {'x': 0.3984, 'y': 0.1375}, {'x': 0.3984, 'y': 0.1538}, {'x': 0.2651, 'y': 0.1538}], [{'x': 0.2891, 'y': 0.1625}, {'x': 0.9078, 'y': 0.1625}, {'x': 0.9078, 'y': 0.2459}, {'x': 0.2891, 'y': 0.2459}], [{'x': 0.0847, 'y': 0.1983}, {'x': 0.2359, 'y': 0.1983}, {'x': 0.2359, 'y': 0.2557}, {'x': 0.0847, 'y': 0.2557}], [{'x': 0.0864, 'y': 0.3198}, {'x': 0.2339, 'y': 0.3198}, {'x': 0.2339, 'y': 0.3916}, {'x': 0.0864, 'y': 0.3916}], [{'x': 0.085, 'y': 0.4007}, {'x': 0.2356, 'y': 0.4007}, {'x': 0.2356, 'y': 0.458}, {'x': 0.085, 'y': 0.458}], [{'x': 0.4137, 'y': 0.2976}, {'x': 0.4696, 'y': 0.2976}, {'x': 0.4696, 'y': 0.3553}, {'x': 0.4137, 'y': 0.3553}], [{'x': 0.2663, 'y': 0.3965}, {'x': 0.5196, 'y': 0.3965}, {'x': 0.5196, 'y': 0.4133}, {'x': 0.2663, 'y': 0.4133}], [{'x': 0.2888, 'y': 0.4627}, {'x': 0.9086, 'y': 0.4627}, {'x': 0.9086, 'y': 0.555}, {'x': 0.2888, 'y': 0.555}], [{'x': 0.0845, 'y': 0.6028}, {'x': 0.2367, 'y': 0.6028}, {'x': 0.2367, 'y': 0.6446}, {'x': 0.0845, 'y': 0.6446}], [{'x': 0.2886, 'y': 0.611}, {'x': 0.8882, 'y': 0.611}, {'x': 0.8882, 'y': 0.6437}, {'x': 0.2886, 'y': 0.6437}], [{'x': 0.2798, 'y': 0.6581}, {'x': 0.8942, 'y': 0.6581}, {'x': 0.8942, 'y': 0.7135}, {'x': 0.2798, 'y': 0.7135}], [{'x': 0.2638, 'y': 0.7789}, {'x': 0.4148, 'y': 0.7789}, {'x': 0.4148, 'y': 0.7967}, {'x': 0.2638, 'y': 0.7967}], [{'x': 0.2648, 'y': 0.8017}, {'x': 0.9093, 'y': 0.8017}, {'x': 0.9093, 'y': 0.8404}, {'x': 0.2648, 'y': 0.8404}], [{'x': 0.2661, 'y': 0.8447}, {'x': 0.4835, 'y': 0.8447}, {'x': 0.4835, 'y': 0.8615}, {'x': 0.2661, 'y': 0.8615}], [{'x': 0.2644, 'y': 0.8646}, {'x': 0.3638, 'y': 0.8646}, {'x': 0.3638, 'y': 0.8822}, {'x': 0.2644, 'y': 0.8822}], [{'x': 0.1422, 'y': 0.0663}, {'x': 0.6023, 'y': 0.0663}, {'x': 0.6023, 'y': 0.1221}, {'x': 0.1422, 'y': 0.1221}], [{'x': 0.1332, 'y': 0.1341}, {'x': 0.1812, 'y': 0.1341}, {'x': 0.1812, 'y': 0.1934}, {'x': 0.1332, 'y': 0.1934}], [{'x': 0.3063, 'y': 0.1434}, {'x': 0.5184, 'y': 0.1434}, {'x': 0.5184, 'y': 0.16}, {'x': 0.3063, 'y': 0.16}], [{'x': 0.2261, 'y': 0.2214}, {'x': 0.2584, 'y': 0.2214}, {'x': 0.2584, 'y': 0.2327}, {'x': 0.2261, 'y': 0.2327}], [{'x': 0.2254, 'y': 0.2352}, {'x': 0.2585, 'y': 0.2352}, {'x': 0.2585, 'y': 0.2465}, {'x': 0.2254, 'y': 0.2465}], [{'x': 0.2824, 'y': 0.3027}, {'x': 0.3909, 'y': 0.3027}, {'x': 0.3909, 'y': 0.3471}, {'x': 0.2824, 'y': 0.3471}], [{'x': 0.5038, 'y': 0.2923}, {'x': 0.8983, 'y': 0.2923}, {'x': 0.8983, 'y': 0.3673}, {'x': 0.5038, 'y': 0.3673}], [{'x': 0.2649, 'y': 0.4169}, {'x': 0.8223, 'y': 0.4169}, {'x': 0.8223, 'y': 0.4554}, {'x': 0.2649, 'y': 0.4554}], [{'x': 0.0845, 'y': 0.5039}, {'x': 0.1596, 'y': 0.5039}, {'x': 0.1596, 'y': 0.5162}, {'x': 0.0845, 'y': 0.5162}], [{'x': 0.1465, 'y': 0.5213}, {'x': 0.1734, 'y': 0.5213}, {'x': 0.1734, 'y': 0.5938}, {'x': 0.1465, 'y': 0.5938}], [{'x': 0.2775, 'y': 0.5754}, {'x': 0.4941, 'y': 0.5754}, {'x': 0.4941, 'y': 0.5921}, {'x': 0.2775, 'y': 0.5921}], [{'x': 0.0987, 'y': 0.6966}, {'x': 0.1535, 'y': 0.6966}, {'x': 0.1535, 'y': 0.7096}, {'x': 0.0987, 'y': 0.7096}], [{'x': 0.0861, 'y': 0.7152}, {'x': 0.2393, 'y': 0.7152}, {'x': 0.2393, 'y': 0.8627}, {'x': 0.0861, 'y': 0.8627}], [{'x': 0.2737, 'y': 0.8864}, {'x': 0.6882, 'y': 0.8864}, {'x': 0.6882, 'y': 0.9246}, {'x': 0.2737, 'y': 0.9246}], [{'x': 0.226, 'y': 0.249}, {'x': 0.2585, 'y': 0.249}, {'x': 0.2585, 'y': 0.2603}, {'x': 0.226, 'y': 0.2603}], [{'x': 0.1237, 'y': 0.2629}, {'x': 0.2109, 'y': 0.2629}, {'x': 0.2109, 'y': 0.2742}, {'x': 0.1237, 'y': 0.2742}], [{'x': 0.3916, 'y': 0.2498}, {'x': 0.5904, 'y': 0.2498}, {'x': 0.5904, 'y': 0.2627}, {'x': 0.3916, 'y': 0.2627}], [{'x': 0.3001, 'y': 0.2835}, {'x': 0.3664, 'y': 0.2835}, {'x': 0.3664, 'y': 0.2986}, {'x': 0.3001, 'y': 0.2986}], [{'x': 0.4028, 'y': 0.2844}, {'x': 0.5413, 'y': 0.2844}, {'x': 0.5413, 'y': 0.2987}, {'x': 0.4028, 'y': 0.2987}], [{'x': 0.3173, 'y': 0.373}, {'x': 0.3844, 'y': 0.373}, {'x': 0.3844, 'y': 0.3843}, {'x': 0.3173, 'y': 0.3843}], [{'x': 0.504, 'y': 0.3618}, {'x': 0.8526, 'y': 0.3618}, {'x': 0.8526, 'y': 0.3761}, {'x': 0.504, 'y': 0.3761}], [{'x': 0.4079, 'y': 0.373}, {'x': 0.4846, 'y': 0.373}, {'x': 0.4846, 'y': 0.3843}, {'x': 0.4079, 'y': 0.3843}], [{'x': 0.236, 'y': 0.4085}, {'x': 0.2584, 'y': 0.4085}, {'x': 0.2584, 'y': 0.4199}, {'x': 0.236, 'y': 0.4199}], [{'x': 0.2357, 'y': 0.4224}, {'x': 0.2585, 'y': 0.4224}, {'x': 0.2585, 'y': 0.4337}, {'x': 0.2357, 'y': 0.4337}], [{'x': 0.2359, 'y': 0.4362}, {'x': 0.2585, 'y': 0.4362}, {'x': 0.2585, 'y': 0.4475}, {'x': 0.2359, 'y': 0.4475}], [{'x': 0.2325, 'y': 0.45}, {'x': 0.2571, 'y': 0.45}, {'x': 0.2571, 'y': 0.4614}, {'x': 0.2325, 'y': 0.4614}], [{'x': 0.1683, 'y': 0.5048}, {'x': 0.1905, 'y': 0.5048}, {'x': 0.1905, 'y': 0.5161}, {'x': 0.1683, 'y': 0.5161}], [{'x': 0.1237, 'y': 0.5957}, {'x': 0.2584, 'y': 0.5957}, {'x': 0.2584, 'y': 0.607}, {'x': 0.1237, 'y': 0.607}], [{'x': 0.2261, 'y': 0.6096}, {'x': 0.2584, 'y': 0.6096}, {'x': 0.2584, 'y': 0.6209}, {'x': 0.2261, 'y': 0.6209}], [{'x': 0.3089, 'y': 0.6042}, {'x': 0.8487, 'y': 0.6042}, {'x': 0.8487, 'y': 0.617}, {'x': 0.3089, 'y': 0.617}], [{'x': 0.2999, 'y': 0.6478}, {'x': 0.859, 'y': 0.6478}, {'x': 0.859, 'y': 0.6622}, {'x': 0.2999, 'y': 0.6622}], [{'x': 0.1358, 'y': 0.6825}, {'x': 0.1854, 'y': 0.6825}, {'x': 0.1854, 'y': 0.6969}, {'x': 0.1358, 'y': 0.6969}], [{'x': 0.1699, 'y': 0.7001}, {'x': 0.2584, 'y': 0.7001}, {'x': 0.2584, 'y': 0.7114}, {'x': 0.1699, 'y': 0.7114}], [{'x': 0.2352, 'y': 0.7133}, {'x': 0.2585, 'y': 0.7133}, {'x': 0.2585, 'y': 0.7246}, {'x': 0.2352, 'y': 0.7246}], [{'x': 0.2261, 'y': 0.7433}, {'x': 0.2584, 'y': 0.7433}, {'x': 0.2584, 'y': 0.7546}, {'x': 0.2261, 'y': 0.7546}], [{'x': 0.2461, 'y': 0.7566}, {'x': 0.2583, 'y': 0.7566}, {'x': 0.2583, 'y': 0.7677}, {'x': 0.2461, 'y': 0.7677}], [{'x': 0.2864, 'y': 0.7599}, {'x': 0.4218, 'y': 0.7599}, {'x': 0.4218, 'y': 0.7767}, {'x': 0.2864, 'y': 0.7767}], [{'x': 0.2261, 'y': 0.7697}, {'x': 0.2585, 'y': 0.7697}, {'x': 0.2585, 'y': 0.781}, {'x': 0.2261, 'y': 0.781}], [{'x': 0.4249, 'y': 0.7814}, {'x': 0.8723, 'y': 0.7814}, {'x': 0.8723, 'y': 0.7965}, {'x': 0.4249, 'y': 0.7965}], [{'x': 0.2261, 'y': 0.7996}, {'x': 0.2584, 'y': 0.7996}, {'x': 0.2584, 'y': 0.811}, {'x': 0.2261, 'y': 0.811}], [{'x': 0.2385, 'y': 0.8129}, {'x': 0.2585, 'y': 0.8129}, {'x': 0.2585, 'y': 0.8242}, {'x': 0.2385, 'y': 0.8242}], [{'x': 0.3521, 'y': 0.8594}, {'x': 0.67, 'y': 0.8594}, {'x': 0.67, 'y': 0.8744}, {'x': 0.3521, 'y': 0.8744}], [{'x': 0.1324, 'y': 0.8622}, {'x': 0.1558, 'y': 0.8622}, {'x': 0.1558, 'y': 0.8742}, {'x': 0.1324, 'y': 0.8742}], [{'x': 0.1326, 'y': 0.8759}, {'x': 0.2508, 'y': 0.8759}, {'x': 0.2508, 'y': 0.8866}, {'x': 0.1326, 'y': 0.8866}], [{'x': 0.2936, 'y': 0.8788}, {'x': 0.4532, 'y': 0.8788}, {'x': 0.4532, 'y': 0.8939}, {'x': 0.2936, 'y': 0.8939}], [{'x': 0.0937, 'y': 0.9152}, {'x': 0.2545, 'y': 0.9152}, {'x': 0.2545, 'y': 0.9303}, {'x': 0.0937, 'y': 0.9303}], [{'x': 0.06, 'y': 0.9873}, {'x': 0.1319, 'y': 0.9873}, {'x': 0.1319, 'y': 0.9964}, {'x': 0.06, 'y': 0.9964}], [{'x': 0.8555, 'y': 0.9873}, {'x': 0.9656, 'y': 0.9873}, {'x': 0.9656, 'y': 0.9964}, {'x': 0.8555, 'y': 0.9964}]]}\n"
     ]
    }
   ],
   "source": [
    "from langchain_upstage import UpstageDocumentParseLoader\n",
    "\n",
    "file_path = \"data/2026_수능특강_한국사_slice.pdf\"\n",
    "loader = UpstageDocumentParseLoader(file_path, split='page')\n",
    "\n",
    "pages = loader.load()\n",
    "for page in pages:\n",
    "    print(page)"
   ]
  },
  {
   "cell_type": "code",
   "execution_count": 3,
   "metadata": {},
   "outputs": [
    {
     "name": "stdout",
     "output_type": "stream",
     "text": [
      "<h1 id='0' style='font-size:22px'>1.\t</h1> <br><table id='1' style='font-size:18px'><thead></thead><tbody><tr><td>(1) 선사 문화의</td><td>전개 •이동 생활, 동굴이나 바위 그늘 등에서 생활</td></tr><tr><td>구석기 문화 신석기 문화</td><td>•뗀석기(주먹도끼 등) 사용 •농경과 목축의 시작 •정착 생활을 통해 마을 형성(부족 사회)</td></tr></tbody></table> <br><p id='2' data-category='paragraph' style='font-size:16px'>구석기 시대에 사용된<br>인 뗀석기로, 사냥을<br>뿌리 식물을 캐는 등</p> <figure id='3'><img style='font-size:16px' alt=\"고인돌\" data-coord=\"top-left:(105,491); bottom-right:(284,601)\" /></figure> <p id='4' data-category='paragraph' style='font-size:16px'>청동기 시대의 대표적인<br>이다. 덮개돌의 무게만<br>톤에 달하는 것도 있어<br>사람의 권력을 반영하고</p> <br><figure id='5'><img alt=\"\" data-coord=\"top-left:(503,457); bottom-right:(571,545)\" /></figure> <h1 id='6' style='font-size:20px'>(2) 청동기 문화의 발달과 고조선의 성장</h1> <table id='7' style='font-size:18px'><thead></thead><tbody><tr><td>건국</td><td>우리 역사상 최초의 국가, 단군왕검(제정일치의 지배자)이 건국</td></tr><tr><td>발전</td><td>중국 세력과 겨루면서 성장 → 위만이 준왕을 몰아내고 왕위 차지(기원전 194) → 철기 문화 본격적 수용, 중계 무역을 통해 경제 성장</td></tr><tr><td>멸망</td><td>한의 침공으로 멸망(기원전 108)</td></tr><tr><td>사회</td><td>8조법으로 질서 유지</td></tr></tbody></table> <p id='8' data-category='paragraph' style='font-size:16px'>로 만주와 한반도에서<br>고 있다.</p> <br><p id='9' data-category='paragraph' style='font-size:18px'>용서를 받고자 하는 자에게는 한 사람마다 50만 전을 내게 한다. - 『한서』 -</p> <p id='10' data-category='paragraph' style='font-size:20px'>게 적용하였으며, 개인의 노동력과 사유 재산을 중시하였음을 알 수 있다. 또한 노비가 존재하는<br>계급 사회였음을 확인할 수 있다.</p> <h1 id='11' style='font-size:20px'>(1) 철기 문화 : 기원전</h1> <br><p id='12' data-category='paragraph' style='font-size:20px'>한 여러 나라들의 성립과 발전의 기반이 됨<br>(2) 군장이 통치한 옥저, 동예, 삼한</p> <br><h1 id='13' style='font-size:20px'>① 옥저·동예</h1> <br><p id='14' data-category='paragraph' style='font-size:20px'>•함경도</p> <br><h1 id='15' style='font-size:22px'>01 고대 국가의 정치 · 사회와 문화</h1> <figure id='16'><img style='font-size:16px' alt=\"주먹도끼\" data-coord=\"top-left:(162,206); bottom-right:(220,297)\" /></figure> <br><p id='17' data-category='paragraph' style='font-size:22px'>선사\t문화의\t전개와\t국가의\t성립</p> <p id='18' data-category='paragraph' style='font-size:16px'>대표적</p> <br><p id='19' data-category='paragraph' style='font-size:16px'>하거나</p> <figure id='20'><img alt=\"\" data-coord=\"top-left:(343,465); bottom-right:(475,533)\" /></figure> <br><p id='21' data-category='paragraph' style='font-size:20px'>신석기 시대 사람들은 갈돌과 갈판 등 간석기를 주로 사용하였<br>다. 또 토기를 제작하여 음식을 조리하거나 식량을 저장하였는<br>데, 빗살무늬 토기가 대표적이었다. 빗살무늬 토기는 주로 강가</p> <p id='22' data-category='list' style='font-size:20px'>① 청동기 문화 : 생산력 증대, 계급 발생, 군장 출현, 고인돌·비파형 동검 등 제작<br>② 고조선</p> <p id='23' data-category='paragraph' style='font-size:16px'>비파형</p> <figure id='24'><img alt=\"\" data-coord=\"top-left:(178,800); bottom-right:(210,912)\" /></figure> <br><p id='25' data-category='paragraph' style='font-size:20px'>자료 플러스 고조선의\t8조법</p> <p id='26' data-category='paragraph' style='font-size:16px'>1. 신석기</p> <br><p id='27' data-category='list' style='font-size:16px'>리하거나 저장하기<br>( )를 사용하였다.<br>2. 우리 역사상 최초의<br>( )은 제정일치의<br>배자인 단군왕검이<br>였다.<br>3. 위만이 집권한 이후<br>은 본격적으로 (<br>화를 수용하였다.</p> <p id='28' data-category='list' style='font-size:16px'>한국사의 이해</p> <br><p id='29' data-category='paragraph' style='font-size:16px'>다양한</p> <br><p id='30' data-category='paragraph' style='font-size:16px'>용도로 사용되었다.</p> <br><p id='31' data-category='paragraph' style='font-size:18px'>•간석기와 토기(빗살무늬 토기 등) 사용</p> <p id='32' data-category='paragraph' style='font-size:20px'>자료 플러스</p> <br><p id='33' data-category='paragraph' style='font-size:20px'>간석기와\t빗살무늬\t토기</p> <p id='34' data-category='paragraph' style='font-size:16px'>▲ 갈돌과 갈판</p> <br><p id='35' data-category='paragraph' style='font-size:20px'>의 집터 유적이나 해안가의 조개더미 유적에서 발견되고 있다.</p> <br><p id='36' data-category='paragraph' style='font-size:16px'>▲ 빗살무늬 토기</p> <p id='37' data-category='paragraph' style='font-size:16px'>무덤</p> <br><p id='38' data-category='paragraph' style='font-size:16px'>수십</p> <br><p id='39' data-category='paragraph' style='font-size:16px'>묻힌</p> <br><p id='40' data-category='paragraph' style='font-size:16px'>있다.</p> <p id='41' data-category='paragraph' style='font-size:16px'>동검</p> <p id='42' data-category='paragraph' style='font-size:16px'>청동기 시대를 대표하는 유물</p> <br><p id='43' data-category='paragraph' style='font-size:16px'>출토되</p> <br><p id='44' data-category='paragraph' style='font-size:18px'>사람을 죽인 자는 즉시 죽이고, 남에게 상처를 입힌 자는 곡식으로 갚는다. 도둑질을 한 자는 노비로 삼는데,</p> <p id='45' data-category='paragraph' style='font-size:20px'>고조선의 사회 모습은 8조법을 통해 짐작할 수 있다. 현재 전하는 3개 조항을 보면 형벌을 엄격하</p> <p id='46' data-category='paragraph' style='font-size:20px'>개념 체크</p> <br><p id='47' data-category='paragraph' style='font-size:16px'>시대에는 음식을 조</p> <br><p id='48' data-category='paragraph' style='font-size:16px'>위해</p> <p id='49' data-category='paragraph' style='font-size:16px'>국가인</p> <br><p id='50' data-category='paragraph' style='font-size:16px'>지</p> <br><p id='51' data-category='paragraph' style='font-size:22px'>2.\t여러\t나라의\t성장</p> <br><p id='52' data-category='paragraph' style='font-size:16px'>건국하</p> <br><p id='53' data-category='paragraph' style='font-size:20px'>5세기경부터 전개, 철제 무기와 농기구 사용 → 만주와 한반도에서 출현</p> <br><p id='54' data-category='paragraph' style='font-size:16px'>고조선</p> <br><p id='55' data-category='paragraph' style='font-size:16px'>) 문</p> <p id='56' data-category='paragraph' style='font-size:20px'>해안 지역(옥저)과 강원도 해안 지역(동예)에서 성장</p> <br><p id='57' data-category='paragraph' style='font-size:18px'>정답</p> <br><p id='58' data-category='paragraph' style='font-size:14px'>1. 토기 2. 고조선 3. 철기</p> <br><p id='59' data-category='paragraph' style='font-size:20px'>•읍군·삼로가 부족 지배</p> <p id='60' data-category='paragraph' style='font-size:16px'>6 EBS 수능특강 한국사_Ⅰ. 전근대</p> <p id='61' data-category='paragraph' style='font-size:14px'>책1.indb 6</p> <br><p id='62' data-category='paragraph' style='font-size:14px'>2025. 1. 2. 오후 4:43</p>\n"
     ]
    }
   ],
   "source": [
    "print(pages[0].page_content)"
   ]
  },
  {
   "cell_type": "code",
   "execution_count": null,
   "metadata": {},
   "outputs": [],
   "source": [
    "from langchain_google_genai import ChatGoogleGenerativeAI\n",
    "from langchain_core.prompts import ChatPromptTemplate\n",
    "\n",
    "chat = ChatGoogleGenerativeAI(model=\"gemini-2.5-flash\", google_api_key=gemini_api_key)\n",
    "\n",
    "prompt = ChatPromptTemplate.from_messages(\n",
    "    [\n",
    "        (\n",
    "            \"system\",\n",
    "            \"\"\"당신은 제공된 텍스트에서 의미 있고 맥락적으로 관련된 질문을 생성하도록 설계된 고급 질문 생성기입니다.\n",
    "            주어진 텍스트를 사용하여 한국어로 사고를 자극하거나 이해력 기반의 질문을 생성하세요.\n",
    "            답변은 포함하지 마세요.\n",
    "            \\n\\n\n",
    "            {context}\"\"\",\n",
    "        ),\n",
    "        (\n",
    "            \"human\",\n",
    "            \"{input}\"\n",
    "        )\n",
    "    ]\n",
    ")\n",
    "\n",
    "chain = prompt | chat"
   ]
  },
  {
   "cell_type": "code",
   "execution_count": 5,
   "metadata": {},
   "outputs": [
    {
     "name": "stdout",
     "output_type": "stream",
     "text": [
      "page_content='<h1 id='0' style='font-size:22px'>1.\t</h1> <br><table id='1' style='font-size:18px'><thead></thead><tbody><tr><td>(1) 선사 문화의</td><td>전개 •이동 생활, 동굴이나 바위 그늘 등에서 생활</td></tr><tr><td>구석기 문화 신석기 문화</td><td>•뗀석기(주먹도끼 등) 사용 •농경과 목축의 시작 •정착 생활을 통해 마을 형성(부족 사회)</td></tr></tbody></table> <br><p id='2' data-category='paragraph' style='font-size:16px'>구석기 시대에 사용된<br>인 뗀석기로, 사냥을<br>뿌리 식물을 캐는 등</p> <figure id='3'><img style='font-size:16px' alt=\"고인돌\" data-coord=\"top-left:(105,491); bottom-right:(284,601)\" /></figure> <p id='4' data-category='paragraph' style='font-size:16px'>청동기 시대의 대표적인<br>이다. 덮개돌의 무게만<br>톤에 달하는 것도 있어<br>사람의 권력을 반영하고</p> <br><figure id='5'><img alt=\"\" data-coord=\"top-left:(503,457); bottom-right:(571,545)\" /></figure> <h1 id='6' style='font-size:20px'>(2) 청동기 문화의 발달과 고조선의 성장</h1> <table id='7' style='font-size:18px'><thead></thead><tbody><tr><td>건국</td><td>우리 역사상 최초의 국가, 단군왕검(제정일치의 지배자)이 건국</td></tr><tr><td>발전</td><td>중국 세력과 겨루면서 성장 → 위만이 준왕을 몰아내고 왕위 차지(기원전 194) → 철기 문화 본격적 수용, 중계 무역을 통해 경제 성장</td></tr><tr><td>멸망</td><td>한의 침공으로 멸망(기원전 108)</td></tr><tr><td>사회</td><td>8조법으로 질서 유지</td></tr></tbody></table> <p id='8' data-category='paragraph' style='font-size:16px'>로 만주와 한반도에서<br>고 있다.</p> <br><p id='9' data-category='paragraph' style='font-size:18px'>용서를 받고자 하는 자에게는 한 사람마다 50만 전을 내게 한다. - 『한서』 -</p> <p id='10' data-category='paragraph' style='font-size:20px'>게 적용하였으며, 개인의 노동력과 사유 재산을 중시하였음을 알 수 있다. 또한 노비가 존재하는<br>계급 사회였음을 확인할 수 있다.</p> <h1 id='11' style='font-size:20px'>(1) 철기 문화 : 기원전</h1> <br><p id='12' data-category='paragraph' style='font-size:20px'>한 여러 나라들의 성립과 발전의 기반이 됨<br>(2) 군장이 통치한 옥저, 동예, 삼한</p> <br><h1 id='13' style='font-size:20px'>① 옥저·동예</h1> <br><p id='14' data-category='paragraph' style='font-size:20px'>•함경도</p> <br><h1 id='15' style='font-size:22px'>01 고대 국가의 정치 · 사회와 문화</h1> <figure id='16'><img style='font-size:16px' alt=\"주먹도끼\" data-coord=\"top-left:(162,206); bottom-right:(220,297)\" /></figure> <br><p id='17' data-category='paragraph' style='font-size:22px'>선사\t문화의\t전개와\t국가의\t성립</p> <p id='18' data-category='paragraph' style='font-size:16px'>대표적</p> <br><p id='19' data-category='paragraph' style='font-size:16px'>하거나</p> <figure id='20'><img alt=\"\" data-coord=\"top-left:(343,465); bottom-right:(475,533)\" /></figure> <br><p id='21' data-category='paragraph' style='font-size:20px'>신석기 시대 사람들은 갈돌과 갈판 등 간석기를 주로 사용하였<br>다. 또 토기를 제작하여 음식을 조리하거나 식량을 저장하였는<br>데, 빗살무늬 토기가 대표적이었다. 빗살무늬 토기는 주로 강가</p> <p id='22' data-category='list' style='font-size:20px'>① 청동기 문화 : 생산력 증대, 계급 발생, 군장 출현, 고인돌·비파형 동검 등 제작<br>② 고조선</p> <p id='23' data-category='paragraph' style='font-size:16px'>비파형</p> <figure id='24'><img alt=\"\" data-coord=\"top-left:(178,800); bottom-right:(210,912)\" /></figure> <br><p id='25' data-category='paragraph' style='font-size:20px'>자료 플러스 고조선의\t8조법</p> <p id='26' data-category='paragraph' style='font-size:16px'>1. 신석기</p> <br><p id='27' data-category='list' style='font-size:16px'>리하거나 저장하기<br>( )를 사용하였다.<br>2. 우리 역사상 최초의<br>( )은 제정일치의<br>배자인 단군왕검이<br>였다.<br>3. 위만이 집권한 이후<br>은 본격적으로 (<br>화를 수용하였다.</p> <p id='28' data-category='list' style='font-size:16px'>한국사의 이해</p> <br><p id='29' data-category='paragraph' style='font-size:16px'>다양한</p> <br><p id='30' data-category='paragraph' style='font-size:16px'>용도로 사용되었다.</p> <br><p id='31' data-category='paragraph' style='font-size:18px'>•간석기와 토기(빗살무늬 토기 등) 사용</p> <p id='32' data-category='paragraph' style='font-size:20px'>자료 플러스</p> <br><p id='33' data-category='paragraph' style='font-size:20px'>간석기와\t빗살무늬\t토기</p> <p id='34' data-category='paragraph' style='font-size:16px'>▲ 갈돌과 갈판</p> <br><p id='35' data-category='paragraph' style='font-size:20px'>의 집터 유적이나 해안가의 조개더미 유적에서 발견되고 있다.</p> <br><p id='36' data-category='paragraph' style='font-size:16px'>▲ 빗살무늬 토기</p> <p id='37' data-category='paragraph' style='font-size:16px'>무덤</p> <br><p id='38' data-category='paragraph' style='font-size:16px'>수십</p> <br><p id='39' data-category='paragraph' style='font-size:16px'>묻힌</p> <br><p id='40' data-category='paragraph' style='font-size:16px'>있다.</p> <p id='41' data-category='paragraph' style='font-size:16px'>동검</p> <p id='42' data-category='paragraph' style='font-size:16px'>청동기 시대를 대표하는 유물</p> <br><p id='43' data-category='paragraph' style='font-size:16px'>출토되</p> <br><p id='44' data-category='paragraph' style='font-size:18px'>사람을 죽인 자는 즉시 죽이고, 남에게 상처를 입힌 자는 곡식으로 갚는다. 도둑질을 한 자는 노비로 삼는데,</p> <p id='45' data-category='paragraph' style='font-size:20px'>고조선의 사회 모습은 8조법을 통해 짐작할 수 있다. 현재 전하는 3개 조항을 보면 형벌을 엄격하</p> <p id='46' data-category='paragraph' style='font-size:20px'>개념 체크</p> <br><p id='47' data-category='paragraph' style='font-size:16px'>시대에는 음식을 조</p> <br><p id='48' data-category='paragraph' style='font-size:16px'>위해</p> <p id='49' data-category='paragraph' style='font-size:16px'>국가인</p> <br><p id='50' data-category='paragraph' style='font-size:16px'>지</p> <br><p id='51' data-category='paragraph' style='font-size:22px'>2.\t여러\t나라의\t성장</p> <br><p id='52' data-category='paragraph' style='font-size:16px'>건국하</p> <br><p id='53' data-category='paragraph' style='font-size:20px'>5세기경부터 전개, 철제 무기와 농기구 사용 → 만주와 한반도에서 출현</p> <br><p id='54' data-category='paragraph' style='font-size:16px'>고조선</p> <br><p id='55' data-category='paragraph' style='font-size:16px'>) 문</p> <p id='56' data-category='paragraph' style='font-size:20px'>해안 지역(옥저)과 강원도 해안 지역(동예)에서 성장</p> <br><p id='57' data-category='paragraph' style='font-size:18px'>정답</p> <br><p id='58' data-category='paragraph' style='font-size:14px'>1. 토기 2. 고조선 3. 철기</p> <br><p id='59' data-category='paragraph' style='font-size:20px'>•읍군·삼로가 부족 지배</p> <p id='60' data-category='paragraph' style='font-size:16px'>6 EBS 수능특강 한국사_Ⅰ. 전근대</p> <p id='61' data-category='paragraph' style='font-size:14px'>책1.indb 6</p> <br><p id='62' data-category='paragraph' style='font-size:14px'>2025. 1. 2. 오후 4:43</p>' metadata={'page': 1, 'coordinates': [[{'x': 0.2651, 'y': 0.1375}, {'x': 0.3984, 'y': 0.1375}, {'x': 0.3984, 'y': 0.1538}, {'x': 0.2651, 'y': 0.1538}], [{'x': 0.2891, 'y': 0.1625}, {'x': 0.9078, 'y': 0.1625}, {'x': 0.9078, 'y': 0.2459}, {'x': 0.2891, 'y': 0.2459}], [{'x': 0.0847, 'y': 0.1983}, {'x': 0.2359, 'y': 0.1983}, {'x': 0.2359, 'y': 0.2557}, {'x': 0.0847, 'y': 0.2557}], [{'x': 0.0864, 'y': 0.3198}, {'x': 0.2339, 'y': 0.3198}, {'x': 0.2339, 'y': 0.3916}, {'x': 0.0864, 'y': 0.3916}], [{'x': 0.085, 'y': 0.4007}, {'x': 0.2356, 'y': 0.4007}, {'x': 0.2356, 'y': 0.458}, {'x': 0.085, 'y': 0.458}], [{'x': 0.4137, 'y': 0.2976}, {'x': 0.4696, 'y': 0.2976}, {'x': 0.4696, 'y': 0.3553}, {'x': 0.4137, 'y': 0.3553}], [{'x': 0.2663, 'y': 0.3965}, {'x': 0.5196, 'y': 0.3965}, {'x': 0.5196, 'y': 0.4133}, {'x': 0.2663, 'y': 0.4133}], [{'x': 0.2888, 'y': 0.4627}, {'x': 0.9086, 'y': 0.4627}, {'x': 0.9086, 'y': 0.555}, {'x': 0.2888, 'y': 0.555}], [{'x': 0.0845, 'y': 0.6028}, {'x': 0.2367, 'y': 0.6028}, {'x': 0.2367, 'y': 0.6446}, {'x': 0.0845, 'y': 0.6446}], [{'x': 0.2886, 'y': 0.611}, {'x': 0.8882, 'y': 0.611}, {'x': 0.8882, 'y': 0.6437}, {'x': 0.2886, 'y': 0.6437}], [{'x': 0.2798, 'y': 0.6581}, {'x': 0.8942, 'y': 0.6581}, {'x': 0.8942, 'y': 0.7135}, {'x': 0.2798, 'y': 0.7135}], [{'x': 0.2638, 'y': 0.7789}, {'x': 0.4148, 'y': 0.7789}, {'x': 0.4148, 'y': 0.7967}, {'x': 0.2638, 'y': 0.7967}], [{'x': 0.2648, 'y': 0.8017}, {'x': 0.9093, 'y': 0.8017}, {'x': 0.9093, 'y': 0.8404}, {'x': 0.2648, 'y': 0.8404}], [{'x': 0.2661, 'y': 0.8447}, {'x': 0.4835, 'y': 0.8447}, {'x': 0.4835, 'y': 0.8615}, {'x': 0.2661, 'y': 0.8615}], [{'x': 0.2644, 'y': 0.8646}, {'x': 0.3638, 'y': 0.8646}, {'x': 0.3638, 'y': 0.8822}, {'x': 0.2644, 'y': 0.8822}], [{'x': 0.1422, 'y': 0.0663}, {'x': 0.6023, 'y': 0.0663}, {'x': 0.6023, 'y': 0.1221}, {'x': 0.1422, 'y': 0.1221}], [{'x': 0.1332, 'y': 0.1341}, {'x': 0.1812, 'y': 0.1341}, {'x': 0.1812, 'y': 0.1934}, {'x': 0.1332, 'y': 0.1934}], [{'x': 0.3063, 'y': 0.1434}, {'x': 0.5184, 'y': 0.1434}, {'x': 0.5184, 'y': 0.16}, {'x': 0.3063, 'y': 0.16}], [{'x': 0.2261, 'y': 0.2214}, {'x': 0.2584, 'y': 0.2214}, {'x': 0.2584, 'y': 0.2327}, {'x': 0.2261, 'y': 0.2327}], [{'x': 0.2254, 'y': 0.2352}, {'x': 0.2585, 'y': 0.2352}, {'x': 0.2585, 'y': 0.2465}, {'x': 0.2254, 'y': 0.2465}], [{'x': 0.2824, 'y': 0.3027}, {'x': 0.3909, 'y': 0.3027}, {'x': 0.3909, 'y': 0.3471}, {'x': 0.2824, 'y': 0.3471}], [{'x': 0.5038, 'y': 0.2923}, {'x': 0.8983, 'y': 0.2923}, {'x': 0.8983, 'y': 0.3673}, {'x': 0.5038, 'y': 0.3673}], [{'x': 0.2649, 'y': 0.4169}, {'x': 0.8223, 'y': 0.4169}, {'x': 0.8223, 'y': 0.4554}, {'x': 0.2649, 'y': 0.4554}], [{'x': 0.0845, 'y': 0.5039}, {'x': 0.1596, 'y': 0.5039}, {'x': 0.1596, 'y': 0.5162}, {'x': 0.0845, 'y': 0.5162}], [{'x': 0.1465, 'y': 0.5213}, {'x': 0.1734, 'y': 0.5213}, {'x': 0.1734, 'y': 0.5938}, {'x': 0.1465, 'y': 0.5938}], [{'x': 0.2775, 'y': 0.5754}, {'x': 0.4941, 'y': 0.5754}, {'x': 0.4941, 'y': 0.5921}, {'x': 0.2775, 'y': 0.5921}], [{'x': 0.0987, 'y': 0.6966}, {'x': 0.1535, 'y': 0.6966}, {'x': 0.1535, 'y': 0.7096}, {'x': 0.0987, 'y': 0.7096}], [{'x': 0.0861, 'y': 0.7152}, {'x': 0.2393, 'y': 0.7152}, {'x': 0.2393, 'y': 0.8627}, {'x': 0.0861, 'y': 0.8627}], [{'x': 0.2737, 'y': 0.8864}, {'x': 0.6882, 'y': 0.8864}, {'x': 0.6882, 'y': 0.9246}, {'x': 0.2737, 'y': 0.9246}], [{'x': 0.226, 'y': 0.249}, {'x': 0.2585, 'y': 0.249}, {'x': 0.2585, 'y': 0.2603}, {'x': 0.226, 'y': 0.2603}], [{'x': 0.1237, 'y': 0.2629}, {'x': 0.2109, 'y': 0.2629}, {'x': 0.2109, 'y': 0.2742}, {'x': 0.1237, 'y': 0.2742}], [{'x': 0.3916, 'y': 0.2498}, {'x': 0.5904, 'y': 0.2498}, {'x': 0.5904, 'y': 0.2627}, {'x': 0.3916, 'y': 0.2627}], [{'x': 0.3001, 'y': 0.2835}, {'x': 0.3664, 'y': 0.2835}, {'x': 0.3664, 'y': 0.2986}, {'x': 0.3001, 'y': 0.2986}], [{'x': 0.4028, 'y': 0.2844}, {'x': 0.5413, 'y': 0.2844}, {'x': 0.5413, 'y': 0.2987}, {'x': 0.4028, 'y': 0.2987}], [{'x': 0.3173, 'y': 0.373}, {'x': 0.3844, 'y': 0.373}, {'x': 0.3844, 'y': 0.3843}, {'x': 0.3173, 'y': 0.3843}], [{'x': 0.504, 'y': 0.3618}, {'x': 0.8526, 'y': 0.3618}, {'x': 0.8526, 'y': 0.3761}, {'x': 0.504, 'y': 0.3761}], [{'x': 0.4079, 'y': 0.373}, {'x': 0.4846, 'y': 0.373}, {'x': 0.4846, 'y': 0.3843}, {'x': 0.4079, 'y': 0.3843}], [{'x': 0.236, 'y': 0.4085}, {'x': 0.2584, 'y': 0.4085}, {'x': 0.2584, 'y': 0.4199}, {'x': 0.236, 'y': 0.4199}], [{'x': 0.2357, 'y': 0.4224}, {'x': 0.2585, 'y': 0.4224}, {'x': 0.2585, 'y': 0.4337}, {'x': 0.2357, 'y': 0.4337}], [{'x': 0.2359, 'y': 0.4362}, {'x': 0.2585, 'y': 0.4362}, {'x': 0.2585, 'y': 0.4475}, {'x': 0.2359, 'y': 0.4475}], [{'x': 0.2325, 'y': 0.45}, {'x': 0.2571, 'y': 0.45}, {'x': 0.2571, 'y': 0.4614}, {'x': 0.2325, 'y': 0.4614}], [{'x': 0.1683, 'y': 0.5048}, {'x': 0.1905, 'y': 0.5048}, {'x': 0.1905, 'y': 0.5161}, {'x': 0.1683, 'y': 0.5161}], [{'x': 0.1237, 'y': 0.5957}, {'x': 0.2584, 'y': 0.5957}, {'x': 0.2584, 'y': 0.607}, {'x': 0.1237, 'y': 0.607}], [{'x': 0.2261, 'y': 0.6096}, {'x': 0.2584, 'y': 0.6096}, {'x': 0.2584, 'y': 0.6209}, {'x': 0.2261, 'y': 0.6209}], [{'x': 0.3089, 'y': 0.6042}, {'x': 0.8487, 'y': 0.6042}, {'x': 0.8487, 'y': 0.617}, {'x': 0.3089, 'y': 0.617}], [{'x': 0.2999, 'y': 0.6478}, {'x': 0.859, 'y': 0.6478}, {'x': 0.859, 'y': 0.6622}, {'x': 0.2999, 'y': 0.6622}], [{'x': 0.1358, 'y': 0.6825}, {'x': 0.1854, 'y': 0.6825}, {'x': 0.1854, 'y': 0.6969}, {'x': 0.1358, 'y': 0.6969}], [{'x': 0.1699, 'y': 0.7001}, {'x': 0.2584, 'y': 0.7001}, {'x': 0.2584, 'y': 0.7114}, {'x': 0.1699, 'y': 0.7114}], [{'x': 0.2352, 'y': 0.7133}, {'x': 0.2585, 'y': 0.7133}, {'x': 0.2585, 'y': 0.7246}, {'x': 0.2352, 'y': 0.7246}], [{'x': 0.2261, 'y': 0.7433}, {'x': 0.2584, 'y': 0.7433}, {'x': 0.2584, 'y': 0.7546}, {'x': 0.2261, 'y': 0.7546}], [{'x': 0.2461, 'y': 0.7566}, {'x': 0.2583, 'y': 0.7566}, {'x': 0.2583, 'y': 0.7677}, {'x': 0.2461, 'y': 0.7677}], [{'x': 0.2864, 'y': 0.7599}, {'x': 0.4218, 'y': 0.7599}, {'x': 0.4218, 'y': 0.7767}, {'x': 0.2864, 'y': 0.7767}], [{'x': 0.2261, 'y': 0.7697}, {'x': 0.2585, 'y': 0.7697}, {'x': 0.2585, 'y': 0.781}, {'x': 0.2261, 'y': 0.781}], [{'x': 0.4249, 'y': 0.7814}, {'x': 0.8723, 'y': 0.7814}, {'x': 0.8723, 'y': 0.7965}, {'x': 0.4249, 'y': 0.7965}], [{'x': 0.2261, 'y': 0.7996}, {'x': 0.2584, 'y': 0.7996}, {'x': 0.2584, 'y': 0.811}, {'x': 0.2261, 'y': 0.811}], [{'x': 0.2385, 'y': 0.8129}, {'x': 0.2585, 'y': 0.8129}, {'x': 0.2585, 'y': 0.8242}, {'x': 0.2385, 'y': 0.8242}], [{'x': 0.3521, 'y': 0.8594}, {'x': 0.67, 'y': 0.8594}, {'x': 0.67, 'y': 0.8744}, {'x': 0.3521, 'y': 0.8744}], [{'x': 0.1324, 'y': 0.8622}, {'x': 0.1558, 'y': 0.8622}, {'x': 0.1558, 'y': 0.8742}, {'x': 0.1324, 'y': 0.8742}], [{'x': 0.1326, 'y': 0.8759}, {'x': 0.2508, 'y': 0.8759}, {'x': 0.2508, 'y': 0.8866}, {'x': 0.1326, 'y': 0.8866}], [{'x': 0.2936, 'y': 0.8788}, {'x': 0.4532, 'y': 0.8788}, {'x': 0.4532, 'y': 0.8939}, {'x': 0.2936, 'y': 0.8939}], [{'x': 0.0937, 'y': 0.9152}, {'x': 0.2545, 'y': 0.9152}, {'x': 0.2545, 'y': 0.9303}, {'x': 0.0937, 'y': 0.9303}], [{'x': 0.06, 'y': 0.9873}, {'x': 0.1319, 'y': 0.9873}, {'x': 0.1319, 'y': 0.9964}, {'x': 0.06, 'y': 0.9964}], [{'x': 0.8555, 'y': 0.9873}, {'x': 0.9656, 'y': 0.9873}, {'x': 0.9656, 'y': 0.9964}, {'x': 0.8555, 'y': 0.9964}]]}\n"
     ]
    }
   ],
   "source": [
    "pdf_context = ''\n",
    "for page in pages:\n",
    "    print(page)\n",
    "    pdf_context += page.page_content"
   ]
  },
  {
   "cell_type": "code",
   "execution_count": 7,
   "metadata": {},
   "outputs": [
    {
     "data": {
      "text/plain": [
       "str"
      ]
     },
     "execution_count": 7,
     "metadata": {},
     "output_type": "execute_result"
    }
   ],
   "source": [
    "type(pdf_context)"
   ]
  },
  {
   "cell_type": "markdown",
   "metadata": {},
   "source": [
    "upstage 크레딧 낭비 방지!"
   ]
  },
  {
   "cell_type": "code",
   "execution_count": 8,
   "metadata": {},
   "outputs": [],
   "source": [
    "with open(\"temp.txt\", \"w\", encoding=\"utf-8\") as f:\n",
    "    f.write(pdf_context)"
   ]
  },
  {
   "cell_type": "code",
   "execution_count": 9,
   "metadata": {},
   "outputs": [],
   "source": [
    "pdf_context = \"\"\n",
    "with open(\"temp.txt\", \"r\", encoding=\"utf-8\") as f:\n",
    "    pdf_context = f.read()"
   ]
  },
  {
   "cell_type": "code",
   "execution_count": 10,
   "metadata": {},
   "outputs": [
    {
     "data": {
      "text/plain": [
       "'<h1 id=\\'0\\' style=\\'font-size:22px\\'>1.\\t</h1> <br><table id=\\'1\\' style=\\'font-size:18px\\'><thead></thead><tbody><tr><td>(1) 선사 문화의</td><td>전개 •이동 생활, 동굴이나 바위 그늘 등에서 생활</td></tr><tr><td>구석기 문화 신석기 문화</td><td>•뗀석기(주먹도끼 등) 사용 •농경과 목축의 시작 •정착 생활을 통해 마을 형성(부족 사회)</td></tr></tbody></table> <br><p id=\\'2\\' data-category=\\'paragraph\\' style=\\'font-size:16px\\'>구석기 시대에 사용된<br>인 뗀석기로, 사냥을<br>뿌리 식물을 캐는 등</p> <figure id=\\'3\\'><img style=\\'font-size:16px\\' alt=\"고인돌\" data-coord=\"top-left:(105,491); bottom-right:(284,601)\" /></figure> <p id=\\'4\\' data-category=\\'paragraph\\' style=\\'font-size:16px\\'>청동기 시대의 대표적인<br>이다. 덮개돌의 무게만<br>톤에 달하는 것도 있어<br>사람의 권력을 반영하고</p> <br><figure id=\\'5\\'><img alt=\"\" data-coord=\"top-left:(503,457); bottom-right:(571,545)\" /></figure> <h1 id=\\'6\\' style=\\'font-size:20px\\'>(2) 청동기 문화의 발달과 고조선의 성장</h1> <table id=\\'7\\' style=\\'font-size:18px\\'><thead></thead><tbody><tr><td>건국</td><td>우리 역사상 최초의 국가, 단군왕검(제정일치의 지배자)이 건국</td></tr><tr><td>발전</td><td>중국 세력과 겨루면서 성장 → 위만이 준왕을 몰아내고 왕위 차지(기원전 194) → 철기 문화 본격적 수용, 중계 무역을 통해 경제 성장</td></tr><tr><td>멸망</td><td>한의 침공으로 멸망(기원전 108)</td></tr><tr><td>사회</td><td>8조법으로 질서 유지</td></tr></tbody></table> <p id=\\'8\\' data-category=\\'paragraph\\' style=\\'font-size:16px\\'>로 만주와 한반도에서<br>고 있다.</p> <br><p id=\\'9\\' data-category=\\'paragraph\\' style=\\'font-size:18px\\'>용서를 받고자 하는 자에게는 한 사람마다 50만 전을 내게 한다. - 『한서』 -</p> <p id=\\'10\\' data-category=\\'paragraph\\' style=\\'font-size:20px\\'>게 적용하였으며, 개인의 노동력과 사유 재산을 중시하였음을 알 수 있다. 또한 노비가 존재하는<br>계급 사회였음을 확인할 수 있다.</p> <h1 id=\\'11\\' style=\\'font-size:20px\\'>(1) 철기 문화 : 기원전</h1> <br><p id=\\'12\\' data-category=\\'paragraph\\' style=\\'font-size:20px\\'>한 여러 나라들의 성립과 발전의 기반이 됨<br>(2) 군장이 통치한 옥저, 동예, 삼한</p> <br><h1 id=\\'13\\' style=\\'font-size:20px\\'>① 옥저·동예</h1> <br><p id=\\'14\\' data-category=\\'paragraph\\' style=\\'font-size:20px\\'>•함경도</p> <br><h1 id=\\'15\\' style=\\'font-size:22px\\'>01 고대 국가의 정치\\u2009·\\u2009사회와 문화</h1> <figure id=\\'16\\'><img style=\\'font-size:16px\\' alt=\"주먹도끼\" data-coord=\"top-left:(162,206); bottom-right:(220,297)\" /></figure> <br><p id=\\'17\\' data-category=\\'paragraph\\' style=\\'font-size:22px\\'>선사\\t문화의\\t전개와\\t국가의\\t성립</p> <p id=\\'18\\' data-category=\\'paragraph\\' style=\\'font-size:16px\\'>대표적</p> <br><p id=\\'19\\' data-category=\\'paragraph\\' style=\\'font-size:16px\\'>하거나</p> <figure id=\\'20\\'><img alt=\"\" data-coord=\"top-left:(343,465); bottom-right:(475,533)\" /></figure> <br><p id=\\'21\\' data-category=\\'paragraph\\' style=\\'font-size:20px\\'>신석기 시대 사람들은 갈돌과 갈판 등 간석기를 주로 사용하였<br>다. 또 토기를 제작하여 음식을 조리하거나 식량을 저장하였는<br>데, 빗살무늬 토기가 대표적이었다. 빗살무늬 토기는 주로 강가</p> <p id=\\'22\\' data-category=\\'list\\' style=\\'font-size:20px\\'>① 청동기 문화 : 생산력 증대, 계급 발생, 군장 출현, 고인돌·비파형 동검 등 제작<br>② 고조선</p> <p id=\\'23\\' data-category=\\'paragraph\\' style=\\'font-size:16px\\'>비파형</p> <figure id=\\'24\\'><img alt=\"\" data-coord=\"top-left:(178,800); bottom-right:(210,912)\" /></figure> <br><p id=\\'25\\' data-category=\\'paragraph\\' style=\\'font-size:20px\\'>자료 플러스 고조선의\\t8조법</p> <p id=\\'26\\' data-category=\\'paragraph\\' style=\\'font-size:16px\\'>1. 신석기</p> <br><p id=\\'27\\' data-category=\\'list\\' style=\\'font-size:16px\\'>리하거나 저장하기<br>( )를 사용하였다.<br>2. 우리 역사상 최초의<br>( )은 제정일치의<br>배자인 단군왕검이<br>였다.<br>3. 위만이 집권한 이후<br>은 본격적으로 (<br>화를 수용하였다.</p> <p id=\\'28\\' data-category=\\'list\\' style=\\'font-size:16px\\'>한국사의 이해</p> <br><p id=\\'29\\' data-category=\\'paragraph\\' style=\\'font-size:16px\\'>다양한</p> <br><p id=\\'30\\' data-category=\\'paragraph\\' style=\\'font-size:16px\\'>용도로 사용되었다.</p> <br><p id=\\'31\\' data-category=\\'paragraph\\' style=\\'font-size:18px\\'>•간석기와 토기(빗살무늬 토기 등) 사용</p> <p id=\\'32\\' data-category=\\'paragraph\\' style=\\'font-size:20px\\'>자료 플러스</p> <br><p id=\\'33\\' data-category=\\'paragraph\\' style=\\'font-size:20px\\'>간석기와\\t빗살무늬\\t토기</p> <p id=\\'34\\' data-category=\\'paragraph\\' style=\\'font-size:16px\\'>▲ 갈돌과 갈판</p> <br><p id=\\'35\\' data-category=\\'paragraph\\' style=\\'font-size:20px\\'>의 집터 유적이나 해안가의 조개더미 유적에서 발견되고 있다.</p> <br><p id=\\'36\\' data-category=\\'paragraph\\' style=\\'font-size:16px\\'>▲ 빗살무늬 토기</p> <p id=\\'37\\' data-category=\\'paragraph\\' style=\\'font-size:16px\\'>무덤</p> <br><p id=\\'38\\' data-category=\\'paragraph\\' style=\\'font-size:16px\\'>수십</p> <br><p id=\\'39\\' data-category=\\'paragraph\\' style=\\'font-size:16px\\'>묻힌</p> <br><p id=\\'40\\' data-category=\\'paragraph\\' style=\\'font-size:16px\\'>있다.</p> <p id=\\'41\\' data-category=\\'paragraph\\' style=\\'font-size:16px\\'>동검</p> <p id=\\'42\\' data-category=\\'paragraph\\' style=\\'font-size:16px\\'>청동기 시대를 대표하는 유물</p> <br><p id=\\'43\\' data-category=\\'paragraph\\' style=\\'font-size:16px\\'>출토되</p> <br><p id=\\'44\\' data-category=\\'paragraph\\' style=\\'font-size:18px\\'>사람을 죽인 자는 즉시 죽이고, 남에게 상처를 입힌 자는 곡식으로 갚는다. 도둑질을 한 자는 노비로 삼는데,</p> <p id=\\'45\\' data-category=\\'paragraph\\' style=\\'font-size:20px\\'>고조선의 사회 모습은 8조법을 통해 짐작할 수 있다. 현재 전하는 3개 조항을 보면 형벌을 엄격하</p> <p id=\\'46\\' data-category=\\'paragraph\\' style=\\'font-size:20px\\'>개념 체크</p> <br><p id=\\'47\\' data-category=\\'paragraph\\' style=\\'font-size:16px\\'>시대에는 음식을 조</p> <br><p id=\\'48\\' data-category=\\'paragraph\\' style=\\'font-size:16px\\'>위해</p> <p id=\\'49\\' data-category=\\'paragraph\\' style=\\'font-size:16px\\'>국가인</p> <br><p id=\\'50\\' data-category=\\'paragraph\\' style=\\'font-size:16px\\'>지</p> <br><p id=\\'51\\' data-category=\\'paragraph\\' style=\\'font-size:22px\\'>2.\\t여러\\t나라의\\t성장</p> <br><p id=\\'52\\' data-category=\\'paragraph\\' style=\\'font-size:16px\\'>건국하</p> <br><p id=\\'53\\' data-category=\\'paragraph\\' style=\\'font-size:20px\\'>5세기경부터 전개, 철제 무기와 농기구 사용 → 만주와 한반도에서 출현</p> <br><p id=\\'54\\' data-category=\\'paragraph\\' style=\\'font-size:16px\\'>고조선</p> <br><p id=\\'55\\' data-category=\\'paragraph\\' style=\\'font-size:16px\\'>) 문</p> <p id=\\'56\\' data-category=\\'paragraph\\' style=\\'font-size:20px\\'>해안 지역(옥저)과 강원도 해안 지역(동예)에서 성장</p> <br><p id=\\'57\\' data-category=\\'paragraph\\' style=\\'font-size:18px\\'>정답</p> <br><p id=\\'58\\' data-category=\\'paragraph\\' style=\\'font-size:14px\\'>1. 토기 2. 고조선 3. 철기</p> <br><p id=\\'59\\' data-category=\\'paragraph\\' style=\\'font-size:20px\\'>•읍군·삼로가 부족 지배</p> <p id=\\'60\\' data-category=\\'paragraph\\' style=\\'font-size:16px\\'>6 EBS 수능특강 한국사_Ⅰ. 전근대</p> <p id=\\'61\\' data-category=\\'paragraph\\' style=\\'font-size:14px\\'>책1.indb 6</p> <br><p id=\\'62\\' data-category=\\'paragraph\\' style=\\'font-size:14px\\'>2025. 1. 2. 오후 4:43</p>'"
      ]
     },
     "execution_count": 10,
     "metadata": {},
     "output_type": "execute_result"
    }
   ],
   "source": [
    "pdf_context"
   ]
  },
  {
   "cell_type": "code",
   "execution_count": 11,
   "metadata": {},
   "outputs": [
    {
     "name": "stdout",
     "output_type": "stream",
     "text": [
      "다음은 제공된 텍스트를 바탕으로 생성된 4지선다형 질문 3문항입니다.\n",
      "\n",
      "---\n",
      "\n",
      "**1. 다음 중 신석기 시대의 특징으로 옳은 것은?**\n",
      "① 주로 동굴이나 바위 그늘에서 이동 생활을 하였다.\n",
      "② 뗀석기를 사용하여 사냥이나 채집 활동을 하였다.\n",
      "③ 농경과 목축을 시작하여 정착 생활을 하였다.\n",
      "④ 고인돌을 제작하고 계급 사회가 발생하였다.\n",
      "\n",
      "**2. 고조선에 대한 설명으로 옳지 않은 것은?**\n",
      "① 우리 역사상 최초의 국가로, 단군왕검이 건국하였다.\n",
      "② 위만이 집권한 이후 철기 문화를 본격적으로 수용하였다.\n",
      "③ 한의 침공으로 멸망하기 전까지 중계 무역을 통해 경제적 성장을 이루었다.\n",
      "④ 8조법을 통해 개인의 사유 재산이 중시되지 않았음을 알 수 있다.\n",
      "\n",
      "**3. 철기 문화를 바탕으로 성장한 옥저와 동예에 대한 설명으로 옳은 것은?**\n",
      "① 철제 농기구가 사용되지 않아 생산력이 낮았다.\n",
      "② 만주와 한반도에서 강력한 중앙 집권 국가로 발전하였다.\n",
      "③ 읍군·삼로와 같은 군장이 부족을 지배하였다.\n",
      "④ 고조선이 건국되기 이전에 이미 성립한 국가들이었다.\n"
     ]
    }
   ],
   "source": [
    "response = chain.invoke({\n",
    "    \"context\": pdf_context, \"input\": \"4지선다 3문항을 만들어 주세요.\"\n",
    "})\n",
    "print(response.content)\n"
   ]
  },
  {
   "cell_type": "code",
   "execution_count": 12,
   "metadata": {},
   "outputs": [
    {
     "name": "stdout",
     "output_type": "stream",
     "text": [
      "제공된 텍스트를 바탕으로 다음 질문에 답하시오.\n",
      "\n",
      "1.  구석기 시대와 비교하여 신석기 시대에 나타난 농경과 목축의 시작, 그리고 정착 생활이 당시 사람들의 생활 방식 및 사회 구조에 어떤 변화를 가져왔는지 설명하시오.\n",
      "2.  고조선의 8조법에 남아 있는 세 가지 조항(사람을 죽인 자, 남에게 상처를 입힌 자, 도둑질을 한 자)을 통해 고조선 사회가 어떤 특징을 가지고 있었는지 구체적으로 서술하시오.\n"
     ]
    }
   ],
   "source": [
    "response = chain.invoke({\n",
    "    \"context\": pdf_context, \"input\": \"주관식 2문항을 만들어 주세요.\"\n",
    "})\n",
    "print(response.content)"
   ]
  }
 ],
 "metadata": {
  "kernelspec": {
   "display_name": ".venv",
   "language": "python",
   "name": "python3"
  },
  "language_info": {
   "codemirror_mode": {
    "name": "ipython",
    "version": 3
   },
   "file_extension": ".py",
   "mimetype": "text/x-python",
   "name": "python",
   "nbconvert_exporter": "python",
   "pygments_lexer": "ipython3",
   "version": "3.13.5"
  }
 },
 "nbformat": 4,
 "nbformat_minor": 2
}
