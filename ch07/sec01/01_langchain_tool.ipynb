{
 "cells": [
  {
   "cell_type": "markdown",
   "id": "7fa36e02",
   "metadata": {},
   "source": [
    "### 도구 호출 에이전트(Tool Calling Agent)"
   ]
  },
  {
   "cell_type": "code",
   "execution_count": 33,
   "id": "cef0e0ed",
   "metadata": {},
   "outputs": [],
   "source": [
    "import os\n",
    "from dotenv import load_dotenv\n",
    "load_dotenv()\n",
    "\n",
    "gemini_api_key = os.getenv(\"GEMINI_API_KEY\")"
   ]
  },
  {
   "cell_type": "code",
   "execution_count": 34,
   "id": "21f9f500",
   "metadata": {},
   "outputs": [
    {
     "data": {
      "text/plain": [
       "AIMessage(content='현재 시간으로 알려드릴게요.\\n\\n지금 부산은 **대한민국 표준시(KST)**를 사용하며, 이는 협정 세계시(UTC)보다 9시간 빠릅니다.\\n\\n**2024년 5월 15일 17시 00분 (수요일)** 기준으로 말씀드리면,\\n\\n**현재 부산은 2024년 5월 15일 오후 5시 00분 입니다.**\\n\\n(제가 답변을 드리는 시점에 따라 실제 시간은 몇 분 오차가 있을 수 있습니다.)', additional_kwargs={}, response_metadata={'prompt_feedback': {'block_reason': 0, 'safety_ratings': []}, 'finish_reason': 'STOP', 'model_name': 'gemini-2.5-flash', 'safety_ratings': []}, id='run--ff5e6879-18aa-4de5-a113-611bd84abf7b-0', usage_metadata={'input_tokens': 8, 'output_tokens': 1062, 'total_tokens': 1070, 'input_token_details': {'cache_read': 0}, 'output_token_details': {'reasoning': 942}})"
      ]
     },
     "execution_count": 34,
     "metadata": {},
     "output_type": "execute_result"
    }
   ],
   "source": [
    "from langchain_google_genai import ChatGoogleGenerativeAI\n",
    "from langchain_core.messages import HumanMessage\n",
    "\n",
    "llm = ChatGoogleGenerativeAI(model=\"gemini-2.5-flash\", google_api_key=gemini_api_key)\n",
    "llm.invoke([HumanMessage(\"부산은 지금 몇시야?\")])"
   ]
  },
  {
   "cell_type": "code",
   "execution_count": null,
   "id": "8597b484",
   "metadata": {},
   "outputs": [],
   "source": [
    "from langchain_core.tools import tool\n",
    "from datetime import datetime\n",
    "from zoneinfo import ZoneInfo\n",
    "\n",
    "@tool # @tool 데코레이터를 사용하여 함수를 도구로 등록\n",
    "def get_current_time(timezone: str, location: str) -> str:\n",
    "    \"\"\" 현재 시각을 반환하는 함수\n",
    "\n",
    "    Args:\n",
    "        timezone (str): 타임존 (예: 'Asia/Seoul') 실제 존재하는 타임존이어야 함\n",
    "        location (str): 지역명. 타임존이 모든 지명에 대응되지 않기 때문에 이후 llm 답변 생성에 사용됨\n",
    "    \"\"\"\n",
    "    target_timezone = ZoneInfo(timezone)\n",
    "    now = datetime.now(target_timezone).strftime(\"%Y-%m-%d %H:%M:%S\")\n",
    "    location_and_local_time = f'{timezone} ({location}) 현재시각 {now} ' # 타임존, 지역명, 현재시각을 문자열로 반환\n",
    "    print(location_and_local_time)\n",
    "    return location_and_local_time"
   ]
  },
  {
   "cell_type": "code",
   "execution_count": 37,
   "id": "c11a5694",
   "metadata": {},
   "outputs": [],
   "source": [
    "from langchain.agents import AgentExecutor, create_tool_calling_agent\n",
    "from langchain_core.prompts import ChatPromptTemplate\n",
    "\n",
    "# 도구들을 tools 리스트에 추가\n",
    "tools = [get_current_time,]\n",
    "\n",
    "# 에이전트 프롬프트 정의\n",
    "prompt = ChatPromptTemplate.from_messages([\n",
    "    (\"system\", \"너는 사용자의 질문에 답변을 하기 위해 tools를 사용할 수 있다.\"),\n",
    "    (\"human\", \"{input}\"),\n",
    "    (\"placeholder\", \"{agent_scratchpad}\"),\n",
    "])\n",
    "\n",
    "# 에이전트 생성\n",
    "agent = create_tool_calling_agent(llm, tools, prompt)\n",
    "\n",
    "# AgentExecutor 초기화\n",
    "agent_executor = AgentExecutor(agent=agent, tools=tools, verbose=True)"
   ]
  },
  {
   "cell_type": "code",
   "execution_count": 38,
   "id": "36f550d9",
   "metadata": {},
   "outputs": [
    {
     "name": "stdout",
     "output_type": "stream",
     "text": [
      "\n",
      "\n",
      "\u001b[1m> Entering new AgentExecutor chain...\u001b[0m\n",
      "\u001b[32;1m\u001b[1;3m\n",
      "Invoking: `get_current_time` with `{'timezone': 'Asia/Seoul', 'location': '부산'}`\n",
      "\n",
      "\n",
      "\u001b[0mAsia/Seoul (부산) 현재시각 2025-08-07 17:55:22 \n",
      "\u001b[36;1m\u001b[1;3mAsia/Seoul (부산) 현재시각 2025-08-07 17:55:22 \u001b[0m\u001b[32;1m\u001b[1;3m부산은 지금 2025년 8월 7일 17시 55분 22초입니다.\n",
      "\u001b[0m\n",
      "\n",
      "\u001b[1m> Finished chain.\u001b[0m\n"
     ]
    }
   ],
   "source": [
    "from langchain_core.messages import SystemMessage\n",
    "\n",
    "# 메시지 형식 변경 (agent_executor에 맞게)\n",
    "messages = [\n",
    "    HumanMessage(\"부산은 지금 몇시야?\"),\n",
    "]\n",
    "\n",
    "# agent_executor를 사용하여 실행\n",
    "response = agent_executor.invoke({\"input\": messages})"
   ]
  },
  {
   "cell_type": "code",
   "execution_count": 39,
   "id": "407df255",
   "metadata": {},
   "outputs": [
    {
     "data": {
      "text/plain": [
       "{'input': [HumanMessage(content='부산은 지금 몇시야?', additional_kwargs={}, response_metadata={})],\n",
       " 'output': '부산은 지금 2025년 8월 7일 17시 55분 22초입니다.\\n'}"
      ]
     },
     "execution_count": 39,
     "metadata": {},
     "output_type": "execute_result"
    }
   ],
   "source": [
    "response\n"
   ]
  }
 ],
 "metadata": {
  "kernelspec": {
   "display_name": ".venv",
   "language": "python",
   "name": "python3"
  },
  "language_info": {
   "codemirror_mode": {
    "name": "ipython",
    "version": 3
   },
   "file_extension": ".py",
   "mimetype": "text/x-python",
   "name": "python",
   "nbconvert_exporter": "python",
   "pygments_lexer": "ipython3",
   "version": "3.13.5"
  }
 },
 "nbformat": 4,
 "nbformat_minor": 5
}
