{
 "cells": [
  {
   "cell_type": "code",
   "execution_count": 23,
   "id": "cef0e0ed",
   "metadata": {},
   "outputs": [],
   "source": [
    "import os\n",
    "from dotenv import load_dotenv\n",
    "load_dotenv()\n",
    "\n",
    "gemini_api_key = os.getenv(\"GEMINI_API_KEY\")"
   ]
  },
  {
   "cell_type": "code",
   "execution_count": 24,
   "id": "21f9f500",
   "metadata": {},
   "outputs": [
    {
     "data": {
      "text/plain": [
       "AIMessage(content='최근 한 달 동안 테슬라 주가가 어떻게 변동했는지 알려드리겠습니다.\\n\\n(2024년 5월 15일)을 기준으로 한 달 전인 (2024년 4월 15일)의 테슬라 주가를 찾아보면, 대략 170달러 정도였습니다.\\n\\n현재(2024년 5월 15일) 테슬라 주가는 190달러 정도입니다.\\n\\n따라서 한 달 전에 비해 테슬라 주가는 **상승**했습니다.\\n\\n하지만 주가는 계속 변동하기 때문에 투자 결정을 내리기 전에는 반드시 최신 정보를 확인하시기 바랍니다.', additional_kwargs={}, response_metadata={'prompt_feedback': {'block_reason': 0, 'safety_ratings': []}, 'finish_reason': 'STOP', 'model_name': 'gemini-2.0-flash', 'safety_ratings': []}, id='run--d2032e4a-c33a-4a9d-a66a-40401cbba0e6-0', usage_metadata={'input_tokens': 19, 'output_tokens': 180, 'total_tokens': 199, 'input_token_details': {'cache_read': 0}})"
      ]
     },
     "execution_count": 24,
     "metadata": {},
     "output_type": "execute_result"
    }
   ],
   "source": [
    "from langchain_google_genai import ChatGoogleGenerativeAI\n",
    "from langchain_core.messages import HumanMessage\n",
    "\n",
    "llm = ChatGoogleGenerativeAI(model=\"gemini-2.0-flash\", google_api_key=gemini_api_key)\n",
    "\n",
    "llm.invoke([HumanMessage(\"테슬라는 한달 전에 비해 주가가 올랐나 내렸나?\")])"
   ]
  },
  {
   "cell_type": "code",
   "execution_count": 25,
   "id": "4578879d",
   "metadata": {},
   "outputs": [],
   "source": [
    "from langchain_core.tools import tool\n",
    "from datetime import datetime\n",
    "from zoneinfo import ZoneInfo\n",
    "\n",
    "@tool # @tool 데코레이터를 사용하여 함수를 도구로 등록\n",
    "def get_current_time(timezone: str, location: str) -> str:\n",
    "    \"\"\" 현재 시각을 반환하는 함수\n",
    "\n",
    "    Args:\n",
    "        timezone (str): 타임존 (예: 'Asia/Seoul') 실제 존재하는 타임존이어야 함\n",
    "        location (str): 지역명. 타임존이 모든 지명에 대응되지 않기 때문에 이후 llm 답변 생성에 사용됨\n",
    "    \"\"\"\n",
    "    target_timezone = ZoneInfo(timezone)\n",
    "    now = datetime.now(target_timezone).strftime(\"%Y-%m-%d %H:%M:%S\")\n",
    "    location_and_local_time = f'{timezone} ({location}) 현재시각 {now} ' # 타임존, 지역명, 현재시각을 문자열로 반환\n",
    "    print(location_and_local_time)\n",
    "    return location_and_local_time"
   ]
  },
  {
   "cell_type": "markdown",
   "id": "5dd856cc",
   "metadata": {},
   "source": [
    "### 파이단틱(Pydantic)\n",
    "\n",
    "*   **데이터 유효성 검사**: 런타임에 데이터 유효성을 강제하여 오류를 조기에 발견하고 안정적인 애플리케이션을 구축할 수 있게 한다. \n",
    "*   **설정 관리**: 환경 변수, 파일 등에서 애플리케이션 설정을 로드하고 유효성을 검사하여 안전하고 구성 가능한 애플리케이션을 만들 수 있게 한다.\n",
    "*   **데이터 직렬화 및 역직렬화**: Python 객체를 JSON과 같은 형식으로 쉽게 변환하고 다시 Python 객체로 역변환할 수 있게 한다.\n",
    "*   **문서화**: Pydantic 모델은 OpenAPI(Swagger)와 같은 도구에서 자동으로 API 문서를 생성하는 데 사용될 수 있게 한다."
   ]
  },
  {
   "cell_type": "code",
   "execution_count": 26,
   "id": "ba49a853",
   "metadata": {},
   "outputs": [],
   "source": [
    "from pydantic import BaseModel, Field\n",
    "\n",
    "class StockHistoryInput(BaseModel):\n",
    "    ticker: str = Field(..., title=\"주식 코드\", description=\"주식 코드 (예: AAPL)\")\n",
    "    period: str = Field(..., title=\"기간\", description=\"주식 데이터 조회 기간 (예: 1d, 1mo, 1y)\")"
   ]
  },
  {
   "cell_type": "markdown",
   "id": "cc9dfc26",
   "metadata": {},
   "source": [
    "### Yahoo Finance API 사용"
   ]
  },
  {
   "cell_type": "code",
   "execution_count": 27,
   "id": "e3c7c362",
   "metadata": {},
   "outputs": [],
   "source": [
    "import yfinance as yf\n",
    "\n",
    "@tool\n",
    "def get_yf_stock_history(stock_history_input: StockHistoryInput) -> str:\n",
    "    \"\"\" 주식 종목의 가격 데이터를 조회하는 함수\"\"\"\n",
    "    stock = yf.Ticker(stock_history_input.ticker)\n",
    "    history = stock.history(period=stock_history_input.period)\n",
    "    history_md = history.to_markdown() \n",
    "\n",
    "    return history_md"
   ]
  },
  {
   "cell_type": "code",
   "execution_count": 28,
   "id": "1a983a77",
   "metadata": {},
   "outputs": [],
   "source": [
    "from langchain.agents import AgentExecutor, create_tool_calling_agent\n",
    "from langchain_core.prompts import ChatPromptTemplate\n",
    "\n",
    "# 도구들을 tools 리스트에 추가\n",
    "tools = [get_current_time, get_yf_stock_history]\n",
    "\n",
    "# 에이전트 프롬프트 정의\n",
    "prompt = ChatPromptTemplate.from_messages([\n",
    "    (\"system\", \"너는 사용자의 질문에 답변을 하기 위해 tools를 사용할 수 있다.\"),\n",
    "    (\"human\", \"{input}\"),\n",
    "    (\"placeholder\", \"{agent_scratchpad}\"),\n",
    "])\n",
    "\n",
    "# 에이전트 생성\n",
    "agent = create_tool_calling_agent(llm, tools, prompt)\n",
    "\n",
    "# AgentExecutor 초기화\n",
    "agent_executor = AgentExecutor(agent=agent, tools=tools, verbose=True)"
   ]
  },
  {
   "cell_type": "code",
   "execution_count": 29,
   "id": "ecd033c7",
   "metadata": {},
   "outputs": [
    {
     "name": "stdout",
     "output_type": "stream",
     "text": [
      "\n",
      "\n",
      "\u001b[1m> Entering new AgentExecutor chain...\u001b[0m\n",
      "\u001b[32;1m\u001b[1;3m\n",
      "Invoking: `get_yf_stock_history` with `{'stock_history_input': {'period': '1mo', 'ticker': 'TSLA'}}`\n",
      "\n",
      "\n",
      "\u001b[0m\u001b[33;1m\u001b[1;3m| Date                      |   Open |   High |    Low |   Close |      Volume |   Dividends |   Stock Splits |\n",
      "|:--------------------------|-------:|-------:|-------:|--------:|------------:|------------:|---------------:|\n",
      "| 2025-07-07 00:00:00-04:00 | 291.37 | 296.15 | 288.77 |  293.94 | 1.31178e+08 |           0 |              0 |\n",
      "| 2025-07-08 00:00:00-04:00 | 297    | 304.05 | 294.35 |  297.81 | 1.03247e+08 |           0 |              0 |\n",
      "| 2025-07-09 00:00:00-04:00 | 297.55 | 300.15 | 293.55 |  295.88 | 7.55868e+07 |           0 |              0 |\n",
      "| 2025-07-10 00:00:00-04:00 | 300.05 | 310.48 | 300    |  309.87 | 1.04365e+08 |           0 |              0 |\n",
      "| 2025-07-11 00:00:00-04:00 | 307.89 | 314.09 | 305.65 |  313.51 | 7.92364e+07 |           0 |              0 |\n",
      "| 2025-07-14 00:00:00-04:00 | 317.73 | 322.6  | 312.67 |  316.9  | 7.80434e+07 |           0 |              0 |\n",
      "| 2025-07-15 00:00:00-04:00 | 319.68 | 321.2  | 310.5  |  310.78 | 7.75563e+07 |           0 |              0 |\n",
      "| 2025-07-16 00:00:00-04:00 | 312.8  | 323.5  | 312.62 |  321.67 | 9.72848e+07 |           0 |              0 |\n",
      "| 2025-07-17 00:00:00-04:00 | 323.15 | 324.34 | 317.06 |  319.41 | 7.39229e+07 |           0 |              0 |\n",
      "| 2025-07-18 00:00:00-04:00 | 321.66 | 330.9  | 321.42 |  329.65 | 9.4255e+07  |           0 |              0 |\n",
      "| 2025-07-21 00:00:00-04:00 | 334.4  | 338    | 326.88 |  328.49 | 7.57688e+07 |           0 |              0 |\n",
      "| 2025-07-22 00:00:00-04:00 | 329.74 | 335.41 | 321.55 |  332.11 | 7.73704e+07 |           0 |              0 |\n",
      "| 2025-07-23 00:00:00-04:00 | 330.9  | 336.2  | 328.67 |  332.56 | 9.25538e+07 |           0 |              0 |\n",
      "| 2025-07-24 00:00:00-04:00 | 310    | 310.15 | 300.41 |  305.3  | 1.56966e+08 |           0 |              0 |\n",
      "| 2025-07-25 00:00:00-04:00 | 308.74 | 323.63 | 308.01 |  316.06 | 1.48227e+08 |           0 |              0 |\n",
      "| 2025-07-28 00:00:00-04:00 | 318.45 | 330.49 | 315.69 |  325.59 | 1.12674e+08 |           0 |              0 |\n",
      "| 2025-07-29 00:00:00-04:00 | 325.55 | 326.25 | 318.25 |  321.2  | 8.73589e+07 |           0 |              0 |\n",
      "| 2025-07-30 00:00:00-04:00 | 322.18 | 324.45 | 311.62 |  319.04 | 8.39319e+07 |           0 |              0 |\n",
      "| 2025-07-31 00:00:00-04:00 | 319.61 | 321.37 | 306.1  |  308.27 | 8.52709e+07 |           0 |              0 |\n",
      "| 2025-08-01 00:00:00-04:00 | 306.21 | 309.31 | 297.82 |  302.63 | 8.91214e+07 |           0 |              0 |\n",
      "| 2025-08-04 00:00:00-04:00 | 309.08 | 312.12 | 303    |  309.26 | 7.86839e+07 |           0 |              0 |\n",
      "| 2025-08-05 00:00:00-04:00 | 308.95 | 312.45 | 305.5  |  308.72 | 5.79613e+07 |           0 |              0 |\n",
      "| 2025-08-06 00:00:00-04:00 | 307.89 | 320.47 | 306.93 |  319.91 | 7.82092e+07 |           0 |              0 |\u001b[0m\u001b[32;1m\u001b[1;3m한 달 전 테슬라 주가는 2025-07-07 종가 기준으로 293.94 달러였고, 현재(2025-08-06)는 319.91 달러입니다. 따라서 한 달 전에 비해 주가가 올랐습니다.\u001b[0m\n",
      "\n",
      "\u001b[1m> Finished chain.\u001b[0m\n"
     ]
    }
   ],
   "source": [
    "from langchain_core.messages import SystemMessage\n",
    "\n",
    "# 메시지 형식 변경 (agent_executor에 맞게)\n",
    "messages = [\n",
    "    HumanMessage(\"테슬라는 한달 전에 비해 주가가 올랐나 내렸나?\"),\n",
    "]\n",
    "\n",
    "# agent_executor를 사용하여 실행\n",
    "response = agent_executor.invoke({\"input\": messages})"
   ]
  },
  {
   "cell_type": "code",
   "execution_count": 32,
   "id": "4f28f941",
   "metadata": {},
   "outputs": [
    {
     "data": {
      "text/plain": [
       "{'input': [HumanMessage(content='테슬라는 한달 전에 비해 주가가 올랐나 내렸나?', additional_kwargs={}, response_metadata={})],\n",
       " 'output': '한 달 전 테슬라 주가는 2025-07-07 종가 기준으로 293.94 달러였고, 현재(2025-08-06)는 319.91 달러입니다. 따라서 한 달 전에 비해 주가가 올랐습니다.'}"
      ]
     },
     "execution_count": 32,
     "metadata": {},
     "output_type": "execute_result"
    }
   ],
   "source": [
    "response"
   ]
  }
 ],
 "metadata": {
  "kernelspec": {
   "display_name": ".venv",
   "language": "python",
   "name": "python3"
  },
  "language_info": {
   "codemirror_mode": {
    "name": "ipython",
    "version": 3
   },
   "file_extension": ".py",
   "mimetype": "text/x-python",
   "name": "python",
   "nbconvert_exporter": "python",
   "pygments_lexer": "ipython3",
   "version": "3.13.5"
  }
 },
 "nbformat": 4,
 "nbformat_minor": 5
}
