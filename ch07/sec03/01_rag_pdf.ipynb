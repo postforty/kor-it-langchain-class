{
 "cells": [
  {
   "cell_type": "code",
   "execution_count": 10,
   "metadata": {},
   "outputs": [],
   "source": [
    "import os\n",
    "from dotenv import load_dotenv\n",
    "load_dotenv()\n",
    "\n",
    "gemini_api_key = os.getenv(\"GEMINI_API_KEY\")\n"
   ]
  },
  {
   "cell_type": "code",
   "execution_count": 3,
   "metadata": {},
   "outputs": [],
   "source": [
    "from langchain_text_splitters import RecursiveCharacterTextSplitter\n",
    "from langchain_community.document_loaders import PyMuPDFLoader\n",
    "from langchain_community.vectorstores import FAISS\n",
    "from langchain_core.output_parsers import StrOutputParser\n",
    "from langchain_core.runnables import RunnablePassthrough\n",
    "from langchain_core.prompts import PromptTemplate\n",
    "from langchain_google_genai import ChatGoogleGenerativeAI, GoogleGenerativeAIEmbeddings"
   ]
  },
  {
   "cell_type": "code",
   "execution_count": 5,
   "metadata": {},
   "outputs": [
    {
     "name": "stdout",
     "output_type": "stream",
     "text": [
      "문서의 페이지수: 12\n"
     ]
    }
   ],
   "source": [
    "# 단계 1: 문서 로드(Load Documents)\n",
    "loader = PyMuPDFLoader(\"data/KCI_FI003153549.pdf\")\n",
    "docs = loader.load()\n",
    "print(f\"문서의 페이지수: {len(docs)}\")"
   ]
  },
  {
   "cell_type": "code",
   "execution_count": 6,
   "metadata": {},
   "outputs": [
    {
     "name": "stdout",
     "output_type": "stream",
     "text": [
      "분할된 청크의수: 39\n"
     ]
    }
   ],
   "source": [
    "# 단계 2: 문서 분할(Split Documents)\n",
    "text_splitter = RecursiveCharacterTextSplitter(chunk_size=1000, chunk_overlap=50)\n",
    "split_documents = text_splitter.split_documents(docs)\n",
    "print(f\"분할된 청크의수: {len(split_documents)}\")\n"
   ]
  },
  {
   "cell_type": "code",
   "execution_count": 11,
   "metadata": {},
   "outputs": [],
   "source": [
    "embeddings = GoogleGenerativeAIEmbeddings(model=\"models/embedding-001\", google_api_key=gemini_api_key)\n"
   ]
  },
  {
   "cell_type": "code",
   "execution_count": 13,
   "metadata": {},
   "outputs": [],
   "source": [
    "# 단계 4: DB 생성(Create DB) 및 저장\n",
    "# 벡터스토어를 생성합니다.\n",
    "vectorstore = FAISS.from_documents(documents=split_documents, embedding=embeddings)\n"
   ]
  },
  {
   "cell_type": "code",
   "execution_count": 21,
   "metadata": {},
   "outputs": [],
   "source": [
    "# 로컬에 벡터스토어 생성 및 저장\n",
    "FAISS_INDEX_PATH = \"faiss_index\"\n",
    "vectorstore.save_local(FAISS_INDEX_PATH)"
   ]
  },
  {
   "cell_type": "code",
   "execution_count": 14,
   "metadata": {},
   "outputs": [],
   "source": [
    "# 단계 5: 검색기(Retriever) 생성\n",
    "# 문서에 포함되어 있는 정보를 검색하고 생성합니다.\n",
    "retriever = vectorstore.as_retriever()\n"
   ]
  },
  {
   "cell_type": "code",
   "execution_count": 15,
   "metadata": {},
   "outputs": [
    {
     "data": {
      "text/plain": [
       "[Document(id='a497918d-843a-4451-a86c-3c6eb0161917', metadata={'producer': 'ezPDF Builder Supreme', 'creator': '', 'creationdate': '2024-12-27T02:09:00+09:00', 'source': 'data/KCI_FI003153549.pdf', 'file_path': 'data/KCI_FI003153549.pdf', 'total_pages': 12, 'format': 'PDF 1.6', 'title': '', 'author': '', 'subject': '', 'keywords': '', 'moddate': '2024-12-27T02:09:00+09:00', 'trapped': '', 'modDate': \"D:20241227020900+09'00'\", 'creationDate': \"D:20241227020900+09'00'\", 'page': 1}, page_content='소스 모델을 사용하여 임상 데이터를 분석하고, 이를 통해 \\n더 신속하고 정확한 결과를 도출하는 방법을 제안한다. 또\\n한 이러한 기술이 의료기기 개발과 임상시험에서 혁신을 \\n가져올 수 있는 가능성을 평가하며, 향후 임상시험에서 \\nLLM 기술의 확장 가능성도 논의한다.\\nLLM 기반 기술은 단순히 데이터를 분석하는 것 이상의 \\n의미를 지니고 있다. 임상 데이터에서 발견된 패턴을 바탕\\n으로 의사결정을 돕고, 궁극적으로는 임상시험의 전반적인 \\n효율성을 높일 수 있는 중요한 도구로 활용될 수 있다.[5] \\n이 연구는 LLM 기술이 임상시험뿐만 아니라 다양한 의료 \\n분야에서 데이터 분석의 패러다임을 변화시킬 수 있는 가\\n능성을 제시한다. 향후 LLM을 활용한 의료기기 개발 및'),\n",
       " Document(id='70916812-a55b-4f32-90a3-11937b1cce23', metadata={'producer': 'ezPDF Builder Supreme', 'creator': '', 'creationdate': '2024-12-27T02:09:00+09:00', 'source': 'data/KCI_FI003153549.pdf', 'file_path': 'data/KCI_FI003153549.pdf', 'total_pages': 12, 'format': 'PDF 1.6', 'title': '', 'author': '', 'subject': '', 'keywords': '', 'moddate': '2024-12-27T02:09:00+09:00', 'trapped': '', 'modDate': \"D:20241227020900+09'00'\", 'creationDate': \"D:20241227020900+09'00'\", 'page': 4}, page_content='서, 기술문서 등\\ny 기타 (10%): 윤리위원회 관련 문서, 환자 동의서 템플\\n릿 등\\n1.2 Validity of Collected Data\\n수집된 \\n데이터셋은 \\n의료기기 \\n임상시험에 \\n특화된 \\nPrivate LLM 구축을 위해 도메인 적합성과 다양성, 그리\\n고 응용 가능성 측면에서 높은 타당성을 갖추고 있다. 총 \\n111,954페이지로 구성된 데이터는 의료기기 임상시험의 \\n규제, 프로토콜 설계, 데이터 관리 등 전반적인 지식을 포\\n괄하며, 국제 표준과 실제 임상시험 환경에서 발생할 수 \\n있는 다양한 시나리오를 반영하도록 설계되었다.\\n수집된 데이터는 규제 문서(30%), 교육 자료(20%), 프\\n로토콜 및 보고서(25%), 의료기기 특화 문서(15%), 기타'),\n",
       " Document(id='7c1445da-2952-4871-b797-615b94a51348', metadata={'producer': 'ezPDF Builder Supreme', 'creator': '', 'creationdate': '2024-12-27T02:09:00+09:00', 'source': 'data/KCI_FI003153549.pdf', 'file_path': 'data/KCI_FI003153549.pdf', 'total_pages': 12, 'format': 'PDF 1.6', 'title': '', 'author': '', 'subject': '', 'keywords': '', 'moddate': '2024-12-27T02:09:00+09:00', 'trapped': '', 'modDate': \"D:20241227020900+09'00'\", 'creationDate': \"D:20241227020900+09'00'\", 'page': 2}, page_content='역할을 할 것으로 예상된다. \\n한국보건산업진흥원(KHIDI) 또한 LLM을 활용해 의료 \\n데이터 분석을 통합하는 여러 프로젝트를 지원하고 있다. \\n이러한 프로젝트는 대규모 데이터에서 숨겨진 패턴을 발\\n견해 임상시험의 효율성과 정확성을 향상시키는 것을 목\\n표로 하고 있다. 한국 의료 부문에서 LLM의 도입이 가속\\n화되고 있으며, 이는 Table 3와 같이 AI가 임상 실무를 혁\\n신할 잠재력이 크다는 것을 보여준다.'),\n",
       " Document(id='5eb55b18-9033-457a-833e-a91476a01709', metadata={'producer': 'ezPDF Builder Supreme', 'creator': '', 'creationdate': '2024-12-27T02:09:00+09:00', 'source': 'data/KCI_FI003153549.pdf', 'file_path': 'data/KCI_FI003153549.pdf', 'total_pages': 12, 'format': 'PDF 1.6', 'title': '', 'author': '', 'subject': '', 'keywords': '', 'moddate': '2024-12-27T02:09:00+09:00', 'trapped': '', 'modDate': \"D:20241227020900+09'00'\", 'creationDate': \"D:20241227020900+09'00'\", 'page': 6}, page_content='터나 문서를 모델에 입력한다.\\ny 출력 지시자(Output Directive): 모델에게 결과를 어떤 \\n형식으로 출력할지 지시한다.\\n- 예: \"추출된 용어와 정의를 리스트 형태로 반환하라.\"')]"
      ]
     },
     "execution_count": 15,
     "metadata": {},
     "output_type": "execute_result"
    }
   ],
   "source": [
    "# 검색기에 쿼리를 날려 검색된 chunk 결과를 확인합니다.\n",
    "# 예시 질의\n",
    "query = \"본 연구에서 Private LLM 구축을 위해 수집한 문서의 총 페이지 수와 문서 유형별 비율은 어떻게 되나요?\"\n",
    "# query = \"Advance RAG 기법이 임상시험 데이터 분석에서 수행하는 주요 역할은 무엇인가요?\"\n",
    "# query = \"본 연구에서 Private LLM 성능을 평가하기 위해 사용한 지표 3가지는 무엇인가요?\"\n",
    "# query = \"국내에서 LLM을 임상시험에 적용한 대표적인 기관과 그 적용 사례를 2가지 이상 말해보세요.\"\n",
    "# query = \"ROUGE 평가에서 Private LLM과 ChatGPT의 Recall 값은 각각 얼마였나요?\"\n",
    "retriever.invoke(query)\n"
   ]
  },
  {
   "cell_type": "code",
   "execution_count": 16,
   "metadata": {},
   "outputs": [],
   "source": [
    "# 단계 6: 프롬프트 생성(Create Prompt)\n",
    "# 프롬프트를 생성합니다.\n",
    "prompt = PromptTemplate.from_template(\n",
    "    \"\"\"You are an assistant for question-answering tasks. \n",
    "Use the following pieces of retrieved context to answer the question. \n",
    "If you don't know the answer, just say that you don't know. \n",
    "Answer in Korean.\n",
    "\n",
    "#Question: \n",
    "{question} \n",
    "#Context: \n",
    "{context} \n",
    "\n",
    "#Answer:\"\"\"\n",
    ")\n"
   ]
  },
  {
   "cell_type": "code",
   "execution_count": 17,
   "metadata": {},
   "outputs": [],
   "source": [
    "# 단계 7: 언어모델(LLM) 생성\n",
    "# 모델(LLM) 을 생성합니다.\n",
    "llm = ChatGoogleGenerativeAI(model=\"gemini-2.5-flash\", google_api_key=gemini_api_key)"
   ]
  },
  {
   "cell_type": "code",
   "execution_count": 18,
   "metadata": {},
   "outputs": [],
   "source": [
    "# 단계 8: 체인(Chain) 생성\n",
    "chain = (\n",
    "    {\"context\": retriever, \"question\": RunnablePassthrough()}\n",
    "    | prompt\n",
    "    | llm\n",
    "    | StrOutputParser()\n",
    ")\n"
   ]
  },
  {
   "cell_type": "code",
   "execution_count": 19,
   "metadata": {},
   "outputs": [
    {
     "name": "stdout",
     "output_type": "stream",
     "text": [
      "본 연구에서 Private LLM 구축을 위해 수집한 문서는 총 111,954페이지입니다.\n",
      "\n",
      "문서 유형별 비율은 다음과 같습니다:\n",
      "*   **규제 문서**: 30%\n",
      "*   **교육 자료**: 20%\n",
      "*   **프로토콜 및 보고서**: 25%\n",
      "*   **의료기기 특화 문서**: 15%\n",
      "*   **기타**: 10% (윤리위원회 관련 문서, 환자 동의서 템플릿 등)\n"
     ]
    }
   ],
   "source": [
    "# 체인 실행(Run Chain)\n",
    "# 문서에 대한 질의를 입력하고, 답변을 출력합니다.\n",
    "question = query\n",
    "response = chain.invoke(question)\n",
    "print(response)\n"
   ]
  }
 ],
 "metadata": {
  "kernelspec": {
   "display_name": ".venv",
   "language": "python",
   "name": "python3"
  },
  "language_info": {
   "codemirror_mode": {
    "name": "ipython",
    "version": 3
   },
   "file_extension": ".py",
   "mimetype": "text/x-python",
   "name": "python",
   "nbconvert_exporter": "python",
   "pygments_lexer": "ipython3",
   "version": "3.13.5"
  }
 },
 "nbformat": 4,
 "nbformat_minor": 2
}
