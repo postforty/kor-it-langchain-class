{
 "cells": [
  {
   "cell_type": "markdown",
   "id": "6be3e232",
   "metadata": {},
   "source": [
    "### 출력 파서\n",
    "\n",
    "LLM이 생성한 출력 결과를 필요에 맞게 가공, 구조화"
   ]
  },
  {
   "cell_type": "code",
   "execution_count": 1,
   "id": "a860b281",
   "metadata": {},
   "outputs": [],
   "source": [
    "import os\n",
    "from dotenv import load_dotenv\n",
    "load_dotenv()\n",
    "\n",
    "gemini_api_key = os.getenv(\"GEMINI_API_KEY\")"
   ]
  },
  {
   "cell_type": "code",
   "execution_count": 2,
   "id": "8ac84755",
   "metadata": {},
   "outputs": [],
   "source": [
    "from langchain_core.output_parsers import StrOutputParser\n",
    "\n",
    "output_parser = StrOutputParser()"
   ]
  },
  {
   "cell_type": "code",
   "execution_count": 3,
   "id": "a4af3c89",
   "metadata": {},
   "outputs": [
    {
     "data": {
      "text/plain": [
       "StrOutputParser()"
      ]
     },
     "execution_count": 3,
     "metadata": {},
     "output_type": "execute_result"
    }
   ],
   "source": [
    "output_parser"
   ]
  },
  {
   "cell_type": "code",
   "execution_count": 4,
   "id": "faf5565a",
   "metadata": {},
   "outputs": [],
   "source": [
    "from langchain_google_genai import ChatGoogleGenerativeAI\n",
    "\n",
    "model = ChatGoogleGenerativeAI(\n",
    "    model=\"gemini-2.5-flash\",\n",
    "    temperature=0.1, # 창의성 (0.0 ~ 2.0)\n",
    "    google_api_key=gemini_api_key\n",
    ")\n"
   ]
  },
  {
   "cell_type": "code",
   "execution_count": 10,
   "id": "956685e2",
   "metadata": {},
   "outputs": [],
   "source": [
    "from langchain_core.prompts import PromptTemplate\n",
    "\n",
    "template = \"{language} 할 수 있어?\"\n",
    "\n",
    "prompt = PromptTemplate.from_template(template)"
   ]
  },
  {
   "cell_type": "code",
   "execution_count": 11,
   "id": "03bb473d",
   "metadata": {},
   "outputs": [],
   "source": [
    "chain = prompt | model | output_parser # 프롬프트, 모델, 출력 파서 체인 구성"
   ]
  },
  {
   "cell_type": "code",
   "execution_count": 12,
   "id": "54f15bbe",
   "metadata": {},
   "outputs": [
    {
     "data": {
      "text/plain": [
       "'네, 한국말 할 수 있습니다. 무엇을 도와드릴까요?'"
      ]
     },
     "execution_count": 12,
     "metadata": {},
     "output_type": "execute_result"
    }
   ],
   "source": [
    "input = {\"language\": \"한국말\"}\n",
    "chain.invoke(input)"
   ]
  },
  {
   "cell_type": "markdown",
   "id": "569db0f5",
   "metadata": {},
   "source": [
    "### 영어 회화 예제"
   ]
  },
  {
   "cell_type": "code",
   "execution_count": null,
   "id": "bf4f110a",
   "metadata": {},
   "outputs": [],
   "source": [
    "template = \"\"\"\n",
    "당신은 영어를 아주 쉽게 가르치는 친절한 영어 선생님입니다. 주어진 상황에 맞는 영어 회화를 작성해 주세요.\n",
    "양식은 [FORMAT]을 참고해 주세요.\n",
    "\n",
    "# 상황:\n",
    "{question}\n",
    "\n",
    "# FORMAT:\n",
    "- 영어 회화:\n",
    "- 한글 해석:\n",
    "\"\"\"\n"
   ]
  },
  {
   "cell_type": "code",
   "execution_count": 14,
   "id": "90e808f7",
   "metadata": {},
   "outputs": [],
   "source": [
    "prompt = PromptTemplate.from_template(template)\n",
    "\n",
    "model = ChatGoogleGenerativeAI(\n",
    "    model=\"gemini-2.5-flash\",\n",
    "    temperature=0.1, # 창의성 (0.0 ~ 2.0)\n",
    "    google_api_key=gemini_api_key\n",
    ")\n",
    "\n",
    "output_parser = StrOutputParser()\n",
    "\n",
    "chain = prompt | model | output_parser\n"
   ]
  },
  {
   "cell_type": "code",
   "execution_count": 16,
   "id": "584c9f02",
   "metadata": {},
   "outputs": [],
   "source": [
    "result = chain.invoke({\"question\": \"저는 식당에서 음식을 주문하고 싶어요.\"})\n"
   ]
  },
  {
   "cell_type": "code",
   "execution_count": 17,
   "id": "59279b71",
   "metadata": {},
   "outputs": [
    {
     "data": {
      "text/plain": [
       "'안녕하세요! 식당에서 음식을 주문하는 상황, 아주 쉽고 친절하게 알려드릴게요. 걱정 마세요!\\n\\n---\\n\\n**# 상황: 저는 식당에서 음식을 주문하고 싶어요.**\\n\\n**[FORMAT]**\\n\\n- 영어 회화:\\n    **You (손님):** Hello!\\n    **Waiter (직원):** Hi there! Are you ready to order?\\n    **You (손님):** Yes, I am. I\\'d like the pasta, please.\\n    **Waiter (직원):** Okay, the pasta. And anything to drink?\\n    **You (손님):** Yes, and a Coke, please.\\n    **Waiter (직원):** Alright, so that\\'s one pasta and one Coke. Is that all for now?\\n    **You (손님):** Yes, that\\'s all. Thank you!\\n    **Waiter (직원):** Great! It\\'ll be right out.\\n\\n- 한글 해석:\\n    **You (손님):** 안녕하세요!\\n    **Waiter (직원):** 안녕하세요! 주문하시겠어요?\\n    **You (손님):** 네, 할게요. 파스타로 부탁해요.\\n    **Waiter (직원):** 네, 파스타요. 마실 것은요?\\n    **You (손님):** 네, 콜라 한 잔 주세요.\\n    **Waiter (직원):** 알겠습니다, 파스타 하나랑 콜라 하나요. 지금은 이게 다인가요?\\n    **You (손님):** 네, 그게 다예요. 감사합니다!\\n    **Waiter (직원):** 좋아요! 곧 가져다 드릴게요.\\n\\n---\\n\\n**✨ 선생님의 꿀팁! ✨**\\n\\n*   **\"I\\'d like ~\"** (아이드 라이크 ~)는 \"저는 ~을 원해요\" 라는 아주 공손하고 자연스러운 표현이에요. \"I want ~\" 보다 훨씬 부드럽게 들린답니다!\\n*   음식 이름 뒤에 **\"please\"** (플리즈)를 붙이면 더 예의 바르게 들려요.\\n*   주문이 끝났을 때는 **\"That\\'s all.\"** (댓츠 올) 또는 **\"That\\'s everything.\"** (댓츠 에브리띵) 이라고 말하면 돼요. \"이게 다예요.\" 라는 뜻이죠!\\n\\n이 정도면 식당에서 자신 있게 주문할 수 있을 거예요! 잘했어요! 😊'"
      ]
     },
     "execution_count": 17,
     "metadata": {},
     "output_type": "execute_result"
    }
   ],
   "source": [
    "result"
   ]
  },
  {
   "cell_type": "code",
   "execution_count": 18,
   "id": "3da1238c",
   "metadata": {},
   "outputs": [
    {
     "name": "stdout",
     "output_type": "stream",
     "text": [
      "안녕하세요! 식당에서 음식을 주문하는 상황, 아주 쉽고 친절하게 알려드릴게요. 걱정 마세요!\n",
      "\n",
      "---\n",
      "\n",
      "**# 상황: 저는 식당에서 음식을 주문하고 싶어요.**\n",
      "\n",
      "**[FORMAT]**\n",
      "\n",
      "- 영어 회화:\n",
      "    **You (손님):** Hello!\n",
      "    **Waiter (직원):** Hi there! Are you ready to order?\n",
      "    **You (손님):** Yes, I am. I'd like the pasta, please.\n",
      "    **Waiter (직원):** Okay, the pasta. And anything to drink?\n",
      "    **You (손님):** Yes, and a Coke, please.\n",
      "    **Waiter (직원):** Alright, so that's one pasta and one Coke. Is that all for now?\n",
      "    **You (손님):** Yes, that's all. Thank you!\n",
      "    **Waiter (직원):** Great! It'll be right out.\n",
      "\n",
      "- 한글 해석:\n",
      "    **You (손님):** 안녕하세요!\n",
      "    **Waiter (직원):** 안녕하세요! 주문하시겠어요?\n",
      "    **You (손님):** 네, 할게요. 파스타로 부탁해요.\n",
      "    **Waiter (직원):** 네, 파스타요. 마실 것은요?\n",
      "    **You (손님):** 네, 콜라 한 잔 주세요.\n",
      "    **Waiter (직원):** 알겠습니다, 파스타 하나랑 콜라 하나요. 지금은 이게 다인가요?\n",
      "    **You (손님):** 네, 그게 다예요. 감사합니다!\n",
      "    **Waiter (직원):** 좋아요! 곧 가져다 드릴게요.\n",
      "\n",
      "---\n",
      "\n",
      "**✨ 선생님의 꿀팁! ✨**\n",
      "\n",
      "*   **\"I'd like ~\"** (아이드 라이크 ~)는 \"저는 ~을 원해요\" 라는 아주 공손하고 자연스러운 표현이에요. \"I want ~\" 보다 훨씬 부드럽게 들린답니다!\n",
      "*   음식 이름 뒤에 **\"please\"** (플리즈)를 붙이면 더 예의 바르게 들려요.\n",
      "*   주문이 끝났을 때는 **\"That's all.\"** (댓츠 올) 또는 **\"That's everything.\"** (댓츠 에브리띵) 이라고 말하면 돼요. \"이게 다예요.\" 라는 뜻이죠!\n",
      "\n",
      "이 정도면 식당에서 자신 있게 주문할 수 있을 거예요! 잘했어요! 😊\n"
     ]
    }
   ],
   "source": [
    "print(result)"
   ]
  },
  {
   "cell_type": "markdown",
   "id": "5291310b",
   "metadata": {},
   "source": [
    "### JsonOutputParser"
   ]
  },
  {
   "cell_type": "code",
   "execution_count": 20,
   "id": "f29babed",
   "metadata": {},
   "outputs": [],
   "source": [
    "from langchain_core.output_parsers import JsonOutputParser\n",
    "from pydantic import BaseModel, Field\n",
    "\n",
    "# 1. 원하는 출력 형식을 정의하는 Pydantic BaseModel 생성\n",
    "#    이것은 LLM에게 어떤 키와 값이 필요한지 알려주는 역할을 합니다.\n",
    "class EnglishLesson(BaseModel):\n",
    "    english_conversation: str = Field(description=\"상황에 맞는 영어 회화\")\n",
    "    korean_translation: str = Field(description=\"영어 회화의 한글 해석\")\n"
   ]
  },
  {
   "cell_type": "code",
   "execution_count": 21,
   "id": "e74d8f0e",
   "metadata": {},
   "outputs": [],
   "source": [
    "# 2. JsonOutputParser 인스턴스 생성\n",
    "#    Pydantic 모델을 파서에 연결하여 LLM이 정확한 JSON을 생성하도록 유도합니다.\n",
    "parser = JsonOutputParser(pydantic_object=EnglishLesson)"
   ]
  },
  {
   "cell_type": "code",
   "execution_count": 28,
   "id": "2b63d20d",
   "metadata": {},
   "outputs": [],
   "source": [
    "# 3. 프롬프트 템플릿에 파싱 지시문 추가\n",
    "#    parser.get_format_instructions()는 LLM에게 JSON 출력 형식을 정확히 지시하는 문자열을 반환합니다.\n",
    "from langchain_core.prompts import PromptTemplate\n",
    "template = \"\"\"\n",
    "당신은 영어를 아주 쉽게 가르치는 친절한 영어 선생님입니다. 주어진 상황에 맞는 영어 회화를 작성해 주세요.\n",
    "양식은 [FORMAT]을 참고해 주세요.\n",
    "\n",
    "# 상황:\n",
    "{question}\n",
    "\n",
    "# FORMAT:\n",
    "{format_instructions}\n",
    "\"\"\"\n",
    "\n",
    "prompt = PromptTemplate(\n",
    "    template=template,\n",
    "    input_variables=[\"question\"],\n",
    "    partial_variables={\"format_instructions\": parser.get_format_instructions()},\n",
    ")"
   ]
  },
  {
   "cell_type": "code",
   "execution_count": 29,
   "id": "30ecf958",
   "metadata": {},
   "outputs": [],
   "source": [
    "# 4. LLM 모델 및 체인 구성\n",
    "prompt = PromptTemplate.from_template(template)\n",
    "\n",
    "model = ChatGoogleGenerativeAI(\n",
    "    model=\"gemini-2.5-flash\",\n",
    "    temperature=0.1, # 창의성 (0.0 ~ 2.0)\n",
    "    google_api_key=gemini_api_key\n",
    ")\n",
    "\n",
    "chain = prompt | model | parser"
   ]
  },
  {
   "cell_type": "code",
   "execution_count": 30,
   "id": "a56e1e78",
   "metadata": {},
   "outputs": [
    {
     "ename": "KeyError",
     "evalue": "\"Input to PromptTemplate is missing variables {'format_instructions'}.  Expected: ['format_instructions', 'question'] Received: ['question']\\nNote: if you intended {format_instructions} to be part of the string and not a variable, please escape it with double curly braces like: '{{format_instructions}}'.\\nFor troubleshooting, visit: https://python.langchain.com/docs/troubleshooting/errors/INVALID_PROMPT_INPUT \"",
     "output_type": "error",
     "traceback": [
      "\u001b[31m---------------------------------------------------------------------------\u001b[39m",
      "\u001b[31mKeyError\u001b[39m                                  Traceback (most recent call last)",
      "\u001b[36mCell\u001b[39m\u001b[36m \u001b[39m\u001b[32mIn[30]\u001b[39m\u001b[32m, line 4\u001b[39m\n\u001b[32m      1\u001b[39m \u001b[38;5;66;03m# 5. 체인 실행 및 결과 출력\u001b[39;00m\n\u001b[32m      2\u001b[39m \u001b[38;5;66;03m#    응답이 JSON 객체로 파싱되어 출력됩니다.\u001b[39;00m\n\u001b[32m      3\u001b[39m user_question = \u001b[33m\"\u001b[39m\u001b[33m친구와 저녁 메뉴를 정하는 상황\u001b[39m\u001b[33m\"\u001b[39m\n\u001b[32m----> \u001b[39m\u001b[32m4\u001b[39m response = \u001b[43mchain\u001b[49m\u001b[43m.\u001b[49m\u001b[43minvoke\u001b[49m\u001b[43m(\u001b[49m\u001b[43m{\u001b[49m\u001b[33;43m\"\u001b[39;49m\u001b[33;43mquestion\u001b[39;49m\u001b[33;43m\"\u001b[39;49m\u001b[43m:\u001b[49m\u001b[43m \u001b[49m\u001b[43muser_question\u001b[49m\u001b[43m}\u001b[49m\u001b[43m)\u001b[49m\n",
      "\u001b[36mFile \u001b[39m\u001b[32mc:\\Users\\dandy\\Documents\\GitHub\\kor-it-langchain-class\\ch03\\.venv\\Lib\\site-packages\\langchain_core\\runnables\\base.py:3044\u001b[39m, in \u001b[36mRunnableSequence.invoke\u001b[39m\u001b[34m(self, input, config, **kwargs)\u001b[39m\n\u001b[32m   3042\u001b[39m \u001b[38;5;28;01mwith\u001b[39;00m set_config_context(config) \u001b[38;5;28;01mas\u001b[39;00m context:\n\u001b[32m   3043\u001b[39m     \u001b[38;5;28;01mif\u001b[39;00m i == \u001b[32m0\u001b[39m:\n\u001b[32m-> \u001b[39m\u001b[32m3044\u001b[39m         input_ = \u001b[43mcontext\u001b[49m\u001b[43m.\u001b[49m\u001b[43mrun\u001b[49m\u001b[43m(\u001b[49m\u001b[43mstep\u001b[49m\u001b[43m.\u001b[49m\u001b[43minvoke\u001b[49m\u001b[43m,\u001b[49m\u001b[43m \u001b[49m\u001b[43minput_\u001b[49m\u001b[43m,\u001b[49m\u001b[43m \u001b[49m\u001b[43mconfig\u001b[49m\u001b[43m,\u001b[49m\u001b[43m \u001b[49m\u001b[43m*\u001b[49m\u001b[43m*\u001b[49m\u001b[43mkwargs\u001b[49m\u001b[43m)\u001b[49m\n\u001b[32m   3045\u001b[39m     \u001b[38;5;28;01melse\u001b[39;00m:\n\u001b[32m   3046\u001b[39m         input_ = context.run(step.invoke, input_, config)\n",
      "\u001b[36mFile \u001b[39m\u001b[32mc:\\Users\\dandy\\Documents\\GitHub\\kor-it-langchain-class\\ch03\\.venv\\Lib\\site-packages\\langchain_core\\prompts\\base.py:216\u001b[39m, in \u001b[36mBasePromptTemplate.invoke\u001b[39m\u001b[34m(self, input, config, **kwargs)\u001b[39m\n\u001b[32m    214\u001b[39m \u001b[38;5;28;01mif\u001b[39;00m \u001b[38;5;28mself\u001b[39m.tags:\n\u001b[32m    215\u001b[39m     config[\u001b[33m\"\u001b[39m\u001b[33mtags\u001b[39m\u001b[33m\"\u001b[39m] = config[\u001b[33m\"\u001b[39m\u001b[33mtags\u001b[39m\u001b[33m\"\u001b[39m] + \u001b[38;5;28mself\u001b[39m.tags\n\u001b[32m--> \u001b[39m\u001b[32m216\u001b[39m \u001b[38;5;28;01mreturn\u001b[39;00m \u001b[38;5;28;43mself\u001b[39;49m\u001b[43m.\u001b[49m\u001b[43m_call_with_config\u001b[49m\u001b[43m(\u001b[49m\n\u001b[32m    217\u001b[39m \u001b[43m    \u001b[49m\u001b[38;5;28;43mself\u001b[39;49m\u001b[43m.\u001b[49m\u001b[43m_format_prompt_with_error_handling\u001b[49m\u001b[43m,\u001b[49m\n\u001b[32m    218\u001b[39m \u001b[43m    \u001b[49m\u001b[38;5;28;43minput\u001b[39;49m\u001b[43m,\u001b[49m\n\u001b[32m    219\u001b[39m \u001b[43m    \u001b[49m\u001b[43mconfig\u001b[49m\u001b[43m,\u001b[49m\n\u001b[32m    220\u001b[39m \u001b[43m    \u001b[49m\u001b[43mrun_type\u001b[49m\u001b[43m=\u001b[49m\u001b[33;43m\"\u001b[39;49m\u001b[33;43mprompt\u001b[39;49m\u001b[33;43m\"\u001b[39;49m\u001b[43m,\u001b[49m\n\u001b[32m    221\u001b[39m \u001b[43m    \u001b[49m\u001b[43mserialized\u001b[49m\u001b[43m=\u001b[49m\u001b[38;5;28;43mself\u001b[39;49m\u001b[43m.\u001b[49m\u001b[43m_serialized\u001b[49m\u001b[43m,\u001b[49m\n\u001b[32m    222\u001b[39m \u001b[43m\u001b[49m\u001b[43m)\u001b[49m\n",
      "\u001b[36mFile \u001b[39m\u001b[32mc:\\Users\\dandy\\Documents\\GitHub\\kor-it-langchain-class\\ch03\\.venv\\Lib\\site-packages\\langchain_core\\runnables\\base.py:1939\u001b[39m, in \u001b[36mRunnable._call_with_config\u001b[39m\u001b[34m(self, func, input_, config, run_type, serialized, **kwargs)\u001b[39m\n\u001b[32m   1935\u001b[39m     child_config = patch_config(config, callbacks=run_manager.get_child())\n\u001b[32m   1936\u001b[39m     \u001b[38;5;28;01mwith\u001b[39;00m set_config_context(child_config) \u001b[38;5;28;01mas\u001b[39;00m context:\n\u001b[32m   1937\u001b[39m         output = cast(\n\u001b[32m   1938\u001b[39m             \u001b[33m\"\u001b[39m\u001b[33mOutput\u001b[39m\u001b[33m\"\u001b[39m,\n\u001b[32m-> \u001b[39m\u001b[32m1939\u001b[39m             \u001b[43mcontext\u001b[49m\u001b[43m.\u001b[49m\u001b[43mrun\u001b[49m\u001b[43m(\u001b[49m\n\u001b[32m   1940\u001b[39m \u001b[43m                \u001b[49m\u001b[43mcall_func_with_variable_args\u001b[49m\u001b[43m,\u001b[49m\u001b[43m  \u001b[49m\u001b[38;5;66;43;03m# type: ignore[arg-type]\u001b[39;49;00m\n\u001b[32m   1941\u001b[39m \u001b[43m                \u001b[49m\u001b[43mfunc\u001b[49m\u001b[43m,\u001b[49m\n\u001b[32m   1942\u001b[39m \u001b[43m                \u001b[49m\u001b[43minput_\u001b[49m\u001b[43m,\u001b[49m\n\u001b[32m   1943\u001b[39m \u001b[43m                \u001b[49m\u001b[43mconfig\u001b[49m\u001b[43m,\u001b[49m\n\u001b[32m   1944\u001b[39m \u001b[43m                \u001b[49m\u001b[43mrun_manager\u001b[49m\u001b[43m,\u001b[49m\n\u001b[32m   1945\u001b[39m \u001b[43m                \u001b[49m\u001b[43m*\u001b[49m\u001b[43m*\u001b[49m\u001b[43mkwargs\u001b[49m\u001b[43m,\u001b[49m\n\u001b[32m   1946\u001b[39m \u001b[43m            \u001b[49m\u001b[43m)\u001b[49m,\n\u001b[32m   1947\u001b[39m         )\n\u001b[32m   1948\u001b[39m \u001b[38;5;28;01mexcept\u001b[39;00m \u001b[38;5;167;01mBaseException\u001b[39;00m \u001b[38;5;28;01mas\u001b[39;00m e:\n\u001b[32m   1949\u001b[39m     run_manager.on_chain_error(e)\n",
      "\u001b[36mFile \u001b[39m\u001b[32mc:\\Users\\dandy\\Documents\\GitHub\\kor-it-langchain-class\\ch03\\.venv\\Lib\\site-packages\\langchain_core\\runnables\\config.py:429\u001b[39m, in \u001b[36mcall_func_with_variable_args\u001b[39m\u001b[34m(func, input, config, run_manager, **kwargs)\u001b[39m\n\u001b[32m    427\u001b[39m \u001b[38;5;28;01mif\u001b[39;00m run_manager \u001b[38;5;129;01mis\u001b[39;00m \u001b[38;5;129;01mnot\u001b[39;00m \u001b[38;5;28;01mNone\u001b[39;00m \u001b[38;5;129;01mand\u001b[39;00m accepts_run_manager(func):\n\u001b[32m    428\u001b[39m     kwargs[\u001b[33m\"\u001b[39m\u001b[33mrun_manager\u001b[39m\u001b[33m\"\u001b[39m] = run_manager\n\u001b[32m--> \u001b[39m\u001b[32m429\u001b[39m \u001b[38;5;28;01mreturn\u001b[39;00m \u001b[43mfunc\u001b[49m\u001b[43m(\u001b[49m\u001b[38;5;28;43minput\u001b[39;49m\u001b[43m,\u001b[49m\u001b[43m \u001b[49m\u001b[43m*\u001b[49m\u001b[43m*\u001b[49m\u001b[43mkwargs\u001b[49m\u001b[43m)\u001b[49m\n",
      "\u001b[36mFile \u001b[39m\u001b[32mc:\\Users\\dandy\\Documents\\GitHub\\kor-it-langchain-class\\ch03\\.venv\\Lib\\site-packages\\langchain_core\\prompts\\base.py:189\u001b[39m, in \u001b[36mBasePromptTemplate._format_prompt_with_error_handling\u001b[39m\u001b[34m(self, inner_input)\u001b[39m\n\u001b[32m    188\u001b[39m \u001b[38;5;28;01mdef\u001b[39;00m\u001b[38;5;250m \u001b[39m\u001b[34m_format_prompt_with_error_handling\u001b[39m(\u001b[38;5;28mself\u001b[39m, inner_input: \u001b[38;5;28mdict\u001b[39m) -> PromptValue:\n\u001b[32m--> \u001b[39m\u001b[32m189\u001b[39m     inner_input_ = \u001b[38;5;28;43mself\u001b[39;49m\u001b[43m.\u001b[49m\u001b[43m_validate_input\u001b[49m\u001b[43m(\u001b[49m\u001b[43minner_input\u001b[49m\u001b[43m)\u001b[49m\n\u001b[32m    190\u001b[39m     \u001b[38;5;28;01mreturn\u001b[39;00m \u001b[38;5;28mself\u001b[39m.format_prompt(**inner_input_)\n",
      "\u001b[36mFile \u001b[39m\u001b[32mc:\\Users\\dandy\\Documents\\GitHub\\kor-it-langchain-class\\ch03\\.venv\\Lib\\site-packages\\langchain_core\\prompts\\base.py:183\u001b[39m, in \u001b[36mBasePromptTemplate._validate_input\u001b[39m\u001b[34m(self, inner_input)\u001b[39m\n\u001b[32m    177\u001b[39m     example_key = missing.pop()\n\u001b[32m    178\u001b[39m     msg += (\n\u001b[32m    179\u001b[39m         \u001b[33mf\u001b[39m\u001b[33m\"\u001b[39m\u001b[38;5;130;01m\\n\u001b[39;00m\u001b[33mNote: if you intended \u001b[39m\u001b[38;5;130;01m{{\u001b[39;00m\u001b[38;5;132;01m{\u001b[39;00mexample_key\u001b[38;5;132;01m}\u001b[39;00m\u001b[38;5;130;01m}}\u001b[39;00m\u001b[33m to be part of the string\u001b[39m\u001b[33m\"\u001b[39m\n\u001b[32m    180\u001b[39m         \u001b[33m\"\u001b[39m\u001b[33m and not a variable, please escape it with double curly braces like: \u001b[39m\u001b[33m\"\u001b[39m\n\u001b[32m    181\u001b[39m         \u001b[33mf\u001b[39m\u001b[33m\"\u001b[39m\u001b[33m'\u001b[39m\u001b[38;5;130;01m{{\u001b[39;00m\u001b[38;5;130;01m{{\u001b[39;00m\u001b[38;5;132;01m{\u001b[39;00mexample_key\u001b[38;5;132;01m}\u001b[39;00m\u001b[38;5;130;01m}}\u001b[39;00m\u001b[38;5;130;01m}}\u001b[39;00m\u001b[33m'\u001b[39m\u001b[33m.\u001b[39m\u001b[33m\"\u001b[39m\n\u001b[32m    182\u001b[39m     )\n\u001b[32m--> \u001b[39m\u001b[32m183\u001b[39m     \u001b[38;5;28;01mraise\u001b[39;00m \u001b[38;5;167;01mKeyError\u001b[39;00m(\n\u001b[32m    184\u001b[39m         create_message(message=msg, error_code=ErrorCode.INVALID_PROMPT_INPUT)\n\u001b[32m    185\u001b[39m     )\n\u001b[32m    186\u001b[39m \u001b[38;5;28;01mreturn\u001b[39;00m inner_input\n",
      "\u001b[31mKeyError\u001b[39m: \"Input to PromptTemplate is missing variables {'format_instructions'}.  Expected: ['format_instructions', 'question'] Received: ['question']\\nNote: if you intended {format_instructions} to be part of the string and not a variable, please escape it with double curly braces like: '{{format_instructions}}'.\\nFor troubleshooting, visit: https://python.langchain.com/docs/troubleshooting/errors/INVALID_PROMPT_INPUT \""
     ]
    }
   ],
   "source": [
    "# 5. 체인 실행 및 결과 출력\n",
    "#    응답이 JSON 객체로 파싱되어 출력됩니다.\n",
    "user_question = \"친구와 저녁 메뉴를 정하는 상황\"\n",
    "response = chain.invoke({\"question\": user_question})"
   ]
  }
 ],
 "metadata": {
  "kernelspec": {
   "display_name": ".venv",
   "language": "python",
   "name": "python3"
  },
  "language_info": {
   "codemirror_mode": {
    "name": "ipython",
    "version": 3
   },
   "file_extension": ".py",
   "mimetype": "text/x-python",
   "name": "python",
   "nbconvert_exporter": "python",
   "pygments_lexer": "ipython3",
   "version": "3.13.5"
  }
 },
 "nbformat": 4,
 "nbformat_minor": 5
}
