{
 "cells": [
  {
   "cell_type": "markdown",
   "id": "6be3e232",
   "metadata": {},
   "source": [
    "### 출력 파서\n",
    "\n",
    "LLM이 생성한 출력 결과를 필요에 맞게 가공, 구조화"
   ]
  },
  {
   "cell_type": "code",
   "execution_count": 5,
   "id": "a860b281",
   "metadata": {},
   "outputs": [],
   "source": [
    "import os\n",
    "from dotenv import load_dotenv\n",
    "load_dotenv()\n",
    "\n",
    "gemini_api_key = os.getenv(\"GEMINI_API_KEY\")"
   ]
  },
  {
   "cell_type": "code",
   "execution_count": 2,
   "id": "8ac84755",
   "metadata": {},
   "outputs": [],
   "source": [
    "from langchain_core.output_parsers import StrOutputParser\n",
    "\n",
    "output_parser = StrOutputParser()"
   ]
  },
  {
   "cell_type": "code",
   "execution_count": 3,
   "id": "a4af3c89",
   "metadata": {},
   "outputs": [
    {
     "data": {
      "text/plain": [
       "StrOutputParser()"
      ]
     },
     "execution_count": 3,
     "metadata": {},
     "output_type": "execute_result"
    }
   ],
   "source": [
    "output_parser"
   ]
  },
  {
   "cell_type": "code",
   "execution_count": 7,
   "id": "faf5565a",
   "metadata": {},
   "outputs": [],
   "source": [
    "from langchain_google_genai import ChatGoogleGenerativeAI\n",
    "\n",
    "model = ChatGoogleGenerativeAI(\n",
    "    model=\"gemini-2.5-flash\",\n",
    "    temperature=0.1, # 창의성 (0.0 ~ 2.0)\n",
    "    google_api_key=gemini_api_key\n",
    ")\n"
   ]
  },
  {
   "cell_type": "code",
   "execution_count": 10,
   "id": "956685e2",
   "metadata": {},
   "outputs": [],
   "source": [
    "from langchain_core.prompts import PromptTemplate\n",
    "\n",
    "template = \"{language} 할 수 있어?\"\n",
    "\n",
    "prompt = PromptTemplate.from_template(template)"
   ]
  },
  {
   "cell_type": "code",
   "execution_count": 11,
   "id": "03bb473d",
   "metadata": {},
   "outputs": [],
   "source": [
    "chain = prompt | model | output_parser # 프롬프트, 모델, 출력 파서 체인 구성"
   ]
  },
  {
   "cell_type": "code",
   "execution_count": 12,
   "id": "54f15bbe",
   "metadata": {},
   "outputs": [
    {
     "data": {
      "text/plain": [
       "'네, 한국말 할 수 있습니다. 무엇을 도와드릴까요?'"
      ]
     },
     "execution_count": 12,
     "metadata": {},
     "output_type": "execute_result"
    }
   ],
   "source": [
    "input = {\"language\": \"한국말\"}\n",
    "chain.invoke(input)"
   ]
  },
  {
   "cell_type": "markdown",
   "id": "569db0f5",
   "metadata": {},
   "source": [
    "### 영어 회화 예제"
   ]
  },
  {
   "cell_type": "code",
   "execution_count": null,
   "id": "bf4f110a",
   "metadata": {},
   "outputs": [],
   "source": [
    "template = \"\"\"\n",
    "당신은 영어를 아주 쉽게 가르치는 친절한 영어 선생님입니다. 주어진 상황에 맞는 영어 회화를 작성해 주세요.\n",
    "양식은 [FORMAT]을 참고해 주세요.\n",
    "\n",
    "# 상황:\n",
    "{question}\n",
    "\n",
    "# FORMAT:\n",
    "- 영어 회화:\n",
    "- 한글 해석:\n",
    "\"\"\"\n"
   ]
  },
  {
   "cell_type": "code",
   "execution_count": 14,
   "id": "90e808f7",
   "metadata": {},
   "outputs": [],
   "source": [
    "prompt = PromptTemplate.from_template(template)\n",
    "\n",
    "model = ChatGoogleGenerativeAI(\n",
    "    model=\"gemini-2.5-flash\",\n",
    "    temperature=0.1, # 창의성 (0.0 ~ 2.0)\n",
    "    google_api_key=gemini_api_key\n",
    ")\n",
    "\n",
    "output_parser = StrOutputParser()\n",
    "\n",
    "chain = prompt | model | output_parser\n"
   ]
  },
  {
   "cell_type": "code",
   "execution_count": 16,
   "id": "584c9f02",
   "metadata": {},
   "outputs": [],
   "source": [
    "result = chain.invoke({\"question\": \"저는 식당에서 음식을 주문하고 싶어요.\"})\n"
   ]
  },
  {
   "cell_type": "code",
   "execution_count": 17,
   "id": "59279b71",
   "metadata": {},
   "outputs": [
    {
     "data": {
      "text/plain": [
       "'안녕하세요! 식당에서 음식을 주문하는 상황, 아주 쉽고 친절하게 알려드릴게요. 걱정 마세요!\\n\\n---\\n\\n**# 상황: 저는 식당에서 음식을 주문하고 싶어요.**\\n\\n**[FORMAT]**\\n\\n- 영어 회화:\\n    **You (손님):** Hello!\\n    **Waiter (직원):** Hi there! Are you ready to order?\\n    **You (손님):** Yes, I am. I\\'d like the pasta, please.\\n    **Waiter (직원):** Okay, the pasta. And anything to drink?\\n    **You (손님):** Yes, and a Coke, please.\\n    **Waiter (직원):** Alright, so that\\'s one pasta and one Coke. Is that all for now?\\n    **You (손님):** Yes, that\\'s all. Thank you!\\n    **Waiter (직원):** Great! It\\'ll be right out.\\n\\n- 한글 해석:\\n    **You (손님):** 안녕하세요!\\n    **Waiter (직원):** 안녕하세요! 주문하시겠어요?\\n    **You (손님):** 네, 할게요. 파스타로 부탁해요.\\n    **Waiter (직원):** 네, 파스타요. 마실 것은요?\\n    **You (손님):** 네, 콜라 한 잔 주세요.\\n    **Waiter (직원):** 알겠습니다, 파스타 하나랑 콜라 하나요. 지금은 이게 다인가요?\\n    **You (손님):** 네, 그게 다예요. 감사합니다!\\n    **Waiter (직원):** 좋아요! 곧 가져다 드릴게요.\\n\\n---\\n\\n**✨ 선생님의 꿀팁! ✨**\\n\\n*   **\"I\\'d like ~\"** (아이드 라이크 ~)는 \"저는 ~을 원해요\" 라는 아주 공손하고 자연스러운 표현이에요. \"I want ~\" 보다 훨씬 부드럽게 들린답니다!\\n*   음식 이름 뒤에 **\"please\"** (플리즈)를 붙이면 더 예의 바르게 들려요.\\n*   주문이 끝났을 때는 **\"That\\'s all.\"** (댓츠 올) 또는 **\"That\\'s everything.\"** (댓츠 에브리띵) 이라고 말하면 돼요. \"이게 다예요.\" 라는 뜻이죠!\\n\\n이 정도면 식당에서 자신 있게 주문할 수 있을 거예요! 잘했어요! 😊'"
      ]
     },
     "execution_count": 17,
     "metadata": {},
     "output_type": "execute_result"
    }
   ],
   "source": [
    "result"
   ]
  },
  {
   "cell_type": "code",
   "execution_count": 18,
   "id": "3da1238c",
   "metadata": {},
   "outputs": [
    {
     "name": "stdout",
     "output_type": "stream",
     "text": [
      "안녕하세요! 식당에서 음식을 주문하는 상황, 아주 쉽고 친절하게 알려드릴게요. 걱정 마세요!\n",
      "\n",
      "---\n",
      "\n",
      "**# 상황: 저는 식당에서 음식을 주문하고 싶어요.**\n",
      "\n",
      "**[FORMAT]**\n",
      "\n",
      "- 영어 회화:\n",
      "    **You (손님):** Hello!\n",
      "    **Waiter (직원):** Hi there! Are you ready to order?\n",
      "    **You (손님):** Yes, I am. I'd like the pasta, please.\n",
      "    **Waiter (직원):** Okay, the pasta. And anything to drink?\n",
      "    **You (손님):** Yes, and a Coke, please.\n",
      "    **Waiter (직원):** Alright, so that's one pasta and one Coke. Is that all for now?\n",
      "    **You (손님):** Yes, that's all. Thank you!\n",
      "    **Waiter (직원):** Great! It'll be right out.\n",
      "\n",
      "- 한글 해석:\n",
      "    **You (손님):** 안녕하세요!\n",
      "    **Waiter (직원):** 안녕하세요! 주문하시겠어요?\n",
      "    **You (손님):** 네, 할게요. 파스타로 부탁해요.\n",
      "    **Waiter (직원):** 네, 파스타요. 마실 것은요?\n",
      "    **You (손님):** 네, 콜라 한 잔 주세요.\n",
      "    **Waiter (직원):** 알겠습니다, 파스타 하나랑 콜라 하나요. 지금은 이게 다인가요?\n",
      "    **You (손님):** 네, 그게 다예요. 감사합니다!\n",
      "    **Waiter (직원):** 좋아요! 곧 가져다 드릴게요.\n",
      "\n",
      "---\n",
      "\n",
      "**✨ 선생님의 꿀팁! ✨**\n",
      "\n",
      "*   **\"I'd like ~\"** (아이드 라이크 ~)는 \"저는 ~을 원해요\" 라는 아주 공손하고 자연스러운 표현이에요. \"I want ~\" 보다 훨씬 부드럽게 들린답니다!\n",
      "*   음식 이름 뒤에 **\"please\"** (플리즈)를 붙이면 더 예의 바르게 들려요.\n",
      "*   주문이 끝났을 때는 **\"That's all.\"** (댓츠 올) 또는 **\"That's everything.\"** (댓츠 에브리띵) 이라고 말하면 돼요. \"이게 다예요.\" 라는 뜻이죠!\n",
      "\n",
      "이 정도면 식당에서 자신 있게 주문할 수 있을 거예요! 잘했어요! 😊\n"
     ]
    }
   ],
   "source": [
    "print(result)"
   ]
  },
  {
   "cell_type": "markdown",
   "id": "5291310b",
   "metadata": {},
   "source": [
    "### JsonOutputParser"
   ]
  },
  {
   "cell_type": "code",
   "execution_count": 1,
   "id": "e74d8f0e",
   "metadata": {},
   "outputs": [],
   "source": [
    "from langchain_core.output_parsers import JsonOutputParser\n",
    "\n",
    "# JsonOutputParser 인스턴스 생성\n",
    "parser = JsonOutputParser()"
   ]
  },
  {
   "cell_type": "code",
   "execution_count": 2,
   "id": "2b63d20d",
   "metadata": {},
   "outputs": [],
   "source": [
    "from langchain_core.prompts import PromptTemplate\n",
    "\n",
    "template = \"\"\"\n",
    "당신은 영어를 아주 쉽게 가르치는 친절한 영어 선생님입니다. 주어진 상황에 맞는 영어 회화를 작성해 주세요.\n",
    "양식은 [FORMAT]을 참고해 주세요.\n",
    "\n",
    "# 상황:\n",
    "{question}\n",
    "\n",
    "# FORMAT:\n",
    "{format_instructions}\n",
    "\"\"\"\n",
    "\n",
    "prompt = PromptTemplate(\n",
    "    template=template,\n",
    "    input_variables=[\"question\"],\n",
    "    partial_variables={\n",
    "        \"format_instructions\": parser.get_format_instructions() # LLM에게 JSON 출력 형식을 정확히 지시하는 문자열을 반환\n",
    "    },\n",
    ")"
   ]
  },
  {
   "cell_type": "code",
   "execution_count": 8,
   "id": "30ecf958",
   "metadata": {},
   "outputs": [],
   "source": [
    "model = ChatGoogleGenerativeAI(\n",
    "    model=\"gemini-2.5-flash\",\n",
    "    temperature=0.1,\n",
    "    google_api_key=gemini_api_key\n",
    ")"
   ]
  },
  {
   "cell_type": "code",
   "execution_count": 9,
   "id": "e95ad2b5",
   "metadata": {},
   "outputs": [],
   "source": [
    "# 체인 구성\n",
    "chain = prompt | model | parser"
   ]
  },
  {
   "cell_type": "code",
   "execution_count": 10,
   "id": "a56e1e78",
   "metadata": {},
   "outputs": [],
   "source": [
    "# JSON 객체로 파싱되어 출력\n",
    "user_question = \"친구와 저녁 메뉴를 정하는 상황\"\n",
    "response = chain.invoke({\"question\": user_question})"
   ]
  },
  {
   "cell_type": "code",
   "execution_count": 20,
   "id": "dc759608",
   "metadata": {},
   "outputs": [
    {
     "name": "stdout",
     "output_type": "stream",
     "text": [
      "{ 'conversation': [ { 'line': 'Hey Tom, what should we have for dinner '\n",
      "                              'tonight?',\n",
      "                      'speaker': 'Sarah'},\n",
      "                    { 'line': \"Hmm, good question. I'm pretty hungry.\",\n",
      "                      'speaker': 'Tom'},\n",
      "                    {'line': 'How about pizza?', 'speaker': 'Sarah'},\n",
      "                    { 'line': 'Pizza sounds okay, but I had it yesterday. Not '\n",
      "                              'really in the mood for that.',\n",
      "                      'speaker': 'Tom'},\n",
      "                    { 'line': 'Oh, right. What about Korean food then? Like '\n",
      "                              'bulgogi or bibimbap?',\n",
      "                      'speaker': 'Sarah'},\n",
      "                    { 'line': \"Oh, yeah! Korean food sounds great! I'm craving \"\n",
      "                              'some kimchi.',\n",
      "                      'speaker': 'Tom'},\n",
      "                    { 'line': \"Perfect! Let's go to that new Korean restaurant \"\n",
      "                              'downtown.',\n",
      "                      'speaker': 'Sarah'},\n",
      "                    { 'line': \"Sounds good to me! Let's meet there at 7.\",\n",
      "                      'speaker': 'Tom'}],\n",
      "  'description': '친구와 저녁 메뉴를 정하는 상황입니다. 쉽고 친근한 표현들을 사용했어요.',\n",
      "  'teacher_notes': { 'key_phrases': [ { 'meaning': '우리 저녁으로 뭐 먹을까?',\n",
      "                                        'phrase': 'What should we have for '\n",
      "                                                  'dinner?',\n",
      "                                        'tip': '저녁 메뉴를 물어볼 때 가장 흔하고 자연스러운 '\n",
      "                                               '표현이에요.'},\n",
      "                                      { 'meaning': '~는 어때?',\n",
      "                                        'phrase': 'How about [food type]?',\n",
      "                                        'tip': \"특정 메뉴를 제안할 때 아주 유용해요. 예: 'How \"\n",
      "                                               \"about pasta?' (파스타는 어때?)\"},\n",
      "                                      { 'meaning': '그건 별로 내키지 않아.',\n",
      "                                        'phrase': 'Not really in the mood for '\n",
      "                                                  'that.',\n",
      "                                        'tip': '상대방의 제안을 정중하게 거절할 때 쓰는 표현이에요. '\n",
      "                                               \"'I don't want that.' 보다 훨씬 \"\n",
      "                                               '부드럽죠.'},\n",
      "                                      { 'meaning': '그럼 ~는 어때?',\n",
      "                                        'phrase': 'What about [food type] '\n",
      "                                                  'then?',\n",
      "                                        'tip': \"다른 대안을 제시할 때 'then'을 붙여서 자연스럽게 \"\n",
      "                                               '연결할 수 있어요.'},\n",
      "                                      { 'meaning': '좋다! / 나도 좋아!',\n",
      "                                        'phrase': 'Sounds great! / Sounds good '\n",
      "                                                  'to me!',\n",
      "                                        'tip': '상대방의 제안에 동의할 때 쓰는 아주 흔하고 긍정적인 '\n",
      "                                               '표현이에요.'},\n",
      "                                      { 'meaning': '~가 너무 먹고 싶어.',\n",
      "                                        'phrase': \"I'm craving some [food \"\n",
      "                                                  'type].',\n",
      "                                        'tip': \"특정 음식이 강하게 당길 때 쓰는 표현이에요. 'I \"\n",
      "                                               \"want to eat...' 보다 훨씬 생생하게 \"\n",
      "                                               '들려요.'}],\n",
      "                     'pronunciation_tips': '문장을 말할 때 너무 딱딱하게 끊지 말고, 자연스럽게 이어서 '\n",
      "                                           \"말해보세요. 특히 'What should we have' 같은 \"\n",
      "                                           \"부분은 '워슈위 해브'처럼 들릴 수 있어요.\"},\n",
      "  'title': '친구와 저녁 메뉴 정하기 (Deciding Dinner with a Friend)'}\n"
     ]
    }
   ],
   "source": [
    "import pprint\n",
    "pprint.pprint(response, indent=2)"
   ]
  },
  {
   "cell_type": "markdown",
   "id": "ea0f3230",
   "metadata": {},
   "source": [
    "### JsonOutputParser + Pydantic"
   ]
  },
  {
   "cell_type": "code",
   "execution_count": 40,
   "id": "c9930efb",
   "metadata": {},
   "outputs": [],
   "source": [
    "from pydantic import BaseModel, Field\n",
    "\n",
    "# 원하는 JSON 구조를 Pydantic 클래스로 정의\n",
    "class EnglishConversation(BaseModel):\n",
    "    title: str = Field(description=\"상황에 대한 제목\")\n",
    "    dialogue: list = Field(description=\"상황에 맞는 영어 대화 리스트\")\n",
    "    explanation: str = Field(description=\"대화에 대한 쉬운 설명\")"
   ]
  },
  {
   "cell_type": "code",
   "execution_count": 41,
   "id": "1ac37978",
   "metadata": {},
   "outputs": [],
   "source": [
    "# JsonOutputParser에 Pydantic 스키마 전달\n",
    "parser = JsonOutputParser(pydantic_object=EnglishConversation)"
   ]
  },
  {
   "cell_type": "code",
   "execution_count": 43,
   "id": "840a5daa",
   "metadata": {},
   "outputs": [],
   "source": [
    "# 프롬프트에 스키마 정보 포함\n",
    "template = \"\"\"\n",
    "당신은 영어를 아주 쉽게 가르치는 친절한 영어 선생님입니다. 주어진 상황에 맞는 영어 회화를 작성해 주세요.\n",
    "출력 양식은 아래 [FORMAT]을 참고해 주세요. 모든 키 이름은 정확히 이 양식과 일치해야 합니다.\n",
    "\n",
    "# 상황:\n",
    "{question}\n",
    "\n",
    "# FORMAT:\n",
    "{format_instructions}\n",
    "\n",
    "# 예시:\n",
    "{{\n",
    "  \"title\": \"저녁 식사 정하기 (Deciding Dinner)\",\n",
    "  \"dialogue\": [\n",
    "    {{\"speaker\": \"A\", \"text\": \"What should we have for dinner?\"}},\n",
    "    {{\"speaker\": \"B\", \"text\": \"I'm craving some pizza.\"}}\n",
    "  ],\n",
    "  \"explanation\": \"친구와 저녁 메뉴를 정하는 상황입니다. 간단한 표현을 사용했어요.\"\n",
    "}}\n",
    "\"\"\"\n",
    "\n",
    "prompt = PromptTemplate(\n",
    "    template=template,\n",
    "    input_variables=[\"question\"],\n",
    "    partial_variables={\n",
    "        \"format_instructions\": parser.get_format_instructions()\n",
    "    },\n",
    ")"
   ]
  },
  {
   "cell_type": "code",
   "execution_count": 44,
   "id": "de289ce3",
   "metadata": {},
   "outputs": [],
   "source": [
    "# 체인 구성 및 실행\n",
    "chain = prompt | model | parser"
   ]
  },
  {
   "cell_type": "code",
   "execution_count": 45,
   "id": "f04d14f0",
   "metadata": {},
   "outputs": [],
   "source": [
    "result = chain.invoke({\"question\": \"식당에서 주문하는 상황\"})"
   ]
  },
  {
   "cell_type": "code",
   "execution_count": 46,
   "id": "e8e83547",
   "metadata": {},
   "outputs": [
    {
     "name": "stdout",
     "output_type": "stream",
     "text": [
      "{ 'dialogue': [ { 'speaker': 'Server',\n",
      "                  'text': \"Hi there! Welcome to 'Delicious Bites'. Are you \"\n",
      "                          'ready to order, or do you need a few more minutes?'},\n",
      "                { 'speaker': 'Customer',\n",
      "                  'text': \"Hi! I think I'm ready. What's good here? Do you \"\n",
      "                          'have any specials?'},\n",
      "                { 'speaker': 'Server',\n",
      "                  'text': \"Yes, our chef's special today is the Grilled Salmon \"\n",
      "                          \"with Lemon-Dill Sauce. It's very popular! Also, our \"\n",
      "                          'Classic Burger is always a hit.'},\n",
      "                { 'speaker': 'Customer',\n",
      "                  'text': \"Oh, the Grilled Salmon sounds delicious! I'll have \"\n",
      "                          'that, please. And for a drink, could I get a '\n",
      "                          'sparkling water?'},\n",
      "                { 'speaker': 'Server',\n",
      "                  'text': 'Certainly! Grilled Salmon and a sparkling water. '\n",
      "                          'Anything else for you today, perhaps an appetizer?'},\n",
      "                { 'speaker': 'Customer',\n",
      "                  'text': \"No, I think that's all for now. Thank you!\"},\n",
      "                { 'speaker': 'Server',\n",
      "                  'text': 'Alright. So, one Grilled Salmon and one sparkling '\n",
      "                          \"water. I'll put that order in for you. It shouldn't \"\n",
      "                          'be too long.'},\n",
      "                {'speaker': 'Customer', 'text': 'Great, thanks!'}],\n",
      "  'explanation': \"이 대화는 식당에서 음식을 주문하는 상황을 보여줍니다. 'Are you ready to order?'는 \"\n",
      "                 \"주문할 준비가 되었는지 묻는 표현이고, 'What's good here?' 또는 'Do you have \"\n",
      "                 \"any specials?'는 추천 메뉴나 특별 메뉴를 물어볼 때 사용해요. 'I'll have that, \"\n",
      "                 \"please.'는 특정 메뉴를 주문할 때 쓰는 아주 유용한 표현입니다. 음료를 주문할 때는 'Could I \"\n",
      "                 \"get a ~?'를 쓸 수 있어요. 마지막으로 'Anything else for you today?'는 추가 \"\n",
      "                 '주문이 있는지 묻는 말입니다.',\n",
      "  'title': '식당에서 주문하기 (Ordering at a Restaurant)'}\n"
     ]
    }
   ],
   "source": [
    "pprint.pprint(result, indent=2)"
   ]
  }
 ],
 "metadata": {
  "kernelspec": {
   "display_name": ".venv",
   "language": "python",
   "name": "python3"
  },
  "language_info": {
   "codemirror_mode": {
    "name": "ipython",
    "version": 3
   },
   "file_extension": ".py",
   "mimetype": "text/x-python",
   "name": "python",
   "nbconvert_exporter": "python",
   "pygments_lexer": "ipython3",
   "version": "3.13.5"
  }
 },
 "nbformat": 4,
 "nbformat_minor": 5
}
