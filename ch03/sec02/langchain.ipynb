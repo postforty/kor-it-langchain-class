{
 "cells": [
  {
   "cell_type": "markdown",
   "id": "602add8d",
   "metadata": {},
   "source": [
    "### 환경 변수 설정"
   ]
  },
  {
   "cell_type": "code",
   "execution_count": 3,
   "id": "3ad1bfef",
   "metadata": {},
   "outputs": [],
   "source": [
    "import os\n",
    "from dotenv import load_dotenv\n",
    "load_dotenv()\n",
    "\n",
    "gemini_api_key = os.getenv(\"GEMINI_API_KEY\")"
   ]
  },
  {
   "cell_type": "markdown",
   "id": "e6985d0e",
   "metadata": {},
   "source": [
    "### 랭체인 구글 제미나이 의존성 설치\n",
    "> 원문: <https://python.langchain.com/docs/integrations/providers/google/>\n",
    "\n",
    "```bash\n",
    "# jupyter notebook\n",
    "uv add jupyter jupyterlab ipykernel\n",
    "\n",
    "# langchain-google-genai\n",
    "uv add langchain-google-genai\n",
    "```"
   ]
  },
  {
   "cell_type": "markdown",
   "id": "581e3aa0",
   "metadata": {},
   "source": [
    "### 랭체인 Google Generative AI 연동"
   ]
  },
  {
   "cell_type": "code",
   "execution_count": 6,
   "id": "3fd01d39",
   "metadata": {},
   "outputs": [
    {
     "name": "stdout",
     "output_type": "stream",
     "text": [
      "(감미로운 피아노 선율이 흐르며, 서정적인 발라드풍으로 노래합니다.)\n",
      "\n",
      "**랭체인 발라드 (LangChain Ballad)**\n",
      "\n",
      "(1절)\n",
      "깊은 지식 품은 거대 모델이여\n",
      "홀로 서기 힘든 막막한 길에\n",
      "복잡한 질문 앞에 고뇌할 때면\n",
      "어둠 속 헤맬 때 한 줄기 빛이\n",
      "\n",
      "(2절)\n",
      "그 이름 랭체인, 희망의 노래\n",
      "조각난 생각들 하나로 엮어\n",
      "지혜의 사슬 되어 길을 밝히니\n",
      "꿈꾸던 AI 세상 열어주네\n",
      "\n",
      "(3절)\n",
      "프롬프트 그 지시 섬세한 손길\n",
      "생각의 흐름을 엮어가는 체인\n",
      "답변의 실타래 풀어내듯이\n",
      "논리의 춤을 추듯 흘러가네\n",
      "\n",
      "(4절)\n",
      "기억을 더듬어 지나온 대화\n",
      "도구를 건네어 세상과 닿네\n",
      "에이전트 그들은 스스로 판단해\n",
      "복잡한 과업도 두렵지 않네\n",
      "\n",
      "(5절)\n",
      "개발자의 밤은 더 이상 길지 않아\n",
      "복잡했던 꿈들이 현실이 되네\n",
      "랭체인, 그 이름 속삭이는 바람\n",
      "미래를 향한 다리 놓아주네\n",
      "\n",
      "(후렴)\n",
      "아아, 랭체인\n",
      "지능의 꽃 피우는 마법의 열쇠\n",
      "영원히 빛나리, 그 이름 랭체인\n",
      "인공지능의 새 지평을 열어주오\n",
      "\n",
      "(피아노 선율이 잔잔히 사라집니다.)\n"
     ]
    }
   ],
   "source": [
    "from langchain_google_genai import ChatGoogleGenerativeAI\n",
    "from langchain_core.messages import HumanMessage\n",
    "\n",
    "llm = ChatGoogleGenerativeAI(model=\"gemini-2.5-flash\", google_api_key=gemini_api_key)\n",
    "\n",
    "# Simple text invocation\n",
    "result = llm.invoke(\"Sing a ballad of LangChain in Korean. \")\n",
    "print(result.content)"
   ]
  },
  {
   "cell_type": "code",
   "execution_count": 7,
   "id": "29129893",
   "metadata": {},
   "outputs": [
    {
     "name": "stdout",
     "output_type": "stream",
     "text": [
      "이 사진은 눈 덮인 산 풍경을 보여줍니다.\n",
      "\n",
      "오른쪽에는 눈으로 덮인 뾰족한 산봉우리가 보이고, 그 아래와 왼쪽으로는 넓은 눈밭이 펼쳐져 있습니다. 하늘은 분홍색, 보라색, 주황색이 섞인 아름다운 노을빛을 띠고 있으며, 부드러운 구름들이 흩어져 있습니다. 전반적으로 고요하고 평화로운 겨울 풍경입니다.\n"
     ]
    }
   ],
   "source": [
    "# Multimodal invocation with gemini-pro-vision\n",
    "message = HumanMessage(\n",
    "    content=[\n",
    "        {\n",
    "            \"type\": \"text\",\n",
    "            \"text\": \"What's in this image? Speack in Korean!\",\n",
    "        },\n",
    "        {\"type\": \"image_url\", \"image_url\": \"https://picsum.photos/seed/picsum/200/300\"},\n",
    "    ]\n",
    ")\n",
    "result = llm.invoke([message])\n",
    "print(result.content)"
   ]
  },
  {
   "cell_type": "code",
   "execution_count": 8,
   "id": "543e192b",
   "metadata": {},
   "outputs": [
    {
     "data": {
      "text/plain": [
       "AIMessage(content='안녕하세요, 김일남 님! 만나서 반갑습니다.\\n무엇을 도와드릴까요?', additional_kwargs={}, response_metadata={'prompt_feedback': {'block_reason': 0, 'safety_ratings': []}, 'finish_reason': 'STOP', 'model_name': 'gemini-2.5-flash', 'safety_ratings': []}, id='run--c057b21d-647e-4d50-bb08-a6ed989299bd-0', usage_metadata={'input_tokens': 10, 'output_tokens': 766, 'total_tokens': 776, 'input_token_details': {'cache_read': 0}, 'output_token_details': {'reasoning': 746}})"
      ]
     },
     "execution_count": 8,
     "metadata": {},
     "output_type": "execute_result"
    }
   ],
   "source": [
    "llm.invoke([HumanMessage(content=\"안녕? 나는 김일남이야.\")])"
   ]
  },
  {
   "cell_type": "code",
   "execution_count": 9,
   "id": "01a79567",
   "metadata": {},
   "outputs": [
    {
     "data": {
      "text/plain": [
       "AIMessage(content='저는 당신의 이름을 알지 못합니다. 저는 개인 정보를 저장하거나 기억하지 않기 때문입니다.\\n\\n만약 저에게 당신의 이름을 알려주시면, 대화하는 동안 그 이름으로 불러드릴 수 있습니다.', additional_kwargs={}, response_metadata={'prompt_feedback': {'block_reason': 0, 'safety_ratings': []}, 'finish_reason': 'STOP', 'model_name': 'gemini-2.5-flash', 'safety_ratings': []}, id='run--dcf35bcb-29bc-44e3-b61e-0c938928e713-0', usage_metadata={'input_tokens': 7, 'output_tokens': 715, 'total_tokens': 722, 'input_token_details': {'cache_read': 0}, 'output_token_details': {'reasoning': 670}})"
      ]
     },
     "execution_count": 9,
     "metadata": {},
     "output_type": "execute_result"
    }
   ],
   "source": [
    "llm.invoke([HumanMessage(content=\"내 이름이 뭐지?\")])"
   ]
  }
 ],
 "metadata": {
  "kernelspec": {
   "display_name": ".venv",
   "language": "python",
   "name": "python3"
  },
  "language_info": {
   "codemirror_mode": {
    "name": "ipython",
    "version": 3
   },
   "file_extension": ".py",
   "mimetype": "text/x-python",
   "name": "python",
   "nbconvert_exporter": "python",
   "pygments_lexer": "ipython3",
   "version": "3.13.5"
  }
 },
 "nbformat": 4,
 "nbformat_minor": 5
}
