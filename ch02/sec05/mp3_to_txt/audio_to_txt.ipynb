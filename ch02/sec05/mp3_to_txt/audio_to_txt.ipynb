{
 "cells": [
  {
   "cell_type": "code",
   "execution_count": 1,
   "id": "e458f65e",
   "metadata": {},
   "outputs": [],
   "source": [
    "# LLM API\n",
    "from google import genai\n",
    "\n",
    "# 환경 변수\n",
    "import os\n",
    "from dotenv import load_dotenv\n",
    "load_dotenv()\n",
    "\n",
    "gemini_api_key = os.getenv(\"GEMINI_API_KEY\")\n",
    "MODEL_ID = \"gemini-2.5-flash\""
   ]
  },
  {
   "cell_type": "code",
   "execution_count": 2,
   "id": "de098f3c",
   "metadata": {},
   "outputs": [],
   "source": [
    "client = genai.Client(api_key=gemini_api_key)"
   ]
  },
  {
   "cell_type": "code",
   "execution_count": 3,
   "id": "ed935c61",
   "metadata": {},
   "outputs": [],
   "source": [
    "URL = \"downloads/Steve Jobs' 2005 Stanford Commencement Address.mp3\""
   ]
  },
  {
   "cell_type": "code",
   "execution_count": 4,
   "id": "bfcfa3b7",
   "metadata": {},
   "outputs": [],
   "source": [
    "your_audio_file = client.files.upload(file=URL)"
   ]
  },
  {
   "cell_type": "code",
   "execution_count": 5,
   "id": "7bbb2548",
   "metadata": {},
   "outputs": [
    {
     "data": {
      "text/plain": [
       "File(\n",
       "  create_time=datetime.datetime(2025, 8, 6, 1, 12, 29, 475399, tzinfo=TzInfo(UTC)),\n",
       "  expiration_time=datetime.datetime(2025, 8, 8, 1, 12, 29, 318745, tzinfo=TzInfo(UTC)),\n",
       "  mime_type='audio/mpeg',\n",
       "  name='files/421gavkkbggp',\n",
       "  sha256_hash='ZWVjZDY4MGEzYjY1MTI1ZmYwNDdhOTFhNTUxMDIxNzNiNzI5MTc4MGU5ZTM3OTM3MzQyMGRkNThjYzEyZDJjZQ==',\n",
       "  size_bytes=21702572,\n",
       "  source=<FileSource.UPLOADED: 'UPLOADED'>,\n",
       "  state=<FileState.ACTIVE: 'ACTIVE'>,\n",
       "  update_time=datetime.datetime(2025, 8, 6, 1, 12, 29, 475399, tzinfo=TzInfo(UTC)),\n",
       "  uri='https://generativelanguage.googleapis.com/v1beta/files/421gavkkbggp'\n",
       ")"
      ]
     },
     "execution_count": 5,
     "metadata": {},
     "output_type": "execute_result"
    }
   ],
   "source": [
    "your_audio_file"
   ]
  },
  {
   "cell_type": "markdown",
   "id": "c34a2eeb",
   "metadata": {},
   "source": [
    "### Gemini 모델을 이용한 음성 요약"
   ]
  },
  {
   "cell_type": "code",
   "execution_count": 6,
   "id": "0c68391b",
   "metadata": {},
   "outputs": [
    {
     "name": "stdout",
     "output_type": "stream",
     "text": [
      "Steve Jobs' 2005 Stanford Commencement Address is structured around three personal stories from his life.\n",
      "\n",
      "1.  **Connecting the Dots:** He recounts dropping out of Reed College and later auditing a calligraphy class, which at the time seemed impractical. Years later, this knowledge was crucial in designing the pioneering typography of the Macintosh computer. His lesson: you can only connect life's dots looking backward, so trust that they will somehow connect in your future, urging faith in intuition.\n",
      "\n",
      "2.  **Love and Loss:** Jobs shares the experience of being fired from Apple, the company he co-founded. This devastating event, he explains, ultimately freed him to create NeXT and Pixar, and to meet his wife. He later returned to Apple, and the technology developed at NeXT became central to Apple's renaissance. His lesson: find what you truly love to do, as it will sustain you through difficult times, and sometimes the worst setbacks can be transformative.\n",
      "\n",
      "3.  **Death:** He discusses his recent pancreatic cancer diagnosis, which brought him face-to-face with mortality. This experience reinforced his belief that remembering you will die is the most powerful tool to make big life choices, as it strips away superficial concerns and encourages living authentically, following one's heart and intuition.\n",
      "\n",
      "Jobs concludes by advising the graduates to \"Stay Hungry, Stay Foolish,\" encouraging them to always seek new experiences, remain curious, and never lose their beginner's mindset.\n"
     ]
    }
   ],
   "source": [
    "response = client.models.generate_content(\n",
    "  model=MODEL_ID,\n",
    "  contents=[\n",
    "    'Listen carefully to the following audio file. Provide a brief summary.',\n",
    "    your_audio_file,\n",
    "  ]\n",
    ")\n",
    "\n",
    "print(response.text)"
   ]
  },
  {
   "cell_type": "markdown",
   "id": "078ce609",
   "metadata": {},
   "source": [
    "### Gemini 모델을 이용한 한글 번역"
   ]
  },
  {
   "cell_type": "code",
   "execution_count": 7,
   "id": "ead343c8",
   "metadata": {},
   "outputs": [
    {
     "name": "stdout",
     "output_type": "stream",
     "text": [
      "스티브 잡스의 2005년 스탠퍼드 대학교 졸업 연설은 그의 삶에서 나온 세 가지 개인적인 이야기를 중심으로 구성되어 있습니다.\n",
      "\n",
      "1.  **점 연결하기 (Connecting the Dots):** 그는 리드 칼리지를 중퇴하고 나중에 서예 수업을 청강했던 경험을 이야기합니다. 당시에는 비실용적으로 보였던 수업이었지만, 몇 년 후 이 지식은 매킨토시 컴퓨터의 선구적인 타이포그래피를 디자인하는 데 결정적인 역할을 했습니다. 그의 교훈은 이렇습니다: 인생의 점들은 뒤돌아봐야만 연결할 수 있으니, 미래에 어떻게든 연결될 것이라고 믿고 자신의 직관을 신뢰하라는 것입니다.\n",
      "\n",
      "2.  **사랑과 상실 (Love and Loss):** 잡스는 자신이 공동 설립한 회사인 애플에서 해고당했던 경험을 이야기합니다. 그는 이 참담했던 사건이 결국 자신을 자유롭게 하여 NeXT와 픽사를 설립하고 아내를 만나게 해주었다고 설명합니다. 그는 나중에 애플로 복귀했으며, NeXT에서 개발된 기술은 애플의 부흥에 핵심적인 역할을 했습니다. 그의 교훈은 이렇습니다: 진정으로 사랑하는 일을 찾으십시오. 그것이 어려운 시기를 견디게 해줄 것이며, 때로는 최악의 좌절이 변혁의 계기가 될 수 있습니다.\n",
      "\n",
      "3.  **죽음 (Death):** 그는 최근의 췌장암 진단에 대해 이야기하며, 이를 통해 자신이 죽음과 직면하게 되었다고 말합니다. 이 경험은 자신이 죽을 것이라는 사실을 기억하는 것이 중요한 삶의 선택을 내리는 가장 강력한 도구라는 그의 믿음을 더욱 굳건히 했습니다. 이는 피상적인 걱정을 걷어내고, 진정성 있게 자신의 마음과 직관을 따르며 살도록 격려하기 때문입니다.\n",
      "\n",
      "잡스는 마지막으로 졸업생들에게 \"늘 갈망하고, 우직하게 나아가라(Stay Hungry, Stay Foolish)\"고 조언하며, 항상 새로운 경험을 추구하고, 호기심을 잃지 않으며, 초심자의 마음가짐을 유지하라고 격려합니다.\n"
     ]
    }
   ],
   "source": [
    "eng_to_kor = client.models.generate_content(\n",
    "  model=MODEL_ID,\n",
    "  contents=[\n",
    "    'Translate the following English text into Korean:',\n",
    "    response.text,\n",
    "  ]\n",
    ")\n",
    "\n",
    "print(eng_to_kor.text)"
   ]
  }
 ],
 "metadata": {
  "kernelspec": {
   "display_name": ".venv",
   "language": "python",
   "name": "python3"
  },
  "language_info": {
   "codemirror_mode": {
    "name": "ipython",
    "version": 3
   },
   "file_extension": ".py",
   "mimetype": "text/x-python",
   "name": "python",
   "nbconvert_exporter": "python",
   "pygments_lexer": "ipython3",
   "version": "3.13.5"
  }
 },
 "nbformat": 4,
 "nbformat_minor": 5
}
