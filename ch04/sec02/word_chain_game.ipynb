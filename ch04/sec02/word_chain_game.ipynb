{
 "cells": [
  {
   "cell_type": "markdown",
   "metadata": {},
   "source": [
    "### 끝말잇기 게임\n",
    "\n",
    "**멀티턴** 대화 관리 기술을 실제 게임에 적용한 예시\n",
    "\n",
    "#### 게임 규칙\n",
    "1. 이미 나온 단어를 다시 말하면 패배\n",
    "2. 두음법칙 허용 (ex. 리→이, 력→역, 락→낙)\n",
    "3. 국어사전에 존재하는 명사만 허용\n",
    "4. **아무런 설명 없이, 끝말잇기 단어만 한글로 한 단어만 출력** (프롬프트에 명확히 지시)\n",
    "\n",
    "#### 멀티턴 대화와의 연관성\n",
    "- AI가 **이전 턴에 나온 단어들을 기억**해야 하므로, 멀티턴 대화 관리 기술이 필수적입니다.\n",
    "- 대화 기록을 바탕으로 **중복 단어 방지, 규칙 위반 감지**가 가능합니다.\n",
    "- 실제 서비스에서는 세션별로 기록을 분리해 여러 사용자가 동시에 게임을 즐길 수 있습니다.\n",
    "\n",
    "#### 실습 포인트\n",
    "- 프롬프트 설계가 중요: \"설명 없이 단어만 출력\"을 명확히 지시해야 LLM이 불필요한 설명을 하지 않음\n",
    "- 대화 기록 요약/관리 기법을 게임에도 적용할 수 있음"
   ]
  },
  {
   "cell_type": "code",
   "execution_count": 1,
   "metadata": {},
   "outputs": [],
   "source": [
    "import os\n",
    "from dotenv import load_dotenv\n",
    "load_dotenv()\n",
    "\n",
    "gemini_api_key = os.getenv(\"GEMINI_API_KEY\")"
   ]
  },
  {
   "cell_type": "code",
   "execution_count": 2,
   "metadata": {},
   "outputs": [],
   "source": [
    "from langchain_google_genai import ChatGoogleGenerativeAI\n",
    "\n",
    "llm = ChatGoogleGenerativeAI(model=\"gemini-2.5-flash\", google_api_key=gemini_api_key)"
   ]
  },
  {
   "cell_type": "code",
   "execution_count": 3,
   "metadata": {},
   "outputs": [
    {
     "data": {
      "text/plain": [
       "[]"
      ]
     },
     "execution_count": 3,
     "metadata": {},
     "output_type": "execute_result"
    }
   ],
   "source": [
    "from langchain_community.chat_message_histories import ChatMessageHistory\n",
    "from langchain_core.prompts import ChatPromptTemplate\n",
    "from langchain_core.runnables.history import RunnableWithMessageHistory\n",
    "\n",
    "\n",
    "# 대화 기록을 저장할 히스토리 클래스 불러오기\n",
    "chat_history = ChatMessageHistory()\n",
    "\n",
    "chat_history.messages"
   ]
  },
  {
   "cell_type": "code",
   "execution_count": 4,
   "metadata": {},
   "outputs": [],
   "source": [
    "prompt = ChatPromptTemplate.from_messages(\n",
    "    [\n",
    "        (\n",
    "            \"system\",\n",
    "            \"\"\"당신은 끝말잇기 게임을 진행하는 AI 챗봇입니다. 아래는 게임 규칙입니다. 당신과 user 의 입력에서 아래 규칙이 꼭 지켜져야 하며, 지키지 않은 사람에게 패배를 알린 뒤, 끝말잇기 게임을 종료합니다.\n",
    "                1. 주어진 대화 기록에서 이미 나왔던 단어를 다시 말했을 경우 패배합니다.\n",
    "                2. 두음법칙을 허용합니다. (ex. 리 -> 이, 력 -> 역, 락 -> 낙)\n",
    "                3. 국어사전에 존재하는 단어이자, 명사여야 합니다.\n",
    "                4. 아무런 설명 없이, 끝말잇기 단어만 한글로 한 단어만 출력하세요.\n",
    "            \"\"\",\n",
    "        ),\n",
    "        (\"placeholder\", \"{chat_history}\"),\n",
    "        (\"user\", \"{input}\"),\n",
    "    ]\n",
    ")\n",
    "\n",
    "chain = prompt | llm\n",
    "\n",
    "chain_with_message_history = RunnableWithMessageHistory(\n",
    "    chain,\n",
    "    lambda session_id: chat_history,\n",
    "    input_messages_key=\"input\",\n",
    "    history_messages_key=\"chat_history\",\n",
    ")"
   ]
  },
  {
   "cell_type": "code",
   "execution_count": 7,
   "metadata": {},
   "outputs": [],
   "source": [
    "from langchain_core.runnables import RunnablePassthrough\n",
    "\n",
    "def summarize_messages(chain_input):\n",
    "    stored_messages = chat_history.messages\n",
    "    if len(stored_messages) == 0:\n",
    "        return False\n",
    "    summarization_prompt = ChatPromptTemplate.from_messages(\n",
    "        [\n",
    "            (\"placeholder\", \"{chat_history}\"),\n",
    "            (\n",
    "                \"user\",\n",
    "                \"위 채팅 메시지는 끝말잇기 게임을 진행한 대화내용입니다. 언급한 단어들만 나열하여 저장해주세요.\",\n",
    "            ),\n",
    "        ]\n",
    "    )\n",
    "    summarization_chain = summarization_prompt | llm\n",
    "\n",
    "    # chat_history 에 저장된 대화 기록을 요약프롬프트에 입력 & 결과 저장\n",
    "    summary_message = summarization_chain.invoke({\"chat_history\": stored_messages})\n",
    "\n",
    "    # chat_history 에 저장되어있던 기록 지우기\n",
    "    chat_history.clear()\n",
    "\n",
    "    # 생성된 새로운 요약내용으로 기록 채우기\n",
    "    chat_history.add_message(summary_message)\n",
    "\n",
    "    return True\n",
    "\n",
    "\n",
    "chain_with_summarization = (\n",
    "    RunnablePassthrough.assign(messages_summarized=summarize_messages)\n",
    "    | chain_with_message_history\n",
    ")"
   ]
  },
  {
   "cell_type": "code",
   "execution_count": null,
   "metadata": {},
   "outputs": [
    {
     "name": "stdout",
     "output_type": "stream",
     "text": [
      "🤖 AI TURN :  면도\n",
      "🤖 AI TURN :  마차\n",
      "🤖 AI TURN :  지우개\n"
     ]
    }
   ],
   "source": [
    "while(True):\n",
    "    user_input = input(\"🧑 YOUR TURN : \")\n",
    "    if user_input == \"종료\": break\n",
    "    response = chain_with_summarization.invoke(\n",
    "                {\"input\": user_input},\n",
    "                {\"configurable\": {\"session_id\": \"unused\"}},\n",
    "            )\n",
    "    print(\"🤖 AI TURN : \", response.content)"
   ]
  }
 ],
 "metadata": {
  "kernelspec": {
   "display_name": ".venv",
   "language": "python",
   "name": "python3"
  },
  "language_info": {
   "codemirror_mode": {
    "name": "ipython",
    "version": 3
   },
   "file_extension": ".py",
   "mimetype": "text/x-python",
   "name": "python",
   "nbconvert_exporter": "python",
   "pygments_lexer": "ipython3",
   "version": "3.13.5"
  }
 },
 "nbformat": 4,
 "nbformat_minor": 2
}
