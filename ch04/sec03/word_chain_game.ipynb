{
 "cells": [
  {
   "cell_type": "code",
   "execution_count": 1,
   "metadata": {},
   "outputs": [],
   "source": [
    "import os\n",
    "from dotenv import load_dotenv\n",
    "load_dotenv()\n",
    "\n",
    "gemini_api_key = os.getenv(\"GEMINI_API_KEY\")"
   ]
  },
  {
   "cell_type": "code",
   "execution_count": 2,
   "metadata": {},
   "outputs": [],
   "source": [
    "from langchain_google_genai import ChatGoogleGenerativeAI\n",
    "\n",
    "chat = ChatGoogleGenerativeAI(model=\"gemini-2.5-flash\", google_api_key=gemini_api_key)"
   ]
  },
  {
   "cell_type": "markdown",
   "metadata": {},
   "source": [
    "### 1. Message passing"
   ]
  },
  {
   "cell_type": "code",
   "execution_count": 6,
   "metadata": {},
   "outputs": [],
   "source": [
    "from langchain_core.prompts import ChatPromptTemplate\n",
    "\n",
    "prompt = ChatPromptTemplate.from_messages(\n",
    "    [\n",
    "        (\n",
    "            \"system\",\n",
    "            \"You are a helpful assistant. Answer all questions to the best of your ability. YOU MUST ANSWER IN KOREAN.\",\n",
    "        ),\n",
    "        (\"placeholder\", \"{messages}\"),\n",
    "    ]\n",
    ")\n",
    "\n",
    "chain = prompt | chat"
   ]
  },
  {
   "cell_type": "code",
   "execution_count": 7,
   "metadata": {},
   "outputs": [
    {
     "name": "stdout",
     "output_type": "stream",
     "text": [
      "99세이십니다.\n"
     ]
    }
   ],
   "source": [
    "ai_msg = chain.invoke(\n",
    "    {\n",
    "        \"messages\": [\n",
    "            (\n",
    "                \"human\",\n",
    "                \"내 이름은 김일남이야. 나이는 99세야.\",\n",
    "            ),\n",
    "            (\"ai\",  \"그렇군요. 나이가 많으시네요!\"),\n",
    "            (\"human\", \"내 나이는?\"),\n",
    "        ],\n",
    "    }\n",
    ")\n",
    "print(ai_msg.content)"
   ]
  },
  {
   "cell_type": "code",
   "execution_count": 9,
   "metadata": {},
   "outputs": [
    {
     "name": "stdout",
     "output_type": "stream",
     "text": [
      "## CHAT_HISTORY ##\n",
      "[('human', '한국말 할 수 있어?')] \n",
      "\n",
      "AI Says :  네, 한국말 할 수 있습니다. 무엇을 도와드릴까요?\n",
      "## CHAT_HISTORY ##\n",
      "[('human', '한국말 할 수 있어?'), ('ai', '네, 한국말 할 수 있습니다. 무엇을 도와드릴까요?'), ('human', '내가 뭐라고 했지?')] \n",
      "\n",
      "AI Says :  방금 \"한국말 할 수 있어?\"라고 물어보셨습니다.\n"
     ]
    }
   ],
   "source": [
    "history_list = []\n",
    "while(True):\n",
    "    user_input = input()\n",
    "    if user_input == \"종료\": break\n",
    "    history_list.append(\n",
    "        (\n",
    "            \"human\",\n",
    "            user_input,\n",
    "        )\n",
    "    )\n",
    "    print(\"## CHAT_HISTORY ##\")\n",
    "    print(history_list, \"\\n\")\n",
    "    ai_msg = chain.invoke(\n",
    "        {\n",
    "            \"messages\": history_list,\n",
    "        }\n",
    "    )\n",
    "    print(\"AI Says : \",ai_msg.content)\n",
    "\n",
    "    history_list.append(\n",
    "        (\n",
    "            \"ai\",\n",
    "            ai_msg.content,\n",
    "        )\n",
    "    )"
   ]
  },
  {
   "cell_type": "markdown",
   "metadata": {},
   "source": [
    "### 2. Chat history"
   ]
  },
  {
   "cell_type": "code",
   "execution_count": 18,
   "metadata": {},
   "outputs": [
    {
     "data": {
      "text/plain": [
       "[HumanMessage(content='내 이름은 김일남이야. 나이는 99세야', additional_kwargs={}, response_metadata={}),\n",
       " AIMessage(content='그렇군요. 나이가 많으시네요!', additional_kwargs={}, response_metadata={})]"
      ]
     },
     "execution_count": 18,
     "metadata": {},
     "output_type": "execute_result"
    }
   ],
   "source": [
    "from langchain_community.chat_message_histories import ChatMessageHistory\n",
    "\n",
    "chat_history = ChatMessageHistory()\n",
    "\n",
    "chat_history.add_user_message(\n",
    "    \"내 이름은 김일남이야. 나이는 99세야\"\n",
    ")\n",
    "\n",
    "chat_history.add_ai_message(\"그렇군요. 나이가 많으시네요!\")\n",
    "\n",
    "chat_history.messages\n",
    "# chat_history.clear()"
   ]
  },
  {
   "cell_type": "code",
   "execution_count": 19,
   "metadata": {},
   "outputs": [
    {
     "data": {
      "text/plain": [
       "[HumanMessage(content='내 이름은 김일남이야. 나이는 99세야', additional_kwargs={}, response_metadata={}),\n",
       " AIMessage(content='그렇군요. 나이가 많으시네요!', additional_kwargs={}, response_metadata={}),\n",
       " HumanMessage(content='내 나이는?', additional_kwargs={}, response_metadata={})]"
      ]
     },
     "execution_count": 19,
     "metadata": {},
     "output_type": "execute_result"
    }
   ],
   "source": [
    "chat_history.add_user_message(\n",
    "    \"내 나이는?\"\n",
    ")\n",
    "\n",
    "chat_history.messages"
   ]
  },
  {
   "cell_type": "code",
   "execution_count": 20,
   "metadata": {},
   "outputs": [
    {
     "name": "stdout",
     "output_type": "stream",
     "text": [
      "첫번째 답변 후 history :  [HumanMessage(content='내 이름은 김일남이야. 나이는 99세야', additional_kwargs={}, response_metadata={}), AIMessage(content='그렇군요. 나이가 많으시네요!', additional_kwargs={}, response_metadata={}), HumanMessage(content='내 나이는?', additional_kwargs={}, response_metadata={}), AIMessage(content='99세입니다.', additional_kwargs={}, response_metadata={'prompt_feedback': {'block_reason': 0, 'safety_ratings': []}, 'finish_reason': 'STOP', 'model_name': 'gemini-2.5-flash', 'safety_ratings': []}, id='run--7d8ed818-11e6-4caa-86ef-6f402637106e-0', usage_metadata={'input_tokens': 57, 'output_tokens': 79, 'total_tokens': 136, 'input_token_details': {'cache_read': 0}, 'output_token_details': {'reasoning': 74}})]\n",
      "\n"
     ]
    }
   ],
   "source": [
    "# 답변 생성(response)\n",
    "response = chain.invoke(\n",
    "    {\n",
    "        \"messages\": chat_history.messages,\n",
    "    }\n",
    ")\n",
    "\n",
    "# 대화 히스토리에 답변(response) 저장\n",
    "chat_history.add_ai_message(response)\n",
    "print(chat_history.messages)"
   ]
  },
  {
   "cell_type": "code",
   "execution_count": 21,
   "metadata": {},
   "outputs": [
    {
     "name": "stdout",
     "output_type": "stream",
     "text": [
      "네, 한국말 할 수 있습니다. 무엇을 도와드릴까요?\n",
      "방금 \"한국말 할 수 있어?\"라고 물어보셨습니다.\n"
     ]
    }
   ],
   "source": [
    "chat_history = ChatMessageHistory()\n",
    "\n",
    "while(True):\n",
    "    user_input = input()\n",
    "    if user_input == \"종료\": break\n",
    "    chat_history.add_user_message(user_input)\n",
    "    response = chain.invoke(\n",
    "        {\n",
    "            \"messages\": chat_history.messages,\n",
    "        }\n",
    "    )\n",
    "    chat_history.add_ai_message(response)\n",
    "    print(response.content)"
   ]
  },
  {
   "cell_type": "markdown",
   "metadata": {},
   "source": [
    "### 3. Automatic history management\n",
    "\n",
    "- RunnableWithMessageHistory() 활용하여 메모리 관리"
   ]
  },
  {
   "cell_type": "code",
   "execution_count": 31,
   "metadata": {},
   "outputs": [],
   "source": [
    "prompt = ChatPromptTemplate.from_messages(\n",
    "    [\n",
    "        (\n",
    "            \"system\",\n",
    "            \"You are a helpful assistant. Answer all questions to the best of your ability. YOU MUST ANSWER IN KOREAN.\",\n",
    "        ),\n",
    "        (\"placeholder\", \"{chat_history}\"),\n",
    "        (\"human\", \"{input}\"),\n",
    "    ]\n",
    ")\n",
    "\n",
    "chain = prompt | chat"
   ]
  },
  {
   "cell_type": "code",
   "execution_count": 39,
   "metadata": {},
   "outputs": [],
   "source": [
    "from langchain_core.runnables.history import RunnableWithMessageHistory\n",
    "\n",
    "# 세션별 채팅 히스토리를 저장할 딕셔너리\n",
    "chat_histories = {}\n",
    "\n",
    "def get_chat_history(session_id: str):\n",
    "    if session_id not in chat_histories:\n",
    "        chat_histories[session_id] = ChatMessageHistory()\n",
    "    return chat_histories[session_id]\n",
    "\n",
    "chain_with_message_history = RunnableWithMessageHistory(\n",
    "    chain, # 실행할 Runnable 객체\n",
    "    get_chat_history, # 세션 기록을 가져오는 함수\n",
    "    input_messages_key=\"input\", # 입력 메시지의 Key\n",
    "    history_messages_key=\"chat_history\", # 대화 히스토리 메시지의 Key\n",
    ")"
   ]
  },
  {
   "cell_type": "code",
   "execution_count": 40,
   "metadata": {},
   "outputs": [
    {
     "data": {
      "text/plain": [
       "AIMessage(content='네, 알겠습니다. 김일남 님이시고 99세이시군요.', additional_kwargs={}, response_metadata={'prompt_feedback': {'block_reason': 0, 'safety_ratings': []}, 'finish_reason': 'STOP', 'model_name': 'gemini-2.5-flash', 'safety_ratings': []}, id='run--795ef9aa-a46a-4eb4-be91-7e9d5cdf9ff8-0', usage_metadata={'input_tokens': 41, 'output_tokens': 150, 'total_tokens': 191, 'input_token_details': {'cache_read': 0}, 'output_token_details': {'reasoning': 131}})"
      ]
     },
     "execution_count": 40,
     "metadata": {},
     "output_type": "execute_result"
    }
   ],
   "source": [
    "chain_with_message_history.invoke(\n",
    "    {\"input\": \"내 이름은 김일남이야. 나이는 99세야.\"},\n",
    "    {\"configurable\": {\"session_id\": \"kim1\"}},\n",
    ")"
   ]
  },
  {
   "cell_type": "code",
   "execution_count": 41,
   "metadata": {},
   "outputs": [
    {
     "data": {
      "text/plain": [
       "AIMessage(content='네, 말씀해주셨던 대로 99세이십니다.', additional_kwargs={}, response_metadata={'prompt_feedback': {'block_reason': 0, 'safety_ratings': []}, 'finish_reason': 'STOP', 'model_name': 'gemini-2.5-flash', 'safety_ratings': []}, id='run--ae7b5307-3a2b-494b-b795-cf4fb9081fbe-0', usage_metadata={'input_tokens': 66, 'output_tokens': 53, 'total_tokens': 119, 'input_token_details': {'cache_read': 0}, 'output_token_details': {'reasoning': 38}})"
      ]
     },
     "execution_count": 41,
     "metadata": {},
     "output_type": "execute_result"
    }
   ],
   "source": [
    "chain_with_message_history.invoke(\n",
    "    {\"input\": \"내 나이는?\"}, {\"configurable\": {\"session_id\": \"kim1\"}}\n",
    ")"
   ]
  },
  {
   "cell_type": "code",
   "execution_count": 42,
   "metadata": {},
   "outputs": [
    {
     "data": {
      "text/plain": [
       "AIMessage(content='저는 인공지능이기 때문에 당신의 나이를 알 수 없습니다. 당신이 저에게 나이를 알려주지 않는 한, 저는 그 정보를 가지고 있지 않습니다.', additional_kwargs={}, response_metadata={'prompt_feedback': {'block_reason': 0, 'safety_ratings': []}, 'finish_reason': 'STOP', 'model_name': 'gemini-2.5-flash', 'safety_ratings': []}, id='run--1d3d3d2c-3591-4b70-a415-6aef903c1cb7-0', usage_metadata={'input_tokens': 29, 'output_tokens': 91, 'total_tokens': 120, 'input_token_details': {'cache_read': 0}, 'output_token_details': {'reasoning': 57}})"
      ]
     },
     "execution_count": 42,
     "metadata": {},
     "output_type": "execute_result"
    }
   ],
   "source": [
    "chain_with_message_history.invoke(\n",
    "    {\"input\": \"내 나이는?\"}, {\"configurable\": {\"session_id\": \"kim2\"}}\n",
    ")"
   ]
  },
  {
   "cell_type": "markdown",
   "metadata": {},
   "source": [
    "### 4. Modifying chat history\n",
    "\n",
    "- 이전 대화 요약하기"
   ]
  },
  {
   "cell_type": "code",
   "execution_count": 57,
   "metadata": {},
   "outputs": [
    {
     "data": {
      "text/plain": [
       "[HumanMessage(content='내 이름은 김일남이야.', additional_kwargs={}, response_metadata={}),\n",
       " AIMessage(content='안녕하세요, 김일남님! 무엇을 도와드릴까요?', additional_kwargs={}, response_metadata={}),\n",
       " HumanMessage(content='날씨 좋은 날 들을만 한 노래 추천해주세요.', additional_kwargs={}, response_metadata={}),\n",
       " AIMessage(content='볼빨간사춘기 – 여행을 추천해요.', additional_kwargs={}, response_metadata={})]"
      ]
     },
     "execution_count": 57,
     "metadata": {},
     "output_type": "execute_result"
    }
   ],
   "source": [
    "chat_history = ChatMessageHistory()\n",
    "\n",
    "chat_history.add_user_message(\"내 이름은 김일남이야.\")\n",
    "chat_history.add_ai_message(\"안녕하세요, 김일남님! 무엇을 도와드릴까요?\")\n",
    "chat_history.add_user_message(\"날씨 좋은 날 들을만 한 노래 추천해주세요.\")\n",
    "chat_history.add_ai_message(\"볼빨간사춘기 – 여행을 추천해요.\")\n",
    "\n",
    "chat_history.messages\n",
    "# chat_history.clear()"
   ]
  },
  {
   "cell_type": "code",
   "execution_count": 58,
   "metadata": {},
   "outputs": [],
   "source": [
    "prompt = ChatPromptTemplate.from_messages(\n",
    "    [\n",
    "        (\n",
    "            \"system\",\n",
    "            \"You are a helpful assistant. Answer all questions to the best of your ability. The provided chat history includes facts about the user you are speaking with. YOU MUST ANSWER IN KOREAN.\",\n",
    "        ),\n",
    "        (\"placeholder\", \"{chat_history}\"),\n",
    "        (\"user\", \"{input}\"),\n",
    "    ]\n",
    ")\n",
    "\n",
    "chain = prompt | chat\n",
    "\n",
    "chain_with_message_history = RunnableWithMessageHistory(\n",
    "    chain,\n",
    "    lambda session_id: chat_history,\n",
    "    input_messages_key=\"input\",\n",
    "    history_messages_key=\"chat_history\",\n",
    ")"
   ]
  },
  {
   "cell_type": "code",
   "execution_count": 59,
   "metadata": {},
   "outputs": [],
   "source": [
    "from langchain_core.runnables import RunnablePassthrough\n",
    "\n",
    "def summarize_messages(chain_input):\n",
    "    stored_messages = chat_history.messages\n",
    "    if len(stored_messages) == 0:\n",
    "        return False\n",
    "    summarization_prompt = ChatPromptTemplate.from_messages(\n",
    "        [\n",
    "            (\"placeholder\", \"{chat_history}\"),\n",
    "            (\n",
    "                \"user\",\n",
    "                \"Distill the above chat messages into a single summary message. Include as many specific details as you can.\",\n",
    "            ),\n",
    "        ]\n",
    "    )\n",
    "    summarization_chain = summarization_prompt | chat\n",
    "\n",
    "    # chat_history 에 저장된 대화 기록을 요약프롬프트에 입력 & 결과 저장\n",
    "    summary_message = summarization_chain.invoke({\"chat_history\": stored_messages})\n",
    "\n",
    "    print(\"summary_message: \",summary_message)\n",
    "    \n",
    "    # chat_history 에 저장되어있던 기록 지우기\n",
    "    chat_history.clear()\n",
    "\n",
    "    # 생성된 새로운 요약내용으로 기록 채우기\n",
    "    chat_history.add_message(summary_message)\n",
    "\n",
    "    return True\n",
    "\n",
    "chain_with_summarization = (\n",
    "    RunnablePassthrough.assign(messages_summarized=summarize_messages)\n",
    "    | chain_with_message_history\n",
    ")"
   ]
  },
  {
   "cell_type": "code",
   "execution_count": 60,
   "metadata": {},
   "outputs": [
    {
     "name": "stdout",
     "output_type": "stream",
     "text": [
      "summary_message:  content=\"김일남님이 자신의 이름을 밝힌 후, 날씨 좋은 날 들을 만한 노래를 추천해달라고 요청했고, 이에 대해 볼빨간사춘기의 '여행'이 추천되었습니다.\" additional_kwargs={} response_metadata={'prompt_feedback': {'block_reason': 0, 'safety_ratings': []}, 'finish_reason': 'STOP', 'model_name': 'gemini-2.5-flash', 'safety_ratings': []} id='run--aa8bfdf8-56ba-4b48-80ef-55b63130a459-0' usage_metadata={'input_tokens': 71, 'output_tokens': 508, 'total_tokens': 579, 'input_token_details': {'cache_read': 0}, 'output_token_details': {'reasoning': 466}}\n"
     ]
    },
    {
     "data": {
      "text/plain": [
       "AIMessage(content='김일남님이십니다.', additional_kwargs={}, response_metadata={'prompt_feedback': {'block_reason': 0, 'safety_ratings': []}, 'finish_reason': 'STOP', 'model_name': 'gemini-2.5-flash', 'safety_ratings': []}, id='run--3b3ff337-be20-423d-b6d7-142dcc2738c7-0', usage_metadata={'input_tokens': 86, 'output_tokens': 83, 'total_tokens': 169, 'input_token_details': {'cache_read': 0}, 'output_token_details': {'reasoning': 76}})"
      ]
     },
     "execution_count": 60,
     "metadata": {},
     "output_type": "execute_result"
    }
   ],
   "source": [
    "chain_with_summarization.invoke(\n",
    "    {\"input\": \"내 이름은?\"},\n",
    "    {\"configurable\": {\"session_id\": \"unused\"}},\n",
    ")"
   ]
  },
  {
   "cell_type": "code",
   "execution_count": 61,
   "metadata": {},
   "outputs": [
    {
     "name": "stdout",
     "output_type": "stream",
     "text": [
      "summary_message:  content='The user, Kim Il-nam, asked the AI to confirm their name, to which the AI responded, \"김일남님이십니다.\" This interaction followed a previous exchange where Kim Il-nam had revealed their name and requested a song recommendation for a nice weather day, for which Bolbbalgan4\\'s \\'여행\\' (Travel) was suggested.' additional_kwargs={} response_metadata={'prompt_feedback': {'block_reason': 0, 'safety_ratings': []}, 'finish_reason': 'STOP', 'model_name': 'gemini-2.5-flash', 'safety_ratings': []} id='run--22df2cb1-dbf1-466a-9a36-aeae78852b46-0' usage_metadata={'input_tokens': 78, 'output_tokens': 900, 'total_tokens': 978, 'input_token_details': {'cache_read': 0}, 'output_token_details': {'reasoning': 826}}\n"
     ]
    },
    {
     "data": {
      "text/plain": [
       "AIMessage(content='볼빨간사춘기는 여성 듀오였고, 현재는 안지영님 혼자 활동하는 여성 솔로 가수입니다.', additional_kwargs={}, response_metadata={'prompt_feedback': {'block_reason': 0, 'safety_ratings': []}, 'finish_reason': 'STOP', 'model_name': 'gemini-2.5-flash', 'safety_ratings': []}, id='run--56c0f4a2-00bf-4902-846b-22dd32a088d8-0', usage_metadata={'input_tokens': 126, 'output_tokens': 226, 'total_tokens': 352, 'input_token_details': {'cache_read': 0}, 'output_token_details': {'reasoning': 197}})"
      ]
     },
     "execution_count": 61,
     "metadata": {},
     "output_type": "execute_result"
    }
   ],
   "source": [
    "chain_with_summarization.invoke(\n",
    "    {\"input\": \"그 가수는 남자인가요 여자인가요?\"},\n",
    "    {\"configurable\": {\"session_id\": \"unused\"}},\n",
    ")"
   ]
  },
  {
   "cell_type": "markdown",
   "metadata": {},
   "source": [
    "### 끝말잇기 게임"
   ]
  },
  {
   "cell_type": "code",
   "execution_count": 11,
   "metadata": {},
   "outputs": [
    {
     "data": {
      "text/plain": [
       "[]"
      ]
     },
     "execution_count": 11,
     "metadata": {},
     "output_type": "execute_result"
    }
   ],
   "source": [
    "from langchain_community.chat_message_histories import ChatMessageHistory\n",
    "from langchain_core.prompts import ChatPromptTemplate\n",
    "from langchain_core.runnables.history import RunnableWithMessageHistory\n",
    "\n",
    "\n",
    "# 대화 기록을 저장할 히스토리 클래스 불러오기\n",
    "chat_history = ChatMessageHistory()\n",
    "\n",
    "# chat_history.add_user_message(\"끝말잇기 하자\")\n",
    "# chat_history.add_ai_message(\"좋습니다. 제가 먼저 시작할게요. 바나나!\")\n",
    "# chat_history.add_user_message(\"나이테\")\n",
    "# chat_history.add_ai_message(\"테이프\")\n",
    "\n",
    "chat_history.messages"
   ]
  },
  {
   "cell_type": "code",
   "execution_count": null,
   "metadata": {},
   "outputs": [],
   "source": [
    "prompt = ChatPromptTemplate.from_messages(\n",
    "    [\n",
    "        (\n",
    "            \"system\",\n",
    "            \"\"\"당신은 끝말잇기 게임을 진행하는 AI 챗봇입니다. 아래는 게임 규칙입니다. 당신과 user 의 입력에서 아래 규칙이 꼭 지켜져야 하며, 지키지 않은 사람에게 패배를 알린 뒤, 끝말잇기 게임을 종료합니다.\n",
    "                1. 주어진 대화 기록에서 이미 나왔던 단어를 다시 말했을 경우 패배합니다.\n",
    "                2. 두음법칙을 허용합니다. (ex. 리 -> 이, 력 -> 역, 락 -> 낙)\n",
    "                3. 국어사전에 존재하는 단어이자, 명사여야 합니다.\n",
    "                4. 아무런 설명 없이, 끝말잇기 단어만 한글로 한 단어만 출력하세요.\n",
    "            \"\"\",\n",
    "        ),\n",
    "        (\"placeholder\", \"{chat_history}\"),\n",
    "        (\"user\", \"{input}\"),\n",
    "    ]\n",
    ")\n",
    "\n",
    "chain = prompt | chat\n",
    "\n",
    "chain_with_message_history = RunnableWithMessageHistory(\n",
    "    chain,\n",
    "    lambda session_id: chat_history,\n",
    "    input_messages_key=\"input\",\n",
    "    history_messages_key=\"chat_history\",\n",
    ")"
   ]
  },
  {
   "cell_type": "code",
   "execution_count": null,
   "metadata": {},
   "outputs": [],
   "source": [
    "from langchain_core.runnables import RunnablePassthrough\n",
    "\n",
    "def summarize_messages(chain_input):\n",
    "    stored_messages = chat_history.messages\n",
    "    if len(stored_messages) == 0:\n",
    "        return False\n",
    "    summarization_prompt = ChatPromptTemplate.from_messages(\n",
    "        [\n",
    "            (\"placeholder\", \"{chat_history}\"),\n",
    "            (\n",
    "                \"user\",\n",
    "                \"위 채팅 메시지는 끝말잇기 게임을 진행한 대화내용입니다. 언급한 단어들만 나열하여 저장해주세요.\",\n",
    "            ),\n",
    "        ]\n",
    "    )\n",
    "    summarization_chain = summarization_prompt | chat\n",
    "\n",
    "    # chat_history 에 저장된 대화 기록을 요약프롬프트에 입력 & 결과 저장\n",
    "    summary_message = summarization_chain.invoke({\"chat_history\": stored_messages})\n",
    "\n",
    "    # chat_history 에 저장되어있던 기록 지우기\n",
    "    chat_history.clear()\n",
    "\n",
    "    # 생성된 새로운 요약내용으로 기록 채우기\n",
    "    chat_history.add_message(summary_message)\n",
    "\n",
    "    return True\n",
    "\n",
    "\n",
    "chain_with_summarization = (\n",
    "    RunnablePassthrough.assign(messages_summarized=summarize_messages)\n",
    "    | chain_with_message_history\n",
    ")"
   ]
  },
  {
   "cell_type": "code",
   "execution_count": null,
   "metadata": {},
   "outputs": [
    {
     "name": "stdout",
     "output_type": "stream",
     "text": [
      "✍ AI TURN :  나라\n",
      "✍ AI TURN :  면허\n",
      "✍ AI TURN :  네, 좋습니다. 다음은 '가방'입니다.\n",
      "✍ AI TURN :  방문 잘하셨습니다! 다음은 '문화'입니다.\n",
      "✍ AI TURN :  네, '화분' 좋습니다!\n",
      "\n",
      "제가 이어서 '분위기'로 하겠습니다.\n",
      "\n",
      "끝말잇기 게임에서 언급된 단어들은 다음과 같습니다:\n",
      "\n",
      "*   바나나\n",
      "*   나라\n",
      "*   라면\n",
      "*   면허\n",
      "*   허가\n",
      "*   가방\n",
      "*   방문\n",
      "*   문화\n",
      "*   화분\n",
      "*   분위기\n",
      "✍ AI TURN :  네, '기술' 잘 받았습니다.\n",
      "\n",
      "저는 '술잔'으로 이어가겠습니다.\n",
      "\n",
      "현재까지 사용된 단어:\n",
      "바나나, 나라, 라면, 면허, 허가, 가방, 방문, 문화, 화분, 분위기, 기술, 술잔\n",
      "✍ AI TURN :  네, '잔치' 좋습니다!\n",
      "\n",
      "다음은 '치마'입니다.\n",
      "✍ AI TURN :  네, '마차' 좋습니다! 다음은 '차량'입니다.\n",
      "✍ AI TURN :  '양가' 좋습니다!\n",
      "\n",
      "제가 말할 차례군요.\n",
      "\n",
      "**가구**\n",
      "✍ AI TURN :  네, '구슬' 잘 받았습니다.\n",
      "\n",
      "다음은 '슬픔'입니다.\n",
      "✍ AI TURN :  죄송합니다. '픔퍼노우'는 국어사전에 등재되어 있지 않은 단어입니다.\n",
      "\n",
      "규칙 3번 \"국어사전에 존재하는 단어이자, 명사여야 합니다.\" 에 따라, 유효하지 않은 단어를 말씀하셨으므로 **패배하셨습니다.**\n",
      "\n",
      "끝말잇기 게임을 종료합니다.\n"
     ]
    }
   ],
   "source": [
    "while(True):\n",
    "    user_input = input(\"🧑 YOUR TURN : \")\n",
    "    if user_input == \"종료\": break\n",
    "    response = chain_with_summarization.invoke(\n",
    "                {\"input\": user_input},\n",
    "                {\"configurable\": {\"session_id\": \"unused\"}},\n",
    "            )\n",
    "    print(\"🤖 AI TURN : \", response.content)"
   ]
  }
 ],
 "metadata": {
  "kernelspec": {
   "display_name": ".venv",
   "language": "python",
   "name": "python3"
  },
  "language_info": {
   "codemirror_mode": {
    "name": "ipython",
    "version": 3
   },
   "file_extension": ".py",
   "mimetype": "text/x-python",
   "name": "python",
   "nbconvert_exporter": "python",
   "pygments_lexer": "ipython3",
   "version": "3.13.5"
  }
 },
 "nbformat": 4,
 "nbformat_minor": 2
}
