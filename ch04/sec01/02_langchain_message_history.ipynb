{
 "cells": [
  {
   "cell_type": "markdown",
   "id": "0517c8fc",
   "metadata": {},
   "source": [
    "## LangChain의 RunnableWithMessageHistory 사용하여 체계적으로 세션별 대화 기록 관리"
   ]
  },
  {
   "cell_type": "markdown",
   "id": "d2f79040",
   "metadata": {},
   "source": [
    "**`01_langchain_multi_turn.ipynb`와의 차이점**:\n",
    "\n",
    "*   **자동화된 기록 관리**: 이전 노트북에서는 `messages` 리스트를 개발자가 수동으로 관리하고 LLM에 전달해야 했다. 하지만 이 노트북에서는 `RunnableWithMessageHistory`가 이 과정을 자동화하여, `session_id`만 제공하면 자동으로 해당 세션의 대화 기록을 관리해준다.\n",
    "*   **세션 관리**: `store` 딕셔너리와 `get_session_history` 함수를 통해 여러 독립적인 대화 세션을 동시에 관리할 수 있게 되어, 실제 다중 사용자 환경이나 여러 대화 흐름을 처리하는 데 더 적합하다.\n",
    "*   **재사용성 및 모듈화**: `RunnableWithMessageHistory`를 사용함으로써 대화 기록 로직이 LLM 호출과 분리되어 코드가 더 깔끔하고 재사용 가능하며 유지보수가 용이해진다."
   ]
  },
  {
   "cell_type": "markdown",
   "id": "8a5aa01d",
   "metadata": {},
   "source": [
    "### 환경 변수 설정"
   ]
  },
  {
   "cell_type": "code",
   "execution_count": 1,
   "id": "12ab75d4",
   "metadata": {},
   "outputs": [],
   "source": [
    "import os\n",
    "from dotenv import load_dotenv\n",
    "load_dotenv()\n",
    "\n",
    "gemini_api_key = os.getenv(\"GEMINI_API_KEY\")"
   ]
  },
  {
   "cell_type": "code",
   "execution_count": null,
   "id": "6bb66f45",
   "metadata": {},
   "outputs": [],
   "source": [
    "\n",
    "from langchain_core.chat_history import InMemoryChatMessageHistory  # 메모리에 대화 기록을 저장하는 클래스. 실제 애플리케이션에서는 데이터베이스나 캐시 등을 사용하기도 함.\n",
    "from langchain_core.runnables.history import RunnableWithMessageHistory  # LLM이나 다른 Runnable 객체에 대화 기록을 자동으로 연결해주는 래퍼(wrapper) 클래스. 개발자가 수동으로 대화 기록을 관리하고 LLM에 전달하는 번거로움 방지.\n",
    "\n",
    "from langchain_google_genai import ChatGoogleGenerativeAI\n",
    "from langchain_core.messages import HumanMessage\n",
    "\n",
    "llm = ChatGoogleGenerativeAI(model=\"gemini-2.5-flash\", google_api_key=gemini_api_key)"
   ]
  },
  {
   "cell_type": "markdown",
   "id": "927c2a73",
   "metadata": {},
   "source": [
    "### 세션별 대화 기록 기능"
   ]
  },
  {
   "cell_type": "code",
   "execution_count": null,
   "id": "53261a63",
   "metadata": {},
   "outputs": [],
   "source": [
    "store = {} # 세션별 대화 기록을 저장할 딕셔너리\n",
    "\n",
    "# 세션 ID에 따라 대화 기록을 가져오는 함수\n",
    "def get_session_history(session_id: str):\n",
    "    # 만약 해당 세션 ID가 store에 없으면, 새로 생성해 추가함\n",
    "    if session_id not in store:\n",
    "        store[session_id] = InMemoryChatMessageHistory()  # 메모리에 대화 기록을 저장하는 객체 생성\n",
    "    return store[session_id]  # 해당 세션의 대화 기록을 반환\n",
    "\n",
    "# 모델 실행 시 대화 기록을 함께 전달하는 래퍼 객체 생성\n",
    "with_message_history = RunnableWithMessageHistory(llm, get_session_history)"
   ]
  },
  {
   "cell_type": "code",
   "execution_count": null,
   "id": "9c7d3845",
   "metadata": {},
   "outputs": [
    {
     "name": "stdout",
     "output_type": "stream",
     "text": [
      "안녕하세요, 김일남님! 만나서 반갑습니다. 저는 인공지능 어시스턴트입니다.\n",
      "\n",
      "무엇을 도와드릴까요? 편하게 말씀해주세요.\n"
     ]
    }
   ],
   "source": [
    "config = {\"configurable\": {\"session_id\": \"kim1\"}}  # 세션 ID 설정\n",
    "\n",
    "response = with_message_history.invoke(\n",
    "    [HumanMessage(content=\"안녕? 난 김일남이야.\")],\n",
    "    config=config,\n",
    ")\n",
    "\n",
    "print(response.content)"
   ]
  },
  {
   "cell_type": "code",
   "execution_count": 6,
   "id": "43dd16ca",
   "metadata": {},
   "outputs": [
    {
     "name": "stdout",
     "output_type": "stream",
     "text": [
      "네, 김일남님이세요.\n"
     ]
    }
   ],
   "source": [
    "response = with_message_history.invoke(\n",
    "    [HumanMessage(content=\"내 이름이 뭐지?\")],\n",
    "    config=config,\n",
    ")\n",
    "\n",
    "print(response.content)"
   ]
  },
  {
   "cell_type": "code",
   "execution_count": 7,
   "id": "77fe2222",
   "metadata": {},
   "outputs": [
    {
     "data": {
      "text/plain": [
       "'저는 당신의 이름을 알 수 없습니다.\\n\\n저는 사용자의 개인 정보를 저장하거나 접근할 수 없는 인공지능이기 때문입니다. 저에게는 별도의 이름이 없으며, 저는 대규모 언어 모델입니다.'"
      ]
     },
     "execution_count": 7,
     "metadata": {},
     "output_type": "execute_result"
    }
   ],
   "source": [
    "config = {\"configurable\": {\"session_id\": \"kim2\"}}\n",
    "\n",
    "response = with_message_history.invoke(\n",
    "    [HumanMessage(content=\"내 이름이 뭐지?\")],\n",
    "    config=config,\n",
    ")\n",
    "\n",
    "response.content"
   ]
  },
  {
   "cell_type": "markdown",
   "id": "8961b7c9",
   "metadata": {},
   "source": [
    "### invoke() 메서드 사용\n",
    "\n",
    "+ 단일 응답 (모든 처리 후 최종 결과 반환)\n",
    "+ 최종 결과가 한 번에 필요한 경우"
   ]
  },
  {
   "cell_type": "code",
   "execution_count": 8,
   "id": "fb6933a4",
   "metadata": {},
   "outputs": [
    {
     "data": {
      "text/plain": [
       "'방금 전 대화는 **당신의 이름에 대한 질문**이었습니다.\\n\\n제가 당신의 이름을 알 수 없으며, 저는 개인 정보를 저장하지 않는 인공지능이라는 점을 설명해 드렸습니다.\\n\\n저는 이전 대화 내용을 지속적으로 기억하지 못하고, 각 질문에 대해 새롭게 응답하는 인공지능이기 때문에, 방금 전 질문과 답변 외에는 이전의 대화 내용을 정확히 알기 어렵습니다.'"
      ]
     },
     "execution_count": 8,
     "metadata": {},
     "output_type": "execute_result"
    }
   ],
   "source": [
    "config = {\"configurable\": {\"session_id\": \"kim2\"}}\n",
    "\n",
    "response = with_message_history.invoke(\n",
    "    [HumanMessage(content=\"아까 우리가 무슨 얘기 했지?\")],\n",
    "    config=config,\n",
    ")\n",
    "\n",
    "response.content"
   ]
  },
  {
   "cell_type": "markdown",
   "id": "88ad6d01",
   "metadata": {},
   "source": [
    "### stream() 메서드 사용\n",
    "\n",
    "+ 스트리밍 응답 (조각 단위로 실시간 반환)\n",
    "+ 긴 응답을 실시간으로 보여주거나 빠른 피드백이 필요한 경우 유용함\n",
    "+ for 루프를 통해 각 조각을 순차적 처리\n"
   ]
  },
  {
   "cell_type": "code",
   "execution_count": 9,
   "id": "b501a185",
   "metadata": {},
   "outputs": [
    {
     "name": "stdout",
     "output_type": "stream",
     "text": [
      "김일남이라는 성함으로 미루어 짐작컨대, **한국분**이실 가능성이 매우 높습니다.\n",
      "\n",
      "'김(金)'은 한국에서 가장 흔한| 성씨이며, '일남(一男)' 또한 한국에서 사용되는 이름이기 때문입니다.\n",
      "\n",
      "그럼 한국 문화에 대해 간략히 소개해 드릴게요.\n",
      "\n",
      "---\n",
      "\n",
      "### 한국 문화의 특징\n",
      "\n",
      "1.  **가족| 및 유교적 가치:**\n",
      "    *   한국 문화는 전통적으로 유교 사상의 영향을 많이 받아 가족 공동체를 매우 중요하게 여깁니다.\n",
      "    *   **효(孝)**를 중시하여 부모님과| 어른을 공경하는 것을 중요한 가치로 생각합니다.\n",
      "    *   나이와 서열을 중시하는 경향이 있으며, 이에 따라 언어(존댓말)와 행동에도 영향을 미칩니다.\n",
      "\n",
      "2|.  **음식 문화:**\n",
      "    *   **김치**는 한국인의 밥상에서 빠질 수 없는 대표 음식이며, 발효 식품으로 건강식으로도 알려져 있습니다.\n",
      "    *   다양한 **반|찬**과 함께 밥을 주식으로 하며, 찌개, 국, 찜, 구이 등 다채로운 조리법이 발달했습니다.\n",
      "    *   함께 음식을 나누는 **공동체|적인 식사 문화**가 발달해 있습니다.\n",
      "\n",
      "3.  **한류(韓流)의 확산:**\n",
      "    *   최근 몇 년간 **K-POP, K-드라마, 한국 영화** 등이| 전 세계적으로 큰 인기를 얻으며 '한류'라는 신조어를 만들어냈습니다.\n",
      "    *   이러한 대중문화는 한국의 소프트 파워를 상징하며, 한국 문화에 대한 세계인의 관심을| 높이는 데 기여하고 있습니다.\n",
      "\n",
      "4.  **예절 및 인사:**\n",
      "    *   상대방에 대한 존중을 표현하는 **인사(고개 숙여 인사하기)**가 일상화되어 있습니다.\n",
      "|    *   나이나 지위에 따라 **존댓말(높임말)**과 반말을 구분하여 사용하는 언어 예절이 중요합니다.\n",
      "\n",
      "5.  **전통과 현대의 조화:**\n",
      "    *   **한|복(韓服)**이라는 아름다운 전통 의상, **한옥(韓屋)**이라는 독특한 건축 양식 등 전통문화를 보존하고 있습니다.\n",
      "    *   동시에 IT 강국으로 불릴 만큼 **|첨단 기술**이 발달하고, 변화에 빠르게 적응하며 발전하는 역동적인 모습을 보입니다.\n",
      "\n",
      "6.  **교육열:**\n",
      "    *   한국 사회는 예로부터 교육에 대한 열의가 매우 높|습니다. 자녀의 교육을 위해 많은 투자를 아끼지 않으며, 학업 성취를 중요하게 생각하는 경향이 있습니다.\n",
      "\n",
      "---\n",
      "\n",
      "물론 한국 문화는 이 외에도 매우 다양하고 깊이가 있습니다.| 제가 설명드린 부분이 김일남님께 흥미로운 정보가 되었기를 바랍니다!|"
     ]
    }
   ],
   "source": [
    "config = {\"configurable\": {\"session_id\": \"kim1\"}}\n",
    "for r in with_message_history.stream(\n",
    "    [HumanMessage(content = \"내가 어느 나라 사람인지 맞춰보고, 그 나라의 문화에 대해 말해봐\")],\n",
    "    config=config,\n",
    "):\n",
    "    print(r.content, end=\"|\") # 스트림 방식 출력을 확인하기 위해 end 속성 지정"
   ]
  }
 ],
 "metadata": {
  "kernelspec": {
   "display_name": ".venv",
   "language": "python",
   "name": "python3"
  },
  "language_info": {
   "codemirror_mode": {
    "name": "ipython",
    "version": 3
   },
   "file_extension": ".py",
   "mimetype": "text/x-python",
   "name": "python",
   "nbconvert_exporter": "python",
   "pygments_lexer": "ipython3",
   "version": "3.13.5"
  }
 },
 "nbformat": 4,
 "nbformat_minor": 5
}
